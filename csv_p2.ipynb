{
 "cells": [
  {
   "cell_type": "code",
   "execution_count": 1,
   "id": "4cdaca06",
   "metadata": {},
   "outputs": [
    {
     "name": "stderr",
     "output_type": "stream",
     "text": [
      "C:\\d\\anaconda\\envs\\tensorflow\\lib\\site-packages\\IPython\\core\\interactiveshell.py:3072: DtypeWarning: Columns (80,81,83) have mixed types.Specify dtype option on import or set low_memory=False.\n",
      "  interactivity=interactivity, compiler=compiler, result=result)\n"
     ]
    },
    {
     "name": "stdout",
     "output_type": "stream",
     "text": [
      "Label\n",
      "Benign                      190596\n",
      "DoS attacks-Hulk            161669\n",
      "DDOS attack-HOIC            123482\n",
      "FTP-BruteForce               96680\n",
      "SSH-Bruteforce               93794\n",
      "DDoS attacks-LOIC-HTTP       86428\n",
      "Infilteration                80968\n",
      "Bot                          71548\n",
      "DoS attacks-SlowHTTPTest     48962\n",
      "DoS attacks-GoldenEye        33206\n",
      "DoS attacks-Slowloris         8792\n",
      "DDOS attack-LOIC-UDP          1730\n",
      "Brute Force -Web               362\n",
      "Brute Force -XSS               151\n",
      "SQL Injection                   53\n",
      "dtype: int64\n"
     ]
    }
   ],
   "source": [
    "import numpy as np\n",
    "import pandas as pd\n",
    "from sklearn.model_selection import train_test_split\n",
    "from sklearn.preprocessing import MinMaxScaler, StandardScaler\n",
    "from sklearn.metrics import classification_report\n",
    "from sklearn.svm import OneClassSVM\n",
    "from numpy import array\n",
    "from numpy import argmax\n",
    "from sklearn.preprocessing import LabelEncoder\n",
    "from sklearn.preprocessing import OneHotEncoder\n",
    "\n",
    "dataset=pd.read_csv(r\"C:\\e\\学习资料\\02-03\\data\\data_process\\integration_a.csv\")\n",
    "print (dataset.value_counts('Label'))"
   ]
  },
  {
   "cell_type": "code",
   "execution_count": 2,
   "id": "6bfb6052",
   "metadata": {},
   "outputs": [
    {
     "name": "stdout",
     "output_type": "stream",
     "text": [
      "(998421, 80)\n"
     ]
    }
   ],
   "source": [
    "dataset.drop('Flow ID',axis=1,inplace=True)\n",
    "dataset.drop('Src IP',axis=1,inplace=True)\n",
    "dataset.drop('Src Port',axis=1,inplace=True)\n",
    "dataset.drop('Dst IP',axis=1,inplace=True)\n",
    "print ( dataset.shape)"
   ]
  },
  {
   "cell_type": "code",
   "execution_count": 3,
   "id": "f2c17bd7",
   "metadata": {},
   "outputs": [
    {
     "name": "stdout",
     "output_type": "stream",
     "text": [
      "(499210, 80)\n",
      "(499211, 80)\n"
     ]
    }
   ],
   "source": [
    "dt1=dataset.groupby('Label').apply(pd.DataFrame.sample, frac=0.5).reset_index(level='Label', drop=True)\n",
    "dt2=dataset.drop(dt1.index)\n",
    "print (dt1.shape)\n",
    "print  ( dt2.shape)"
   ]
  },
  {
   "cell_type": "code",
   "execution_count": 4,
   "id": "e42254d6",
   "metadata": {},
   "outputs": [
    {
     "name": "stdout",
     "output_type": "stream",
     "text": [
      "(249603, 80)\n",
      "(249607, 80)\n",
      "(249605, 80)\n",
      "(249606, 80)\n"
     ]
    }
   ],
   "source": [
    "s1=dt1.groupby('Label').apply(pd.DataFrame.sample, frac=0.5).reset_index(level='Label', drop=True)\n",
    "s2=dt1.drop(s1.index)\n",
    "print (s1.shape)\n",
    "print  ( s2.shape)\n",
    "s3=dt2.groupby('Label').apply(pd.DataFrame.sample, frac=0.5).reset_index(level='Label', drop=True)\n",
    "s4=dt2.drop(s3.index)\n",
    "print (s3.shape)\n",
    "print  ( s4.shape)"
   ]
  },
  {
   "cell_type": "code",
   "execution_count": 5,
   "id": "515a0416",
   "metadata": {},
   "outputs": [
    {
     "name": "stdout",
     "output_type": "stream",
     "text": [
      "(249603, 78)\n",
      "(249607, 78)\n",
      "(249605, 78)\n",
      "(249606, 78)\n"
     ]
    }
   ],
   "source": [
    "s1.drop('Protocol',axis=1,inplace=True)\n",
    "s1.drop('Dst Port',axis=1,inplace=True)\n",
    "s2.drop('Protocol',axis=1,inplace=True)\n",
    "s2.drop('Dst Port',axis=1,inplace=True)\n",
    "s3.drop('Protocol',axis=1,inplace=True)\n",
    "s3.drop('Dst Port',axis=1,inplace=True)\n",
    "s4.drop('Protocol',axis=1,inplace=True)\n",
    "s4.drop('Dst Port',axis=1,inplace=True)\n",
    "print (s1.shape)\n",
    "print  ( s2.shape)\n",
    "print (s3.shape)\n",
    "print  ( s4.shape)"
   ]
  },
  {
   "cell_type": "code",
   "execution_count": 7,
   "id": "1331a50f",
   "metadata": {},
   "outputs": [
    {
     "name": "stdout",
     "output_type": "stream",
     "text": [
      "done\n"
     ]
    }
   ],
   "source": [
    "s1.to_csv (r\"C:\\e\\学习资料\\02-03\\data\\data_process\\split1.csv\", header=True,index=0 )\n",
    "s2.to_csv (r\"C:\\e\\学习资料\\02-03\\data\\data_process\\split2.csv\", header=True,index=0 )\n",
    "s3.to_csv (r\"C:\\e\\学习资料\\02-03\\data\\data_process\\split3.csv\", header=True,index=0 )\n",
    "s4.to_csv (r\"C:\\e\\学习资料\\02-03\\data\\data_process\\split4.csv\", header=True,index=0 )\n",
    "print ('done')"
   ]
  },
  {
   "cell_type": "code",
   "execution_count": 2,
   "id": "4e2e1f8e",
   "metadata": {},
   "outputs": [
    {
     "name": "stdout",
     "output_type": "stream",
     "text": [
      "(249603, 78)\n"
     ]
    }
   ],
   "source": [
    "import numpy as np\n",
    "import pandas as pd\n",
    "from sklearn.model_selection import train_test_split\n",
    "from sklearn.preprocessing import MinMaxScaler, StandardScaler\n",
    "from sklearn.metrics import classification_report\n",
    "from sklearn.svm import OneClassSVM\n",
    "from numpy import array\n",
    "from numpy import argmax\n",
    "from sklearn.preprocessing import LabelEncoder\n",
    "from sklearn.preprocessing import OneHotEncoder\n",
    "data1=pd.read_csv(r\"C:\\e\\学习资料\\02-03\\data\\data_process\\split1.csv\")\n",
    "print (data1.shape )"
   ]
  },
  {
   "cell_type": "code",
   "execution_count": 3,
   "id": "ec8126cf",
   "metadata": {},
   "outputs": [
    {
     "name": "stdout",
     "output_type": "stream",
     "text": [
      "Benign                      47649\n",
      "DoS attacks-Hulk            40417\n",
      "DDOS attack-HOIC            30870\n",
      "FTP-BruteForce              24170\n",
      "SSH-Bruteforce              23448\n",
      "DDoS attacks-LOIC-HTTP      21607\n",
      "Infilteration               20242\n",
      "Bot                         17887\n",
      "DoS attacks-SlowHTTPTest    12240\n",
      "DoS attacks-GoldenEye        8302\n",
      "DoS attacks-Slowloris        2198\n",
      "DDOS attack-LOIC-UDP          432\n",
      "Brute Force -Web               90\n",
      "Brute Force -XSS               38\n",
      "SQL Injection                  13\n",
      "Name: Label, dtype: int64\n",
      "['Benign' 'Benign' 'Benign' ... 'SSH-Bruteforce' 'SSH-Bruteforce'\n",
      " 'SSH-Bruteforce']\n",
      "[[1. 0. 0. ... 0. 0. 0.]\n",
      " [1. 0. 0. ... 0. 0. 0.]\n",
      " [1. 0. 0. ... 0. 0. 0.]\n",
      " ...\n",
      " [0. 0. 0. ... 0. 0. 1.]\n",
      " [0. 0. 0. ... 0. 0. 1.]\n",
      " [0. 0. 0. ... 0. 0. 1.]]\n"
     ]
    }
   ],
   "source": [
    "labelt=data1.Label.copy()\n",
    "print ( labelt.value_counts())\n",
    "arrs=labelt.values\n",
    "d1=np.array(arrs)\n",
    "values = array(d1)\n",
    "print(values)\n",
    "# integer encode\n",
    "label_encoder = LabelEncoder()\n",
    "integer_encoded = label_encoder.fit_transform(values)\n",
    "data3 = pd.DataFrame(integer_encoded) # header:原第一行的索引，index:原第一列的索引\n",
    "#data3.to_csv(r\"E:\\学习心得\\data\\cic-ids2018\\02-03\\ptrain1\\ptrain2_sli2_labeln.csv\",header=None,index=0)\n",
    "# # binary encode\n",
    "onehot_encoder = OneHotEncoder(sparse=False)\n",
    "integer_encoded = integer_encoded.reshape(len(integer_encoded), 1)\n",
    "onehot_encoded = onehot_encoder.fit_transform(integer_encoded)\n",
    "print(onehot_encoded)\n",
    "data4 = pd.DataFrame(onehot_encoded) # header:原第一行的索引，index:原第一列的索引\n",
    "#data4.to_csv(r\"E:\\学习心得\\data\\cic-ids2018\\02-03\\ptrain1\\tr1\\t\\f2_label.csv\",header=None,index=0)"
   ]
  },
  {
   "cell_type": "code",
   "execution_count": 4,
   "id": "ed54f614",
   "metadata": {},
   "outputs": [],
   "source": [
    "data4.to_csv(r\"C:\\e\\学习资料\\02-03\\data\\data_process\\split1_label.csv\",header=None,index=0)\n"
   ]
  },
  {
   "cell_type": "code",
   "execution_count": 5,
   "id": "ac042200",
   "metadata": {},
   "outputs": [],
   "source": [
    "dt2=pd.read_csv(r\"C:\\e\\学习资料\\02-03\\data\\data_process\\split2.csv\")"
   ]
  },
  {
   "cell_type": "code",
   "execution_count": 7,
   "id": "bd1e0881",
   "metadata": {},
   "outputs": [
    {
     "name": "stdout",
     "output_type": "stream",
     "text": [
      "(49921, 78)\n",
      "(199686, 78)\n"
     ]
    }
   ],
   "source": [
    "s1=dt2.groupby('Label').apply(pd.DataFrame.sample, frac=0.2).reset_index(level='Label', drop=True)\n",
    "s2=dt2.drop ( s1.index )\n",
    "print ( s1.shape )\n",
    "print ( s2.shape )"
   ]
  },
  {
   "cell_type": "code",
   "execution_count": 8,
   "id": "148a653c",
   "metadata": {},
   "outputs": [],
   "source": [
    "s1.to_csv(r\"C:\\e\\学习资料\\02-03\\data\\data_process\\split2_s1.csv\", header=True,index=0 )\n",
    "s2.to_csv(r\"C:\\e\\学习资料\\02-03\\data\\data_process\\split2_s2.csv\", header=True,index=0 )"
   ]
  },
  {
   "cell_type": "code",
   "execution_count": 1,
   "id": "d97fe8ae",
   "metadata": {},
   "outputs": [
    {
     "name": "stdout",
     "output_type": "stream",
     "text": [
      "(249603, 78)\n",
      "(249603, 768)\n"
     ]
    }
   ],
   "source": [
    "import numpy as np\n",
    "import pandas as pd\n",
    "from sklearn.model_selection import train_test_split\n",
    "from sklearn.preprocessing import MinMaxScaler, StandardScaler\n",
    "from sklearn.metrics import classification_report\n",
    "from sklearn.svm import OneClassSVM\n",
    "from numpy import array\n",
    "from numpy import argmax\n",
    "from sklearn.preprocessing import LabelEncoder\n",
    "from sklearn.preprocessing import OneHotEncoder\n",
    "X = pd.read_csv(r\"C:\\e\\学习资料\\02-03\\data\\data_process\\split1_bert2.csv\", header=None)\n",
    "Y = pd.read_csv(r\"C:\\e\\学习资料\\02-03\\data\\data_process\\split1_label.csv\",header=None)\n",
    "data1=pd.read_csv(r\"C:\\e\\学习资料\\02-03\\data\\data_process\\split1.csv\")\n",
    "print ( data1.shape)\n",
    "print  (X.shape)\n"
   ]
  },
  {
   "cell_type": "code",
   "execution_count": 2,
   "id": "353eee38",
   "metadata": {},
   "outputs": [
    {
     "name": "stdout",
     "output_type": "stream",
     "text": [
      "(249603, 15)\n"
     ]
    }
   ],
   "source": [
    "print ( Y.shape)\n"
   ]
  },
  {
   "cell_type": "code",
   "execution_count": 3,
   "id": "955eca2c",
   "metadata": {},
   "outputs": [
    {
     "name": "stdout",
     "output_type": "stream",
     "text": [
      "(249603,)\n"
     ]
    }
   ],
   "source": [
    "labelt=data1.Label.copy()\n",
    "print ( labelt.shape)"
   ]
  },
  {
   "cell_type": "code",
   "execution_count": 4,
   "id": "4696cc57",
   "metadata": {},
   "outputs": [
    {
     "name": "stdout",
     "output_type": "stream",
     "text": [
      "Benign\n"
     ]
    }
   ],
   "source": [
    "print ( labelt[0])"
   ]
  },
  {
   "cell_type": "code",
   "execution_count": 5,
   "id": "3da4dcf8",
   "metadata": {},
   "outputs": [
    {
     "name": "stdout",
     "output_type": "stream",
     "text": [
      "(249603, 769)\n",
      "Label\n",
      "Benign                      47649\n",
      "DoS attacks-Hulk            40417\n",
      "DDOS attack-HOIC            30870\n",
      "FTP-BruteForce              24170\n",
      "SSH-Bruteforce              23448\n",
      "DDoS attacks-LOIC-HTTP      21607\n",
      "Infilteration               20242\n",
      "Bot                         17887\n",
      "DoS attacks-SlowHTTPTest    12240\n",
      "DoS attacks-GoldenEye        8302\n",
      "DoS attacks-Slowloris        2198\n",
      "DDOS attack-LOIC-UDP          432\n",
      "Brute Force -Web               90\n",
      "Brute Force -XSS               38\n",
      "SQL Injection                  13\n",
      "dtype: int64\n"
     ]
    }
   ],
   "source": [
    "X = pd.concat ( [X,labelt],axis=1)\n",
    "print ( X.shape)\n",
    "print ( X.value_counts('Label'))"
   ]
  },
  {
   "cell_type": "code",
   "execution_count": 5,
   "id": "50f63e12",
   "metadata": {},
   "outputs": [
    {
     "name": "stdout",
     "output_type": "stream",
     "text": [
      "(249603, 769)\n",
      "(246832, 769)\n",
      "Label\n",
      "Benign                      47649\n",
      "DoS attacks-Hulk            40417\n",
      "DDOS attack-HOIC            30870\n",
      "FTP-BruteForce              24170\n",
      "SSH-Bruteforce              23448\n",
      "DDoS attacks-LOIC-HTTP      21607\n",
      "Infilteration               20242\n",
      "Bot                         17887\n",
      "DoS attacks-SlowHTTPTest    12240\n",
      "DoS attacks-GoldenEye        8302\n",
      "dtype: int64\n"
     ]
    }
   ],
   "source": [
    "\n",
    "ptx=X.drop (X[(X.Label=='SQL Injection')|(X.Label=='Brute Force -XSS')|(X.Label=='Brute Force -Web')|(X.Label=='DDOS attack-LOIC-UDP')|(X.Label=='DoS attacks-Slowloris' )].index)\n",
    "#ptf2=ptf.drop (ptf[(ptf.Label=='SQL Injection')|(ptf.Label=='Brute Force -XSS')|(ptf.Label=='Brute Force -Web')|(ptf.Label=='DDOS attack-LOIC-UDP')|(ptf.Label=='DoS attacks-Slowloris' )].index)\n",
    "print ( ptx.shape)\n",
    "#print ( ptf2.shape )\n",
    "print (ptx.value_counts('Label') )"
   ]
  },
  {
   "cell_type": "code",
   "execution_count": 7,
   "id": "5cea8bea",
   "metadata": {},
   "outputs": [
    {
     "name": "stdout",
     "output_type": "stream",
     "text": [
      "(249603, 784)\n",
      "(149761, 784)\n",
      "(99842, 784)\n"
     ]
    }
   ],
   "source": [
    "#X = pd.concat ( [X,Y],axis=1)\n",
    "print ( X.shape)\n",
    "sp1=X.groupby('Label').apply(pd.DataFrame.sample, frac=0.6).reset_index(level='Label', drop=True)\n",
    "sp2=X.drop ( sp1.index)\n",
    "print ( sp1.shape)\n",
    "print ( sp2.shape)"
   ]
  },
  {
   "cell_type": "code",
   "execution_count": 9,
   "id": "27c7f62f",
   "metadata": {},
   "outputs": [
    {
     "name": "stdout",
     "output_type": "stream",
     "text": [
      "(149761, 768)\n",
      "(149761, 15)\n"
     ]
    }
   ],
   "source": [
    "sp1_x = sp1.iloc[:,0:768]\n",
    "print ( sp1_x.shape)\n",
    "sp1_y = sp1.iloc[:,769:784]\n",
    "print ( sp1_y.shape)"
   ]
  },
  {
   "cell_type": "code",
   "execution_count": 10,
   "id": "58e24e65",
   "metadata": {},
   "outputs": [],
   "source": [
    "sp1_x.to_csv(r\"C:\\e\\学习资料\\02-03\\data\\data_process\\sp1\\d2\\split1_s1.csv\", header=None,index=0 )\n",
    "sp1_y.to_csv(r\"C:\\e\\学习资料\\02-03\\data\\data_process\\sp1\\d2\\split1_s1_y.csv\", header=None,index=0 )"
   ]
  },
  {
   "cell_type": "code",
   "execution_count": 11,
   "id": "3d518560",
   "metadata": {},
   "outputs": [
    {
     "name": "stdout",
     "output_type": "stream",
     "text": [
      "(99842, 768)\n",
      "(99842, 15)\n"
     ]
    }
   ],
   "source": [
    "sp2_x = sp2.iloc[:,0:768]\n",
    "print ( sp2_x.shape)\n",
    "sp2_y = sp2.iloc[:,769:784]\n",
    "print ( sp2_y.shape)"
   ]
  },
  {
   "cell_type": "code",
   "execution_count": 12,
   "id": "39c33db9",
   "metadata": {},
   "outputs": [],
   "source": [
    "sp2_x.to_csv(r\"C:\\e\\学习资料\\02-03\\data\\data_process\\sp1\\d2\\split1_s2.csv\", header=None,index=0 )\n",
    "sp2_y.to_csv(r\"C:\\e\\学习资料\\02-03\\data\\data_process\\sp1\\d2\\split1_s2_y.csv\", header=None,index=0 )"
   ]
  },
  {
   "cell_type": "code",
   "execution_count": 12,
   "id": "fac14b20",
   "metadata": {},
   "outputs": [
    {
     "name": "stdout",
     "output_type": "stream",
     "text": [
      "['Benign' 'Benign' 'Benign' ... 'SSH-Bruteforce' 'SSH-Bruteforce'\n",
      " 'SSH-Bruteforce']\n",
      "[[1. 0. 0. ... 0. 0. 0.]\n",
      " [1. 0. 0. ... 0. 0. 0.]\n",
      " [1. 0. 0. ... 0. 0. 0.]\n",
      " ...\n",
      " [0. 0. 0. ... 0. 0. 1.]\n",
      " [0. 0. 0. ... 0. 0. 1.]\n",
      " [0. 0. 0. ... 0. 0. 1.]]\n"
     ]
    }
   ],
   "source": [
    "arrs=sp1_y.values\n",
    "d1=np.array(arrs)\n",
    "values = array(d1)\n",
    "print(values)\n",
    "# integer encode\n",
    "label_encoder = LabelEncoder()\n",
    "integer_encoded = label_encoder.fit_transform(values)\n",
    "data3 = pd.DataFrame(integer_encoded) # header:原第一行的索引，index:原第一列的索引\n",
    "#data3.to_csv(r\"E:\\学习心得\\data\\cic-ids2018\\02-03\\ptrain1\\ptrain2_sli2_labeln.csv\",header=None,index=0)\n",
    "# # binary encode\n",
    "onehot_encoder = OneHotEncoder(sparse=False)\n",
    "integer_encoded = integer_encoded.reshape(len(integer_encoded), 1)\n",
    "onehot_encoded = onehot_encoder.fit_transform(integer_encoded)\n",
    "print(onehot_encoded)\n",
    "data4 = pd.DataFrame(onehot_encoded) # header:原第一行的索引，index:原第一列的索引\n",
    "data4.to_csv(r\"C:\\e\\学习资料\\02-03\\data\\data_process\\sp1\\d1\\split1_s1_y.csv\",header=None,index=0)"
   ]
  },
  {
   "cell_type": "code",
   "execution_count": 13,
   "id": "2596c20a",
   "metadata": {},
   "outputs": [
    {
     "name": "stdout",
     "output_type": "stream",
     "text": [
      "['Benign' 'Benign' 'Benign' ... 'SSH-Bruteforce' 'SSH-Bruteforce'\n",
      " 'SSH-Bruteforce']\n",
      "[[1. 0. 0. ... 0. 0. 0.]\n",
      " [1. 0. 0. ... 0. 0. 0.]\n",
      " [1. 0. 0. ... 0. 0. 0.]\n",
      " ...\n",
      " [0. 0. 0. ... 0. 0. 1.]\n",
      " [0. 0. 0. ... 0. 0. 1.]\n",
      " [0. 0. 0. ... 0. 0. 1.]]\n"
     ]
    }
   ],
   "source": [
    "arrs=sp2_y.values\n",
    "d1=np.array(arrs)\n",
    "values = array(d1)\n",
    "print(values)\n",
    "# integer encode\n",
    "label_encoder = LabelEncoder()\n",
    "integer_encoded = label_encoder.fit_transform(values)\n",
    "data3 = pd.DataFrame(integer_encoded) # header:原第一行的索引，index:原第一列的索引\n",
    "#data3.to_csv(r\"E:\\学习心得\\data\\cic-ids2018\\02-03\\ptrain1\\ptrain2_sli2_labeln.csv\",header=None,index=0)\n",
    "# # binary encode\n",
    "onehot_encoder = OneHotEncoder(sparse=False)\n",
    "integer_encoded = integer_encoded.reshape(len(integer_encoded), 1)\n",
    "onehot_encoded = onehot_encoder.fit_transform(integer_encoded)\n",
    "print(onehot_encoded)\n",
    "data4 = pd.DataFrame(onehot_encoded) # header:原第一行的索引，index:原第一列的索引\n",
    "data4.to_csv(r\"C:\\e\\学习资料\\02-03\\data\\data_process\\sp1\\d1\\split1_s2_y.csv\",header=None,index=0)"
   ]
  },
  {
   "cell_type": "code",
   "execution_count": 13,
   "id": "b829c513",
   "metadata": {},
   "outputs": [
    {
     "name": "stdout",
     "output_type": "stream",
     "text": [
      "(249603, 78)\n"
     ]
    }
   ],
   "source": [
    "print (data1.shape)"
   ]
  },
  {
   "cell_type": "code",
   "execution_count": 22,
   "id": "cd483953",
   "metadata": {},
   "outputs": [
    {
     "name": "stdout",
     "output_type": "stream",
     "text": [
      "(44930, 78)\n",
      "(204673, 78)\n"
     ]
    }
   ],
   "source": [
    "d1=data1.groupby('Label').apply(pd.DataFrame.sample, frac=0.18).reset_index(level='Label', drop=True)\n",
    "d2=data1.drop ( d1.index)\n",
    "print (d1.shape )\n",
    "print ( d2.shape)"
   ]
  },
  {
   "cell_type": "code",
   "execution_count": 23,
   "id": "a590bafd",
   "metadata": {},
   "outputs": [],
   "source": [
    "d1.to_csv(r\"C:\\e\\学习资料\\02-03\\data\\data_process\\sp1\\d3\\split1_d1.csv\", header=True,index=0 )"
   ]
  },
  {
   "cell_type": "code",
   "execution_count": 24,
   "id": "3ebf0b90",
   "metadata": {},
   "outputs": [
    {
     "name": "stdout",
     "output_type": "stream",
     "text": [
      "(40934, 78)\n",
      "(163739, 78)\n"
     ]
    }
   ],
   "source": [
    "d1=d2.groupby('Label').apply(pd.DataFrame.sample, frac=0.2).reset_index(level='Label', drop=True)\n",
    "d2=d2.drop ( d1.index)\n",
    "print (d1.shape )\n",
    "print ( d2.shape)"
   ]
  },
  {
   "cell_type": "code",
   "execution_count": 25,
   "id": "6200d342",
   "metadata": {},
   "outputs": [],
   "source": [
    "d1.to_csv(r\"C:\\e\\学习资料\\02-03\\data\\data_process\\sp1\\d3\\split1_d2.csv\", header=True,index=0 )"
   ]
  },
  {
   "cell_type": "code",
   "execution_count": 26,
   "id": "3ccdae96",
   "metadata": {},
   "outputs": [
    {
     "name": "stdout",
     "output_type": "stream",
     "text": [
      "(40936, 78)\n",
      "(122803, 78)\n"
     ]
    }
   ],
   "source": [
    "d1=d2.groupby('Label').apply(pd.DataFrame.sample, frac=0.25).reset_index(level='Label', drop=True)\n",
    "d2=d2.drop ( d1.index)\n",
    "print (d1.shape )\n",
    "print ( d2.shape)\n",
    "d1.to_csv(r\"C:\\e\\学习资料\\02-03\\data\\data_process\\sp1\\d3\\split1_d3.csv\", header=True,index=0 )"
   ]
  },
  {
   "cell_type": "code",
   "execution_count": 27,
   "id": "28f9c46f",
   "metadata": {},
   "outputs": [
    {
     "name": "stdout",
     "output_type": "stream",
     "text": [
      "(40525, 78)\n",
      "(82278, 78)\n"
     ]
    }
   ],
   "source": [
    "d1=d2.groupby('Label').apply(pd.DataFrame.sample, frac=0.33).reset_index(level='Label', drop=True)\n",
    "d2=d2.drop ( d1.index)\n",
    "print (d1.shape )\n",
    "print ( d2.shape)\n",
    "d1.to_csv(r\"C:\\e\\学习资料\\02-03\\data\\data_process\\sp1\\d3\\split1_d4.csv\", header=True,index=0 )"
   ]
  },
  {
   "cell_type": "code",
   "execution_count": 28,
   "id": "5c0f0887",
   "metadata": {},
   "outputs": [
    {
     "name": "stdout",
     "output_type": "stream",
     "text": [
      "(41138, 78)\n",
      "(41140, 78)\n"
     ]
    }
   ],
   "source": [
    "d1=d2.groupby('Label').apply(pd.DataFrame.sample, frac=0.5).reset_index(level='Label', drop=True)\n",
    "d2=d2.drop ( d1.index)\n",
    "print (d1.shape )\n",
    "print ( d2.shape)\n",
    "d1.to_csv(r\"C:\\e\\学习资料\\02-03\\data\\data_process\\sp1\\d3\\split1_d5.csv\", header=True,index=0 )\n",
    "d2.to_csv(r\"C:\\e\\学习资料\\02-03\\data\\data_process\\sp1\\d3\\split1_d6.csv\", header=True,index=0 )"
   ]
  },
  {
   "cell_type": "code",
   "execution_count": null,
   "id": "943a17c9",
   "metadata": {},
   "outputs": [],
   "source": []
  }
 ],
 "metadata": {
  "kernelspec": {
   "display_name": "Python 3 (ipykernel)",
   "language": "python",
   "name": "python3"
  },
  "language_info": {
   "codemirror_mode": {
    "name": "ipython",
    "version": 3
   },
   "file_extension": ".py",
   "mimetype": "text/x-python",
   "name": "python",
   "nbconvert_exporter": "python",
   "pygments_lexer": "ipython3",
   "version": "3.9.7"
  }
 },
 "nbformat": 4,
 "nbformat_minor": 5
}
