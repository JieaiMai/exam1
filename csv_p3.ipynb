{
 "cells": [
  {
   "cell_type": "code",
   "execution_count": 12,
   "id": "635f1cf2",
   "metadata": {},
   "outputs": [
    {
     "name": "stdout",
     "output_type": "stream",
     "text": [
      "Label\n",
      "Benign                      8577\n",
      "DoS attacks-Hulk            7275\n",
      "DDOS attack-HOIC            5557\n",
      "FTP-BruteForce              4351\n",
      "SSH-Bruteforce              4221\n",
      "DDoS attacks-LOIC-HTTP      3889\n",
      "Infilteration               3644\n",
      "Bot                         3220\n",
      "DoS attacks-SlowHTTPTest    2203\n",
      "DoS attacks-GoldenEye       1494\n",
      "DoS attacks-Slowloris        396\n",
      "DDOS attack-LOIC-UDP          78\n",
      "Brute Force -Web              16\n",
      "Brute Force -XSS               7\n",
      "SQL Injection                  2\n",
      "dtype: int64\n"
     ]
    }
   ],
   "source": [
    "import numpy as np\n",
    "import pandas as pd\n",
    "from sklearn.model_selection import train_test_split\n",
    "from sklearn.preprocessing import MinMaxScaler, StandardScaler\n",
    "from sklearn.metrics import classification_report\n",
    "from sklearn.svm import OneClassSVM\n",
    "from numpy import array\n",
    "from numpy import argmax\n",
    "from sklearn.preprocessing import LabelEncoder\n",
    "from sklearn.preprocessing import OneHotEncoder\n",
    "\n",
    "dataset=pd.read_csv(r\"C:\\e\\学习资料\\02-03\\data\\data_process\\sp1\\d3\\split1_d1.csv\")\n",
    "print (dataset.value_counts('Label'))"
   ]
  },
  {
   "cell_type": "code",
   "execution_count": 13,
   "id": "39b5fc8c",
   "metadata": {},
   "outputs": [
    {
     "name": "stdout",
     "output_type": "stream",
     "text": [
      "(44930, 78)\n"
     ]
    }
   ],
   "source": [
    "print ( dataset.shape)"
   ]
  },
  {
   "cell_type": "code",
   "execution_count": 14,
   "id": "9cfadde0",
   "metadata": {},
   "outputs": [
    {
     "name": "stdout",
     "output_type": "stream",
     "text": [
      "(44930, 768)\n"
     ]
    }
   ],
   "source": [
    "dt=pd.read_csv(r\"C:\\e\\学习资料\\02-03\\data\\data_process\\sp1\\d3\\split1_d1_bert.csv\",header=None)\n",
    "\n",
    "print ( dt.shape)\n"
   ]
  },
  {
   "cell_type": "code",
   "execution_count": 8,
   "id": "0265525e",
   "metadata": {},
   "outputs": [
    {
     "name": "stdout",
     "output_type": "stream",
     "text": [
      "(40934, 768)\n"
     ]
    }
   ],
   "source": [
    "dt1=dt.iloc[1:40935,0:768]\n",
    "print  (dt1.shape)"
   ]
  },
  {
   "cell_type": "code",
   "execution_count": 9,
   "id": "ec082ce4",
   "metadata": {},
   "outputs": [],
   "source": [
    "dt1.to_csv(r\"C:\\e\\学习资料\\02-03\\data\\data_process\\sp1\\d3\\split1_d2_bert2.csv\",header=None,index=0,mode='a')"
   ]
  },
  {
   "cell_type": "code",
   "execution_count": 15,
   "id": "2622c526",
   "metadata": {},
   "outputs": [
    {
     "name": "stdout",
     "output_type": "stream",
     "text": [
      "Benign                      8577\n",
      "DoS attacks-Hulk            7275\n",
      "DDOS attack-HOIC            5557\n",
      "FTP-BruteForce              4351\n",
      "SSH-Bruteforce              4221\n",
      "DDoS attacks-LOIC-HTTP      3889\n",
      "Infilteration               3644\n",
      "Bot                         3220\n",
      "DoS attacks-SlowHTTPTest    2203\n",
      "DoS attacks-GoldenEye       1494\n",
      "DoS attacks-Slowloris        396\n",
      "DDOS attack-LOIC-UDP          78\n",
      "Brute Force -Web              16\n",
      "Brute Force -XSS               7\n",
      "SQL Injection                  2\n",
      "Name: Label, dtype: int64\n",
      "['Benign' 'Benign' 'Benign' ... 'SSH-Bruteforce' 'SSH-Bruteforce'\n",
      " 'SSH-Bruteforce']\n",
      "[[1. 0. 0. ... 0. 0. 0.]\n",
      " [1. 0. 0. ... 0. 0. 0.]\n",
      " [1. 0. 0. ... 0. 0. 0.]\n",
      " ...\n",
      " [0. 0. 0. ... 0. 0. 1.]\n",
      " [0. 0. 0. ... 0. 0. 1.]\n",
      " [0. 0. 0. ... 0. 0. 1.]]\n"
     ]
    }
   ],
   "source": [
    "labelt=dataset.Label.copy()\n",
    "print ( labelt.value_counts())\n",
    "arrs=labelt.values\n",
    "d1=np.array(arrs)\n",
    "values = array(d1)\n",
    "print(values)\n",
    "# integer encode\n",
    "label_encoder = LabelEncoder()\n",
    "integer_encoded = label_encoder.fit_transform(values)\n",
    "data3 = pd.DataFrame(integer_encoded) # header:原第一行的索引，index:原第一列的索引\n",
    "#data3.to_csv(r\"E:\\学习心得\\data\\cic-ids2018\\02-03\\ptrain1\\ptrain2_sli2_labeln.csv\",header=None,index=0)\n",
    "# # binary encode\n",
    "onehot_encoder = OneHotEncoder(sparse=False)\n",
    "integer_encoded = integer_encoded.reshape(len(integer_encoded), 1)\n",
    "onehot_encoded = onehot_encoder.fit_transform(integer_encoded)\n",
    "print(onehot_encoded)\n",
    "data4 = pd.DataFrame(onehot_encoded) # header:原第一行的索引，index:原第一列的索引\n",
    "data4.to_csv(r\"C:\\e\\学习资料\\02-03\\data\\data_process\\sp1\\d3\\split1_d1_bert_label.csv\",header=None,index=0)"
   ]
  },
  {
   "cell_type": "code",
   "execution_count": 16,
   "id": "4ad093ec",
   "metadata": {},
   "outputs": [
    {
     "name": "stdout",
     "output_type": "stream",
     "text": [
      "(44930, 15)\n"
     ]
    }
   ],
   "source": [
    "print (data4.shape)"
   ]
  },
  {
   "cell_type": "code",
   "execution_count": 32,
   "id": "c518de7e",
   "metadata": {},
   "outputs": [],
   "source": [
    "p1=pd.read_csv(r\"C:\\e\\学习资料\\02-03\\ptest1\\ptest_1.csv\")\n"
   ]
  },
  {
   "cell_type": "code",
   "execution_count": 33,
   "id": "5e4412dc",
   "metadata": {},
   "outputs": [
    {
     "name": "stdout",
     "output_type": "stream",
     "text": [
      "(384776, 77)\n"
     ]
    }
   ],
   "source": [
    "#print ( p1.value_counts ('Label'))\n",
    "print ( p1.shape)"
   ]
  },
  {
   "cell_type": "code",
   "execution_count": 34,
   "id": "e28eb5ee",
   "metadata": {},
   "outputs": [
    {
     "name": "stdout",
     "output_type": "stream",
     "text": [
      "(384776, 14)\n"
     ]
    }
   ],
   "source": [
    "y1=pd.read_csv(r\"C:\\e\\学习资料\\02-03\\ptest1\\tset_label.csv\")\n",
    "print (y1.shape)"
   ]
  },
  {
   "cell_type": "code",
   "execution_count": 35,
   "id": "d99abbff",
   "metadata": {},
   "outputs": [
    {
     "name": "stdout",
     "output_type": "stream",
     "text": [
      "(384776, 1)\n"
     ]
    }
   ],
   "source": [
    "y2=pd.read_csv(r\"C:\\e\\学习资料\\02-03\\ptest1\\test_label1.csv\")\n",
    "print ( y2.shape)"
   ]
  },
  {
   "cell_type": "code",
   "execution_count": 36,
   "id": "4b75bf4f",
   "metadata": {},
   "outputs": [
    {
     "name": "stdout",
     "output_type": "stream",
     "text": [
      "0 \n",
      "0     322328\n",
      "4      18648\n",
      "7      16566\n",
      "1       9241\n",
      "11      8608\n",
      "13      5944\n",
      "6       2615\n",
      "9        649\n",
      "5        109\n",
      "2         39\n",
      "3         14\n",
      "10         6\n",
      "12         5\n",
      "8          4\n",
      "dtype: int64\n"
     ]
    }
   ],
   "source": [
    "print ( y2.value_counts())"
   ]
  },
  {
   "cell_type": "code",
   "execution_count": 37,
   "id": "f3623de3",
   "metadata": {},
   "outputs": [
    {
     "name": "stdout",
     "output_type": "stream",
     "text": [
      "(384776, 78)\n"
     ]
    },
    {
     "ename": "KeyError",
     "evalue": "'Label'",
     "output_type": "error",
     "traceback": [
      "\u001b[1;31m---------------------------------------------------------------------------\u001b[0m",
      "\u001b[1;31mKeyError\u001b[0m                                  Traceback (most recent call last)",
      "\u001b[1;32m~\\AppData\\Local\\Temp/ipykernel_19664/3655617406.py\u001b[0m in \u001b[0;36m<module>\u001b[1;34m\u001b[0m\n\u001b[0;32m      1\u001b[0m \u001b[0mpn1\u001b[0m \u001b[1;33m=\u001b[0m \u001b[0mpd\u001b[0m\u001b[1;33m.\u001b[0m\u001b[0mconcat\u001b[0m \u001b[1;33m(\u001b[0m \u001b[1;33m[\u001b[0m\u001b[0mp1\u001b[0m\u001b[1;33m,\u001b[0m\u001b[0my2\u001b[0m\u001b[1;33m]\u001b[0m\u001b[1;33m,\u001b[0m\u001b[0maxis\u001b[0m\u001b[1;33m=\u001b[0m\u001b[1;36m1\u001b[0m\u001b[1;33m)\u001b[0m\u001b[1;33m\u001b[0m\u001b[1;33m\u001b[0m\u001b[0m\n\u001b[0;32m      2\u001b[0m \u001b[0mprint\u001b[0m \u001b[1;33m(\u001b[0m \u001b[0mpn1\u001b[0m\u001b[1;33m.\u001b[0m\u001b[0mshape\u001b[0m\u001b[1;33m)\u001b[0m\u001b[1;33m\u001b[0m\u001b[1;33m\u001b[0m\u001b[0m\n\u001b[1;32m----> 3\u001b[1;33m \u001b[0mprint\u001b[0m \u001b[1;33m(\u001b[0m \u001b[0mpn1\u001b[0m\u001b[1;33m.\u001b[0m\u001b[0mvalue_counts\u001b[0m\u001b[1;33m(\u001b[0m\u001b[1;34m'Label'\u001b[0m\u001b[1;33m)\u001b[0m\u001b[1;33m)\u001b[0m\u001b[1;33m\u001b[0m\u001b[1;33m\u001b[0m\u001b[0m\n\u001b[0m",
      "\u001b[1;32mC:\\d\\anaconda\\lib\\site-packages\\pandas\\core\\frame.py\u001b[0m in \u001b[0;36mvalue_counts\u001b[1;34m(self, subset, normalize, sort, ascending, dropna)\u001b[0m\n\u001b[0;32m   6514\u001b[0m             \u001b[0msubset\u001b[0m \u001b[1;33m=\u001b[0m \u001b[0mself\u001b[0m\u001b[1;33m.\u001b[0m\u001b[0mcolumns\u001b[0m\u001b[1;33m.\u001b[0m\u001b[0mtolist\u001b[0m\u001b[1;33m(\u001b[0m\u001b[1;33m)\u001b[0m\u001b[1;33m\u001b[0m\u001b[1;33m\u001b[0m\u001b[0m\n\u001b[0;32m   6515\u001b[0m \u001b[1;33m\u001b[0m\u001b[0m\n\u001b[1;32m-> 6516\u001b[1;33m         \u001b[0mcounts\u001b[0m \u001b[1;33m=\u001b[0m \u001b[0mself\u001b[0m\u001b[1;33m.\u001b[0m\u001b[0mgroupby\u001b[0m\u001b[1;33m(\u001b[0m\u001b[0msubset\u001b[0m\u001b[1;33m,\u001b[0m \u001b[0mdropna\u001b[0m\u001b[1;33m=\u001b[0m\u001b[0mdropna\u001b[0m\u001b[1;33m)\u001b[0m\u001b[1;33m.\u001b[0m\u001b[0mgrouper\u001b[0m\u001b[1;33m.\u001b[0m\u001b[0msize\u001b[0m\u001b[1;33m(\u001b[0m\u001b[1;33m)\u001b[0m\u001b[1;33m\u001b[0m\u001b[1;33m\u001b[0m\u001b[0m\n\u001b[0m\u001b[0;32m   6517\u001b[0m \u001b[1;33m\u001b[0m\u001b[0m\n\u001b[0;32m   6518\u001b[0m         \u001b[1;32mif\u001b[0m \u001b[0msort\u001b[0m\u001b[1;33m:\u001b[0m\u001b[1;33m\u001b[0m\u001b[1;33m\u001b[0m\u001b[0m\n",
      "\u001b[1;32mC:\\d\\anaconda\\lib\\site-packages\\pandas\\core\\frame.py\u001b[0m in \u001b[0;36mgroupby\u001b[1;34m(self, by, axis, level, as_index, sort, group_keys, squeeze, observed, dropna)\u001b[0m\n\u001b[0;32m   7629\u001b[0m         \u001b[1;31m# error: Argument \"squeeze\" to \"DataFrameGroupBy\" has incompatible type\u001b[0m\u001b[1;33m\u001b[0m\u001b[1;33m\u001b[0m\u001b[0m\n\u001b[0;32m   7630\u001b[0m         \u001b[1;31m# \"Union[bool, NoDefault]\"; expected \"bool\"\u001b[0m\u001b[1;33m\u001b[0m\u001b[1;33m\u001b[0m\u001b[0m\n\u001b[1;32m-> 7631\u001b[1;33m         return DataFrameGroupBy(\n\u001b[0m\u001b[0;32m   7632\u001b[0m             \u001b[0mobj\u001b[0m\u001b[1;33m=\u001b[0m\u001b[0mself\u001b[0m\u001b[1;33m,\u001b[0m\u001b[1;33m\u001b[0m\u001b[1;33m\u001b[0m\u001b[0m\n\u001b[0;32m   7633\u001b[0m             \u001b[0mkeys\u001b[0m\u001b[1;33m=\u001b[0m\u001b[0mby\u001b[0m\u001b[1;33m,\u001b[0m\u001b[1;33m\u001b[0m\u001b[1;33m\u001b[0m\u001b[0m\n",
      "\u001b[1;32mC:\\d\\anaconda\\lib\\site-packages\\pandas\\core\\groupby\\groupby.py\u001b[0m in \u001b[0;36m__init__\u001b[1;34m(self, obj, keys, axis, level, grouper, exclusions, selection, as_index, sort, group_keys, squeeze, observed, mutated, dropna)\u001b[0m\n\u001b[0;32m    887\u001b[0m             \u001b[1;32mfrom\u001b[0m \u001b[0mpandas\u001b[0m\u001b[1;33m.\u001b[0m\u001b[0mcore\u001b[0m\u001b[1;33m.\u001b[0m\u001b[0mgroupby\u001b[0m\u001b[1;33m.\u001b[0m\u001b[0mgrouper\u001b[0m \u001b[1;32mimport\u001b[0m \u001b[0mget_grouper\u001b[0m\u001b[1;33m\u001b[0m\u001b[1;33m\u001b[0m\u001b[0m\n\u001b[0;32m    888\u001b[0m \u001b[1;33m\u001b[0m\u001b[0m\n\u001b[1;32m--> 889\u001b[1;33m             grouper, exclusions, obj = get_grouper(\n\u001b[0m\u001b[0;32m    890\u001b[0m                 \u001b[0mobj\u001b[0m\u001b[1;33m,\u001b[0m\u001b[1;33m\u001b[0m\u001b[1;33m\u001b[0m\u001b[0m\n\u001b[0;32m    891\u001b[0m                 \u001b[0mkeys\u001b[0m\u001b[1;33m,\u001b[0m\u001b[1;33m\u001b[0m\u001b[1;33m\u001b[0m\u001b[0m\n",
      "\u001b[1;32mC:\\d\\anaconda\\lib\\site-packages\\pandas\\core\\groupby\\grouper.py\u001b[0m in \u001b[0;36mget_grouper\u001b[1;34m(obj, key, axis, level, sort, observed, mutated, validate, dropna)\u001b[0m\n\u001b[0;32m    860\u001b[0m                 \u001b[0min_axis\u001b[0m\u001b[1;33m,\u001b[0m \u001b[0mlevel\u001b[0m\u001b[1;33m,\u001b[0m \u001b[0mgpr\u001b[0m \u001b[1;33m=\u001b[0m \u001b[1;32mFalse\u001b[0m\u001b[1;33m,\u001b[0m \u001b[0mgpr\u001b[0m\u001b[1;33m,\u001b[0m \u001b[1;32mNone\u001b[0m\u001b[1;33m\u001b[0m\u001b[1;33m\u001b[0m\u001b[0m\n\u001b[0;32m    861\u001b[0m             \u001b[1;32melse\u001b[0m\u001b[1;33m:\u001b[0m\u001b[1;33m\u001b[0m\u001b[1;33m\u001b[0m\u001b[0m\n\u001b[1;32m--> 862\u001b[1;33m                 \u001b[1;32mraise\u001b[0m \u001b[0mKeyError\u001b[0m\u001b[1;33m(\u001b[0m\u001b[0mgpr\u001b[0m\u001b[1;33m)\u001b[0m\u001b[1;33m\u001b[0m\u001b[1;33m\u001b[0m\u001b[0m\n\u001b[0m\u001b[0;32m    863\u001b[0m         \u001b[1;32melif\u001b[0m \u001b[0misinstance\u001b[0m\u001b[1;33m(\u001b[0m\u001b[0mgpr\u001b[0m\u001b[1;33m,\u001b[0m \u001b[0mGrouper\u001b[0m\u001b[1;33m)\u001b[0m \u001b[1;32mand\u001b[0m \u001b[0mgpr\u001b[0m\u001b[1;33m.\u001b[0m\u001b[0mkey\u001b[0m \u001b[1;32mis\u001b[0m \u001b[1;32mnot\u001b[0m \u001b[1;32mNone\u001b[0m\u001b[1;33m:\u001b[0m\u001b[1;33m\u001b[0m\u001b[1;33m\u001b[0m\u001b[0m\n\u001b[0;32m    864\u001b[0m             \u001b[1;31m# Add key to exclusions\u001b[0m\u001b[1;33m\u001b[0m\u001b[1;33m\u001b[0m\u001b[0m\n",
      "\u001b[1;31mKeyError\u001b[0m: 'Label'"
     ]
    }
   ],
   "source": [
    "pn1 = pd.concat ( [p1,y2],axis=1)\n",
    "print ( pn1.shape)\n",
    "print ( pn1.value_counts('Label'))"
   ]
  },
  {
   "cell_type": "code",
   "execution_count": 44,
   "id": "9e4a9b79",
   "metadata": {},
   "outputs": [],
   "source": [
    "p1=pd.read_csv(r\"C:\\e\\学习资料\\02-03\\data\\data_process\\split1.csv\")"
   ]
  },
  {
   "cell_type": "code",
   "execution_count": 40,
   "id": "5612a59a",
   "metadata": {},
   "outputs": [
    {
     "name": "stdout",
     "output_type": "stream",
     "text": [
      "(249603, 78)\n"
     ]
    }
   ],
   "source": [
    "print ( p1.shape)"
   ]
  },
  {
   "cell_type": "code",
   "execution_count": 46,
   "id": "e67c1709",
   "metadata": {},
   "outputs": [],
   "source": [
    "p1.drop_duplicates( keep='first',inplace=True)"
   ]
  },
  {
   "cell_type": "code",
   "execution_count": 47,
   "id": "39eed41e",
   "metadata": {},
   "outputs": [
    {
     "name": "stdout",
     "output_type": "stream",
     "text": [
      "(228103, 78)\n"
     ]
    }
   ],
   "source": [
    "print ( p1.shape)"
   ]
  },
  {
   "cell_type": "code",
   "execution_count": 49,
   "id": "c57f6206",
   "metadata": {},
   "outputs": [
    {
     "data": {
      "text/plain": [
       "Label\n",
       "Benign                      47633\n",
       "DoS attacks-Hulk            40209\n",
       "DDOS attack-HOIC            30831\n",
       "DDoS attacks-LOIC-HTTP      21607\n",
       "SSH-Bruteforce              20111\n",
       "Infilteration               18174\n",
       "Bot                         17871\n",
       "FTP-BruteForce              13988\n",
       "DoS attacks-GoldenEye        8299\n",
       "DoS attacks-SlowHTTPTest     6684\n",
       "DoS attacks-Slowloris        2123\n",
       "DDOS attack-LOIC-UDP          432\n",
       "Brute Force -Web               90\n",
       "Brute Force -XSS               38\n",
       "SQL Injection                  13\n",
       "dtype: int64"
      ]
     },
     "execution_count": 49,
     "metadata": {},
     "output_type": "execute_result"
    }
   ],
   "source": [
    "p1.value_counts('Label')"
   ]
  },
  {
   "cell_type": "code",
   "execution_count": 50,
   "id": "724c58ce",
   "metadata": {},
   "outputs": [
    {
     "name": "stdout",
     "output_type": "stream",
     "text": [
      "(228103, 78)\n",
      "(228103, 78)\n"
     ]
    }
   ],
   "source": [
    "print ( p1.shape )\n",
    "\n",
    "for index in p1.columns:\n",
    "    p1[index]=p1[index].fillna(0)\n",
    "    p1[index]=p1[index].replace(np.Infinity,1)\n",
    "\n",
    "#X.drop ( columus=[77],axis=1,inplace=True)\n",
    "#X.to_csv(r\"E:\\学习心得\\data\\cic-ids2018\\02-03\\pva1\\pva_1.csv\", header=None,index=0)\n",
    "print (p1.shape)"
   ]
  },
  {
   "cell_type": "code",
   "execution_count": 51,
   "id": "b59cee6b",
   "metadata": {},
   "outputs": [],
   "source": [
    "p1.to_csv(r\"C:\\e\\学习资料\\02-03\\data\\data_process\\split1new.csv\",header=True,index=0)"
   ]
  },
  {
   "cell_type": "code",
   "execution_count": 52,
   "id": "83966285",
   "metadata": {},
   "outputs": [],
   "source": [
    "X=pd.read_csv (r\"C:\\e\\学习资料\\02-03\\data\\data_process\\split1new.csv\")"
   ]
  },
  {
   "cell_type": "code",
   "execution_count": 53,
   "id": "84d2148c",
   "metadata": {},
   "outputs": [
    {
     "data": {
      "text/plain": [
       "Label\n",
       "Benign                      47633\n",
       "DoS attacks-Hulk            40209\n",
       "DDOS attack-HOIC            30831\n",
       "DDoS attacks-LOIC-HTTP      21607\n",
       "SSH-Bruteforce              20111\n",
       "Infilteration               18174\n",
       "Bot                         17871\n",
       "FTP-BruteForce              13988\n",
       "DoS attacks-GoldenEye        8299\n",
       "DoS attacks-SlowHTTPTest     6684\n",
       "DoS attacks-Slowloris        2123\n",
       "DDOS attack-LOIC-UDP          432\n",
       "Brute Force -Web               90\n",
       "Brute Force -XSS               38\n",
       "SQL Injection                  13\n",
       "dtype: int64"
      ]
     },
     "execution_count": 53,
     "metadata": {},
     "output_type": "execute_result"
    }
   ],
   "source": [
    "X.value_counts('Label')"
   ]
  },
  {
   "cell_type": "code",
   "execution_count": 54,
   "id": "5d9e2acc",
   "metadata": {},
   "outputs": [
    {
     "name": "stdout",
     "output_type": "stream",
     "text": [
      "Benign                      47633\n",
      "DoS attacks-Hulk            40209\n",
      "DDOS attack-HOIC            30831\n",
      "DDoS attacks-LOIC-HTTP      21607\n",
      "SSH-Bruteforce              20111\n",
      "Infilteration               18174\n",
      "Bot                         17871\n",
      "FTP-BruteForce              13988\n",
      "DoS attacks-GoldenEye        8299\n",
      "DoS attacks-SlowHTTPTest     6684\n",
      "DoS attacks-Slowloris        2123\n",
      "DDOS attack-LOIC-UDP          432\n",
      "Brute Force -Web               90\n",
      "Brute Force -XSS               38\n",
      "SQL Injection                  13\n",
      "Name: Label, dtype: int64\n",
      "['Benign' 'Benign' 'Benign' ... 'SSH-Bruteforce' 'SSH-Bruteforce'\n",
      " 'SSH-Bruteforce']\n",
      "[[1. 0. 0. ... 0. 0. 0.]\n",
      " [1. 0. 0. ... 0. 0. 0.]\n",
      " [1. 0. 0. ... 0. 0. 0.]\n",
      " ...\n",
      " [0. 0. 0. ... 0. 0. 1.]\n",
      " [0. 0. 0. ... 0. 0. 1.]\n",
      " [0. 0. 0. ... 0. 0. 1.]]\n"
     ]
    }
   ],
   "source": [
    "labelt=X.Label.copy()\n",
    "print ( labelt.value_counts())\n",
    "arrs=labelt.values\n",
    "d1=np.array(arrs)\n",
    "values = array(d1)\n",
    "print(values)\n",
    "# integer encode\n",
    "label_encoder = LabelEncoder()\n",
    "integer_encoded = label_encoder.fit_transform(values)\n",
    "data3 = pd.DataFrame(integer_encoded) # header:原第一行的索引，index:原第一列的索引\n",
    "#data3.to_csv(r\"E:\\学习心得\\data\\cic-ids2018\\02-03\\ptrain1\\ptrain2_sli2_labeln.csv\",header=None,index=0)\n",
    "# # binary encode\n",
    "onehot_encoder = OneHotEncoder(sparse=False)\n",
    "integer_encoded = integer_encoded.reshape(len(integer_encoded), 1)\n",
    "onehot_encoded = onehot_encoder.fit_transform(integer_encoded)\n",
    "print(onehot_encoded)\n",
    "data4 = pd.DataFrame(onehot_encoded) # header:原第一行的索引，index:原第一列的索引\n",
    "data4.to_csv(r\"C:\\e\\学习资料\\02-03\\data\\data_process\\split1new_y.csv\",header=None,index=0)"
   ]
  },
  {
   "cell_type": "code",
   "execution_count": 55,
   "id": "4b5136ae",
   "metadata": {},
   "outputs": [
    {
     "name": "stdout",
     "output_type": "stream",
     "text": [
      "(228103, 15)\n"
     ]
    }
   ],
   "source": [
    "print (data4.shape)"
   ]
  },
  {
   "cell_type": "code",
   "execution_count": 56,
   "id": "e9c992ec",
   "metadata": {},
   "outputs": [
    {
     "name": "stdout",
     "output_type": "stream",
     "text": [
      "(228103, 846)\n",
      "Label\n",
      "Benign                      47633\n",
      "DoS attacks-Hulk            40209\n",
      "DDOS attack-HOIC            30831\n",
      "DDoS attacks-LOIC-HTTP      21607\n",
      "SSH-Bruteforce              20111\n",
      "Infilteration               18174\n",
      "Bot                         17871\n",
      "FTP-BruteForce              13988\n",
      "DoS attacks-GoldenEye        8299\n",
      "DoS attacks-SlowHTTPTest     6684\n",
      "DoS attacks-Slowloris        2123\n",
      "DDOS attack-LOIC-UDP          432\n",
      "Brute Force -Web               90\n",
      "Brute Force -XSS               38\n",
      "SQL Injection                  13\n",
      "dtype: int64\n"
     ]
    }
   ],
   "source": [
    "X2=pd.read_csv (r\"C:\\e\\学习资料\\02-03\\data\\data_process\\split1new_b.csv\",header=None)\n",
    "\n",
    "X3 = pd.concat ( [X,X2],axis=1)\n",
    "print ( X3.shape)\n",
    "print ( X3.value_counts('Label'))"
   ]
  },
  {
   "cell_type": "code",
   "execution_count": 57,
   "id": "e5f012c2",
   "metadata": {},
   "outputs": [
    {
     "data": {
      "text/plain": [
       "Label\n",
       "Benign                      47633\n",
       "DoS attacks-Hulk            40209\n",
       "DDOS attack-HOIC            30831\n",
       "DDoS attacks-LOIC-HTTP      21607\n",
       "SSH-Bruteforce              20111\n",
       "Infilteration               18174\n",
       "Bot                         17871\n",
       "FTP-BruteForce              13988\n",
       "DoS attacks-GoldenEye        8299\n",
       "DoS attacks-SlowHTTPTest     6684\n",
       "dtype: int64"
      ]
     },
     "execution_count": 57,
     "metadata": {},
     "output_type": "execute_result"
    }
   ],
   "source": [
    "\n",
    "X3_1=X3.drop (X3[(X3.Label=='SQL Injection')|(X3.Label=='Brute Force -XSS')|(X3.Label=='Brute Force -Web')|(X3.Label=='DDOS attack-LOIC-UDP')|(X3.Label=='DoS attacks-Slowloris' )].index)\n",
    "X3_2= X3.drop (X3_1.index)\n",
    "X3_1.value_counts('Label')"
   ]
  },
  {
   "cell_type": "code",
   "execution_count": 66,
   "id": "d8850626",
   "metadata": {},
   "outputs": [
    {
     "name": "stdout",
     "output_type": "stream",
     "text": [
      "(225407, 768)\n"
     ]
    }
   ],
   "source": [
    "sp1 = X3_1.iloc[:,78:846]\n",
    "print ( sp1.shape)"
   ]
  },
  {
   "cell_type": "code",
   "execution_count": 67,
   "id": "ee46222b",
   "metadata": {},
   "outputs": [
    {
     "name": "stdout",
     "output_type": "stream",
     "text": [
      "(225407, 78)\n"
     ]
    }
   ],
   "source": [
    "sp2 = X3_1.iloc[:,0:78]\n",
    "print ( sp2.shape)"
   ]
  },
  {
   "cell_type": "code",
   "execution_count": 68,
   "id": "a1f2fff4",
   "metadata": {},
   "outputs": [],
   "source": [
    "sp1.to_csv(r\"C:\\e\\学习资料\\02-03\\data\\data_process\\split1new_s1b.csv\",header=None,index=0)\n",
    "sp2.to_csv(r\"C:\\e\\学习资料\\02-03\\data\\data_process\\split1new_s1.csv\",header=True,index=0)"
   ]
  },
  {
   "cell_type": "code",
   "execution_count": 69,
   "id": "b8299ed3",
   "metadata": {},
   "outputs": [
    {
     "name": "stdout",
     "output_type": "stream",
     "text": [
      "(2696, 768)\n",
      "(2696, 78)\n"
     ]
    }
   ],
   "source": [
    "sp1 = X3_2.iloc[:,78:846]\n",
    "print ( sp1.shape)\n",
    "sp2 = X3_2.iloc[:,0:78]\n",
    "print ( sp2.shape)\n",
    "sp1.to_csv(r\"C:\\e\\学习资料\\02-03\\data\\data_process\\split1new_s2b.csv\",header=None,index=0)\n",
    "sp2.to_csv(r\"C:\\e\\学习资料\\02-03\\data\\data_process\\split1new_s2.csv\",header=True,index=0)"
   ]
  },
  {
   "cell_type": "code",
   "execution_count": 70,
   "id": "2941a489",
   "metadata": {},
   "outputs": [
    {
     "name": "stdout",
     "output_type": "stream",
     "text": [
      "Benign                      47633\n",
      "DoS attacks-Hulk            40209\n",
      "DDOS attack-HOIC            30831\n",
      "DDoS attacks-LOIC-HTTP      21607\n",
      "SSH-Bruteforce              20111\n",
      "Infilteration               18174\n",
      "Bot                         17871\n",
      "FTP-BruteForce              13988\n",
      "DoS attacks-GoldenEye        8299\n",
      "DoS attacks-SlowHTTPTest     6684\n",
      "Name: Label, dtype: int64\n",
      "['Benign' 'Benign' 'Benign' ... 'SSH-Bruteforce' 'SSH-Bruteforce'\n",
      " 'SSH-Bruteforce']\n",
      "[[1. 0. 0. ... 0. 0. 0.]\n",
      " [1. 0. 0. ... 0. 0. 0.]\n",
      " [1. 0. 0. ... 0. 0. 0.]\n",
      " ...\n",
      " [0. 0. 0. ... 0. 0. 1.]\n",
      " [0. 0. 0. ... 0. 0. 1.]\n",
      " [0. 0. 0. ... 0. 0. 1.]]\n"
     ]
    }
   ],
   "source": [
    "labelt=X3_1.Label.copy()\n",
    "print ( labelt.value_counts())\n",
    "arrs=labelt.values\n",
    "d1=np.array(arrs)\n",
    "values = array(d1)\n",
    "print(values)\n",
    "# integer encode\n",
    "label_encoder = LabelEncoder()\n",
    "integer_encoded = label_encoder.fit_transform(values)\n",
    "data3 = pd.DataFrame(integer_encoded) # header:原第一行的索引，index:原第一列的索引\n",
    "#data3.to_csv(r\"E:\\学习心得\\data\\cic-ids2018\\02-03\\ptrain1\\ptrain2_sli2_labeln.csv\",header=None,index=0)\n",
    "# # binary encode\n",
    "onehot_encoder = OneHotEncoder(sparse=False)\n",
    "integer_encoded = integer_encoded.reshape(len(integer_encoded), 1)\n",
    "onehot_encoded = onehot_encoder.fit_transform(integer_encoded)\n",
    "print(onehot_encoded)\n",
    "data4 = pd.DataFrame(onehot_encoded) # header:原第一行的索引，index:原第一列的索引\n",
    "data4.to_csv(r\"C:\\e\\学习资料\\02-03\\data\\data_process\\split1new_s1y.csv\",header=None,index=0)"
   ]
  },
  {
   "cell_type": "code",
   "execution_count": 71,
   "id": "f5bb52e9",
   "metadata": {},
   "outputs": [
    {
     "data": {
      "text/plain": [
       "Label\n",
       "DoS attacks-Hulk            40209\n",
       "DDOS attack-HOIC            30831\n",
       "DDoS attacks-LOIC-HTTP      21607\n",
       "SSH-Bruteforce              20111\n",
       "Infilteration               18174\n",
       "Bot                         17871\n",
       "FTP-BruteForce              13988\n",
       "DoS attacks-GoldenEye        8299\n",
       "DoS attacks-SlowHTTPTest     6684\n",
       "dtype: int64"
      ]
     },
     "execution_count": 71,
     "metadata": {},
     "output_type": "execute_result"
    }
   ],
   "source": [
    "X3_11=X3_1.drop (X3_1[(X3_1.Label=='Benign')].index)\n",
    "X3_12= X3_1.drop (X3_1.index)\n",
    "X3_11.value_counts('Label')"
   ]
  },
  {
   "cell_type": "code",
   "execution_count": 72,
   "id": "8f64a1c3",
   "metadata": {},
   "outputs": [
    {
     "name": "stdout",
     "output_type": "stream",
     "text": [
      "(177774, 768)\n",
      "(177774, 78)\n"
     ]
    }
   ],
   "source": [
    "sp1 = X3_11.iloc[:,78:846]\n",
    "print ( sp1.shape)\n",
    "sp2 = X3_11.iloc[:,0:78]\n",
    "print ( sp2.shape)\n",
    "sp1.to_csv(r\"C:\\e\\学习资料\\02-03\\data\\data_process\\split1new_s3b.csv\",header=None,index=0)\n",
    "sp2.to_csv(r\"C:\\e\\学习资料\\02-03\\data\\data_process\\split1new_s3.csv\",header=True,index=0)"
   ]
  },
  {
   "cell_type": "code",
   "execution_count": 73,
   "id": "004ee55e",
   "metadata": {},
   "outputs": [
    {
     "name": "stdout",
     "output_type": "stream",
     "text": [
      "DoS attacks-Hulk            40209\n",
      "DDOS attack-HOIC            30831\n",
      "DDoS attacks-LOIC-HTTP      21607\n",
      "SSH-Bruteforce              20111\n",
      "Infilteration               18174\n",
      "Bot                         17871\n",
      "FTP-BruteForce              13988\n",
      "DoS attacks-GoldenEye        8299\n",
      "DoS attacks-SlowHTTPTest     6684\n",
      "Name: Label, dtype: int64\n",
      "['Bot' 'Bot' 'Bot' ... 'SSH-Bruteforce' 'SSH-Bruteforce' 'SSH-Bruteforce']\n",
      "[[1. 0. 0. ... 0. 0. 0.]\n",
      " [1. 0. 0. ... 0. 0. 0.]\n",
      " [1. 0. 0. ... 0. 0. 0.]\n",
      " ...\n",
      " [0. 0. 0. ... 0. 0. 1.]\n",
      " [0. 0. 0. ... 0. 0. 1.]\n",
      " [0. 0. 0. ... 0. 0. 1.]]\n"
     ]
    }
   ],
   "source": [
    "labelt=X3_11.Label.copy()\n",
    "print ( labelt.value_counts())\n",
    "arrs=labelt.values\n",
    "d1=np.array(arrs)\n",
    "values = array(d1)\n",
    "print(values)\n",
    "# integer encode\n",
    "label_encoder = LabelEncoder()\n",
    "integer_encoded = label_encoder.fit_transform(values)\n",
    "data3 = pd.DataFrame(integer_encoded) # header:原第一行的索引，index:原第一列的索引\n",
    "#data3.to_csv(r\"E:\\学习心得\\data\\cic-ids2018\\02-03\\ptrain1\\ptrain2_sli2_labeln.csv\",header=None,index=0)\n",
    "# # binary encode\n",
    "onehot_encoder = OneHotEncoder(sparse=False)\n",
    "integer_encoded = integer_encoded.reshape(len(integer_encoded), 1)\n",
    "onehot_encoded = onehot_encoder.fit_transform(integer_encoded)\n",
    "print(onehot_encoded)\n",
    "data4 = pd.DataFrame(onehot_encoded) # header:原第一行的索引，index:原第一列的索引\n",
    "data4.to_csv(r\"C:\\e\\学习资料\\02-03\\data\\data_process\\split1new_s3y.csv\",header=None,index=0)"
   ]
  },
  {
   "cell_type": "code",
   "execution_count": null,
   "id": "e7d6840a",
   "metadata": {},
   "outputs": [],
   "source": []
  }
 ],
 "metadata": {
  "kernelspec": {
   "display_name": "Python 3 (ipykernel)",
   "language": "python",
   "name": "python3"
  },
  "language_info": {
   "codemirror_mode": {
    "name": "ipython",
    "version": 3
   },
   "file_extension": ".py",
   "mimetype": "text/x-python",
   "name": "python",
   "nbconvert_exporter": "python",
   "pygments_lexer": "ipython3",
   "version": "3.9.7"
  }
 },
 "nbformat": 4,
 "nbformat_minor": 5
}
