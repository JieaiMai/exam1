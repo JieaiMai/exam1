{
 "cells": [
  {
   "cell_type": "code",
   "execution_count": 1,
   "id": "9016089f",
   "metadata": {},
   "outputs": [
    {
     "name": "stdout",
     "output_type": "stream",
     "text": [
      "(32, 10)\n",
      "(32, 10, 64)\n"
     ]
    }
   ],
   "source": [
    "import tensorflow as tf\n",
    "import numpy as np\n",
    "model = tf.keras.Sequential()\n",
    "model.add(tf.keras.layers.Embedding(1000, 64, input_length=10))\n",
    "# The model will take as input an integer matrix of size (batch,\n",
    "# input_length), and the largest integer (i.e. word index) in the input\n",
    "# should be no larger than 999 (vocabulary size).\n",
    "# Now model.output_shape is (None, 10, 64), where `None` is the batch\n",
    "# dimension.\n",
    "input_array = np.random.randint(1000, size=(32, 10))\n",
    "print ( input_array.shape)\n",
    "model.compile('rmsprop', 'mse')\n",
    "output_array = model.predict(input_array)\n",
    "print(output_array.shape)\n"
   ]
  },
  {
   "cell_type": "code",
   "execution_count": 2,
   "id": "c6b8cbe9",
   "metadata": {},
   "outputs": [
    {
     "name": "stdout",
     "output_type": "stream",
     "text": [
      "Label\n",
      "Benign    762384\n",
      "Bot       286191\n",
      "dtype: int64\n"
     ]
    }
   ],
   "source": [
    "import numpy as np\n",
    "import pandas as pd\n",
    "from sklearn.model_selection import train_test_split\n",
    "from sklearn.preprocessing import MinMaxScaler, StandardScaler\n",
    "from sklearn.metrics import classification_report\n",
    "from sklearn.svm import OneClassSVM\n",
    "\n",
    "dataset=pd.read_csv(r\"C:\\e\\学习资料\\02-03\\data\\Friday-02-03-2018_TrafficForML_CICFlowMeter.csv\")\n",
    "dataset.columns\n",
    "print ( dataset.value_counts('Label'))"
   ]
  },
  {
   "cell_type": "code",
   "execution_count": 8,
   "id": "50dba258",
   "metadata": {},
   "outputs": [
    {
     "data": {
      "text/plain": [
       "<bound method DataFrame.info of          Dst Port  Protocol            Timestamp  Flow Duration  Tot Fwd Pkts  \\\n",
       "0             443         6  02/03/2018 08:47:38         141385             9   \n",
       "1           49684         6  02/03/2018 08:47:38            281             2   \n",
       "2             443         6  02/03/2018 08:47:40         279824            11   \n",
       "3             443         6  02/03/2018 08:47:40            132             2   \n",
       "4             443         6  02/03/2018 08:47:41         274016             9   \n",
       "...           ...       ...                  ...            ...           ...   \n",
       "1048570      3389         6  02/03/2018 02:08:18        3982183            14   \n",
       "1048571      3389         6  02/03/2018 02:08:22        3802316            14   \n",
       "1048572      3389         6  02/03/2018 02:08:25        4004239            14   \n",
       "1048573      3389         6  02/03/2018 02:08:29        3998435            14   \n",
       "1048574      3389         6  02/03/2018 02:08:33        3972651            14   \n",
       "\n",
       "         Tot Bwd Pkts  TotLen Fwd Pkts  TotLen Bwd Pkts  Fwd Pkt Len Max  \\\n",
       "0                   7              553           3773.0              202   \n",
       "1                   1               38              0.0               38   \n",
       "2                  15             1086          10527.0              385   \n",
       "3                   0                0              0.0                0   \n",
       "4                  13             1285           6141.0              517   \n",
       "...               ...              ...              ...              ...   \n",
       "1048570             8             1442           1731.0              725   \n",
       "1048571             8             1440           1731.0              725   \n",
       "1048572             8             1459           1731.0              741   \n",
       "1048573             8             1459           1731.0              741   \n",
       "1048574             8             1439           1731.0              725   \n",
       "\n",
       "         Fwd Pkt Len Min  ...  Fwd Seg Size Min  Active Mean  Active Std  \\\n",
       "0                      0  ...                20          0.0         0.0   \n",
       "1                      0  ...                20          0.0         0.0   \n",
       "2                      0  ...                20          0.0         0.0   \n",
       "3                      0  ...                20          0.0         0.0   \n",
       "4                      0  ...                20          0.0         0.0   \n",
       "...                  ...  ...               ...          ...         ...   \n",
       "1048570                0  ...                20          0.0         0.0   \n",
       "1048571                0  ...                20          0.0         0.0   \n",
       "1048572                0  ...                20          0.0         0.0   \n",
       "1048573                0  ...                20          0.0         0.0   \n",
       "1048574                0  ...                20          0.0         0.0   \n",
       "\n",
       "         Active Max  Active Min  Idle Mean  Idle Std  Idle Max  Idle Min  \\\n",
       "0               0.0         0.0        0.0       0.0       0.0       0.0   \n",
       "1               0.0         0.0        0.0       0.0       0.0       0.0   \n",
       "2               0.0         0.0        0.0       0.0       0.0       0.0   \n",
       "3               0.0         0.0        0.0       0.0       0.0       0.0   \n",
       "4               0.0         0.0        0.0       0.0       0.0       0.0   \n",
       "...             ...         ...        ...       ...       ...       ...   \n",
       "1048570         0.0         0.0        0.0       0.0       0.0       0.0   \n",
       "1048571         0.0         0.0        0.0       0.0       0.0       0.0   \n",
       "1048572         0.0         0.0        0.0       0.0       0.0       0.0   \n",
       "1048573         0.0         0.0        0.0       0.0       0.0       0.0   \n",
       "1048574         0.0         0.0        0.0       0.0       0.0       0.0   \n",
       "\n",
       "          Label  \n",
       "0        Benign  \n",
       "1        Benign  \n",
       "2        Benign  \n",
       "3        Benign  \n",
       "4        Benign  \n",
       "...         ...  \n",
       "1048570  Benign  \n",
       "1048571  Benign  \n",
       "1048572  Benign  \n",
       "1048573  Benign  \n",
       "1048574  Benign  \n",
       "\n",
       "[1048575 rows x 80 columns]>"
      ]
     },
     "execution_count": 8,
     "metadata": {},
     "output_type": "execute_result"
    }
   ],
   "source": [
    "dataset.info"
   ]
  },
  {
   "cell_type": "code",
   "execution_count": 11,
   "id": "93abe270",
   "metadata": {},
   "outputs": [
    {
     "data": {
      "text/plain": [
       "Dst Port           int64\n",
       "Protocol           int64\n",
       "Timestamp         object\n",
       "Flow Duration      int64\n",
       "Tot Fwd Pkts       int64\n",
       "                  ...   \n",
       "Idle Mean        float64\n",
       "Idle Std         float64\n",
       "Idle Max         float64\n",
       "Idle Min         float64\n",
       "Label             object\n",
       "Length: 80, dtype: object"
      ]
     },
     "execution_count": 11,
     "metadata": {},
     "output_type": "execute_result"
    }
   ],
   "source": [
    "dataset.dtypes"
   ]
  },
  {
   "cell_type": "code",
   "execution_count": 12,
   "id": "5b98eb57",
   "metadata": {},
   "outputs": [
    {
     "data": {
      "text/plain": [
       "array(['Benign', 'Bot'], dtype=object)"
      ]
     },
     "execution_count": 12,
     "metadata": {},
     "output_type": "execute_result"
    }
   ],
   "source": [
    "dataset['Label'].unique()"
   ]
  },
  {
   "cell_type": "code",
   "execution_count": 14,
   "id": "759904c6",
   "metadata": {},
   "outputs": [],
   "source": [
    "df=dataset\n",
    "df.drop('Timestamp',axis=1,inplace=True)"
   ]
  },
  {
   "cell_type": "code",
   "execution_count": 15,
   "id": "1f95858c",
   "metadata": {},
   "outputs": [
    {
     "data": {
      "text/plain": [
       "(1048575, 79)"
      ]
     },
     "execution_count": 15,
     "metadata": {},
     "output_type": "execute_result"
    }
   ],
   "source": [
    "df.shape\n"
   ]
  },
  {
   "cell_type": "code",
   "execution_count": 16,
   "id": "99205015",
   "metadata": {},
   "outputs": [],
   "source": [
    "df['Flow Pkts/s']= df['Flow Pkts/s'].fillna(0)  # removing NAN and INF values\n",
    "df['Flow Byts/s']= df['Flow Byts/s'].fillna(0)\n",
    "df['Flow Pkts/s']= df['Flow Pkts/s'].replace(np.Infinity,1)\n",
    "df['Flow Byts/s']= df['Flow Byts/s'].replace(np.Infinity,1)"
   ]
  },
  {
   "cell_type": "code",
   "execution_count": 29,
   "id": "fbb4bd7d",
   "metadata": {},
   "outputs": [
    {
     "data": {
      "text/plain": [
       "(838860, 79)"
      ]
     },
     "execution_count": 29,
     "metadata": {},
     "output_type": "execute_result"
    }
   ],
   "source": [
    "train1 = df.groupby('Label').apply(pd.DataFrame.sample, frac=0.8).reset_index(level='Label', drop=True)\n",
    "test1 = df.drop(dataset.train.index)\n",
    "label1 = train1.Label.copy()\n",
    "train1.shape"
   ]
  },
  {
   "cell_type": "code",
   "execution_count": 20,
   "id": "0b06cd70",
   "metadata": {},
   "outputs": [
    {
     "data": {
      "text/plain": [
       "(209715, 79)"
      ]
     },
     "execution_count": 20,
     "metadata": {},
     "output_type": "execute_result"
    }
   ],
   "source": [
    "test1.shape"
   ]
  },
  {
   "cell_type": "code",
   "execution_count": 21,
   "id": "ea330340",
   "metadata": {},
   "outputs": [],
   "source": [
    "test1.drop('Protocol',axis=1,inplace=True)"
   ]
  },
  {
   "cell_type": "code",
   "execution_count": 22,
   "id": "55094d7d",
   "metadata": {},
   "outputs": [
    {
     "data": {
      "text/plain": [
       "(209715, 78)"
      ]
     },
     "execution_count": 22,
     "metadata": {},
     "output_type": "execute_result"
    }
   ],
   "source": [
    "test1.shape"
   ]
  },
  {
   "cell_type": "code",
   "execution_count": 26,
   "id": "83acdaa7",
   "metadata": {},
   "outputs": [],
   "source": [
    "test1.drop('Dst Port',axis=1,inplace=True)"
   ]
  },
  {
   "cell_type": "code",
   "execution_count": 27,
   "id": "7e864d88",
   "metadata": {},
   "outputs": [
    {
     "data": {
      "text/plain": [
       "(209715, 77)"
      ]
     },
     "execution_count": 27,
     "metadata": {},
     "output_type": "execute_result"
    }
   ],
   "source": [
    "test1.shape"
   ]
  },
  {
   "cell_type": "code",
   "execution_count": 35,
   "id": "2efed27c",
   "metadata": {},
   "outputs": [
    {
     "data": {
      "text/plain": [
       "Flow Duration        int64\n",
       "Tot Fwd Pkts         int64\n",
       "Tot Bwd Pkts         int64\n",
       "TotLen Fwd Pkts      int64\n",
       "TotLen Bwd Pkts    float64\n",
       "                    ...   \n",
       "Idle Mean          float64\n",
       "Idle Std           float64\n",
       "Idle Max           float64\n",
       "Idle Min           float64\n",
       "Label               object\n",
       "Length: 77, dtype: object"
      ]
     },
     "execution_count": 35,
     "metadata": {},
     "output_type": "execute_result"
    }
   ],
   "source": [
    "#train1.drop('Protocol',axis=1,inplace=True)\n",
    "#train1.drop('Dst Port',axis=1,inplace=True)\n",
    "label2 = test1.Label.copy()\n",
    "#test1.drop('Protocol',axis=1,inplace=True)\n",
    "#test1.drop('Dst Port',axis=1,inplace=True)\n",
    "label1 = train1.Label.copy()\n",
    "train1.shape\n",
    "train1.dtypes"
   ]
  },
  {
   "cell_type": "code",
   "execution_count": 41,
   "id": "1e4c0c56",
   "metadata": {},
   "outputs": [
    {
     "name": "stdout",
     "output_type": "stream",
     "text": [
      "(838860,)\n",
      "object\n",
      "(209715,)\n",
      "object\n",
      "791804    Benign\n",
      "845543    Benign\n",
      "487294    Benign\n",
      "404957    Benign\n",
      "456387    Benign\n",
      "           ...  \n",
      "93960        Bot\n",
      "304831       Bot\n",
      "229426       Bot\n",
      "324235       Bot\n",
      "30618        Bot\n",
      "Name: Label, Length: 838860, dtype: object\n",
      "2          Benign\n",
      "3          Benign\n",
      "9          Benign\n",
      "14         Benign\n",
      "16         Benign\n",
      "            ...  \n",
      "1048549    Benign\n",
      "1048561    Benign\n",
      "1048562    Benign\n",
      "1048564    Benign\n",
      "1048566    Benign\n",
      "Name: Label, Length: 209715, dtype: object\n"
     ]
    }
   ],
   "source": [
    "label1 = train1.Label.copy()\n",
    "label2 = test1.Label.copy()\n",
    "print (label1.shape)\n",
    "print (label1.dtypes)\n",
    "print (label2.shape)\n",
    "print (label2.dtypes)\n",
    "print (label1)\n",
    "print (label2)"
   ]
  },
  {
   "cell_type": "code",
   "execution_count": 34,
   "id": "0d15a191",
   "metadata": {},
   "outputs": [
    {
     "data": {
      "text/plain": [
       "Flow Duration        int64\n",
       "Tot Fwd Pkts         int64\n",
       "Tot Bwd Pkts         int64\n",
       "TotLen Fwd Pkts      int64\n",
       "TotLen Bwd Pkts    float64\n",
       "                    ...   \n",
       "Idle Mean          float64\n",
       "Idle Std           float64\n",
       "Idle Max           float64\n",
       "Idle Min           float64\n",
       "Label               object\n",
       "Length: 77, dtype: object"
      ]
     },
     "execution_count": 34,
     "metadata": {},
     "output_type": "execute_result"
    }
   ],
   "source": [
    "train1.dtypes"
   ]
  },
  {
   "cell_type": "code",
   "execution_count": 42,
   "id": "53a2d448",
   "metadata": {},
   "outputs": [
    {
     "data": {
      "text/plain": [
       "Benign    609907\n",
       "Bot       228953\n",
       "Name: Label, dtype: int64"
      ]
     },
     "execution_count": 42,
     "metadata": {},
     "output_type": "execute_result"
    }
   ],
   "source": [
    "label1.unique()\n",
    "label1.value_counts()"
   ]
  },
  {
   "cell_type": "code",
   "execution_count": 43,
   "id": "dbd89490",
   "metadata": {},
   "outputs": [
    {
     "data": {
      "text/plain": [
       "Benign    152477\n",
       "Bot        57238\n",
       "Name: Label, dtype: int64"
      ]
     },
     "execution_count": 43,
     "metadata": {},
     "output_type": "execute_result"
    }
   ],
   "source": [
    "label2.unique()\n",
    "label2.value_counts()"
   ]
  },
  {
   "cell_type": "code",
   "execution_count": 44,
   "id": "0557ea73",
   "metadata": {},
   "outputs": [],
   "source": [
    "train1.drop('Label',axis=1,inplace=True)\n",
    "test1.drop('Label',axis=1,inplace=True)"
   ]
  },
  {
   "cell_type": "raw",
   "id": "4f51b77a",
   "metadata": {},
   "source": [
    "print (train1.shape)\n",
    "print (test1.shape)"
   ]
  },
  {
   "cell_type": "code",
   "execution_count": 45,
   "id": "7f74a1a7",
   "metadata": {},
   "outputs": [
    {
     "name": "stdout",
     "output_type": "stream",
     "text": [
      "(838860, 76)\n",
      "(209715, 78)\n"
     ]
    }
   ],
   "source": [
    "print (train1.shape)\n",
    "print (test1.shape)"
   ]
  },
  {
   "cell_type": "code",
   "execution_count": 46,
   "id": "8f1ee24d",
   "metadata": {},
   "outputs": [],
   "source": [
    "test1.drop('Protocol',axis=1,inplace=True)\n",
    "test1.drop('Dst Port',axis=1,inplace=True)"
   ]
  },
  {
   "cell_type": "code",
   "execution_count": 47,
   "id": "4930d4dd",
   "metadata": {},
   "outputs": [
    {
     "name": "stdout",
     "output_type": "stream",
     "text": [
      "(209715, 76)\n"
     ]
    }
   ],
   "source": [
    "print (test1.shape)"
   ]
  },
  {
   "cell_type": "code",
   "execution_count": 48,
   "id": "fd0c5daa",
   "metadata": {},
   "outputs": [
    {
     "name": "stdout",
     "output_type": "stream",
     "text": [
      "(838860, 76)\n",
      "(209715, 76)\n"
     ]
    }
   ],
   "source": [
    "print (train1.shape)\n",
    "print (test1.shape)"
   ]
  },
  {
   "cell_type": "code",
   "execution_count": 49,
   "id": "6503bb6c",
   "metadata": {},
   "outputs": [
    {
     "data": {
      "text/plain": [
       "Flow Duration        int64\n",
       "Tot Fwd Pkts         int64\n",
       "Tot Bwd Pkts         int64\n",
       "TotLen Fwd Pkts      int64\n",
       "TotLen Bwd Pkts    float64\n",
       "                    ...   \n",
       "Active Min         float64\n",
       "Idle Mean          float64\n",
       "Idle Std           float64\n",
       "Idle Max           float64\n",
       "Idle Min           float64\n",
       "Length: 76, dtype: object"
      ]
     },
     "execution_count": 49,
     "metadata": {},
     "output_type": "execute_result"
    }
   ],
   "source": [
    "train1.dtypes"
   ]
  },
  {
   "cell_type": "code",
   "execution_count": 50,
   "id": "11d4b459",
   "metadata": {},
   "outputs": [
    {
     "data": {
      "text/plain": [
       "Flow Duration        int64\n",
       "Tot Fwd Pkts         int64\n",
       "Tot Bwd Pkts         int64\n",
       "TotLen Fwd Pkts      int64\n",
       "TotLen Bwd Pkts    float64\n",
       "                    ...   \n",
       "Active Min         float64\n",
       "Idle Mean          float64\n",
       "Idle Std           float64\n",
       "Idle Max           float64\n",
       "Idle Min           float64\n",
       "Length: 76, dtype: object"
      ]
     },
     "execution_count": 50,
     "metadata": {},
     "output_type": "execute_result"
    }
   ],
   "source": [
    "test1.dtypes"
   ]
  },
  {
   "cell_type": "code",
   "execution_count": 59,
   "id": "1ceb1c75",
   "metadata": {},
   "outputs": [],
   "source": [
    "#train1.to_csv(r\"E:\\学习心得\\data\\cic-ids2018\\02-03\\train1.csv\",header=None,index=0)\n",
    "test1.to_csv(r\"E:\\学习心得\\data\\cic-ids2018\\02-03\\test1.csv\",header=None,index=0)"
   ]
  },
  {
   "cell_type": "code",
   "execution_count": 65,
   "id": "d0553181",
   "metadata": {},
   "outputs": [
    {
     "name": "stdout",
     "output_type": "stream",
     "text": [
      "['Benign' 'Benign' 'Benign' ... 'Bot' 'Bot' 'Bot']\n",
      "[[1. 0.]\n",
      " [1. 0.]\n",
      " [1. 0.]\n",
      " ...\n",
      " [0. 1.]\n",
      " [0. 1.]\n",
      " [0. 1.]]\n"
     ]
    }
   ],
   "source": [
    "from numpy import array\n",
    "from numpy import argmax\n",
    "from sklearn.preprocessing import LabelEncoder\n",
    "from sklearn.preprocessing import OneHotEncoder\n",
    "arrs=label1.values\n",
    "d1=np.array(arrs)\n",
    "values = array(d1)\n",
    "print(values)\n",
    "# integer encode\n",
    "label_encoder = LabelEncoder()\n",
    "integer_encoded = label_encoder.fit_transform(values)\n",
    "data3 = pd.DataFrame(integer_encoded) # header:原第一行的索引，index:原第一列的索引\n",
    "#data3.to_csv(r\"E:\\学习心得\\data\\cic-ids2018\\28-02\\28pl1.csv\",header=None,index=0)\n",
    "# # binary encode\n",
    "onehot_encoder = OneHotEncoder(sparse=False)\n",
    "integer_encoded = integer_encoded.reshape(len(integer_encoded), 1)\n",
    "onehot_encoded = onehot_encoder.fit_transform(integer_encoded)\n",
    "print(onehot_encoded)\n",
    "data4 = pd.DataFrame(onehot_encoded) # header:原第一行的索引，index:原第一列的索引\n",
    "data4.to_csv(r\"E:\\学习心得\\data\\cic-ids2018\\02-03\\label1.csv\",header=None,index=0)"
   ]
  },
  {
   "cell_type": "code",
   "execution_count": 74,
   "id": "56649203",
   "metadata": {},
   "outputs": [
    {
     "name": "stdout",
     "output_type": "stream",
     "text": [
      "(209715,)\n",
      "['Benign' 'Benign' 'Benign' ... 'Bot' 'Bot' 'Bot']\n",
      "[[1. 0.]\n",
      " [1. 0.]\n",
      " [1. 0.]\n",
      " ...\n",
      " [1. 0.]\n",
      " [1. 0.]\n",
      " [1. 0.]]\n"
     ]
    }
   ],
   "source": [
    "arrs2=label2.values\n",
    "print ( label2.shape)\n",
    "d2=np.array(arrs2)\n",
    "values2 = array(d2)\n",
    "print(values)\n",
    "# integer encode\n",
    "label_encoder2 = LabelEncoder()\n",
    "integer_encoded2 = label_encoder2.fit_transform(values2)\n",
    "d3 = pd.DataFrame(integer_encoded2) # header:原第一行的索引，index:原第一列的索引\n",
    "#data3.to_csv(r\"E:\\学习心得\\data\\cic-ids2018\\28-02\\28pl1.csv\",header=None,index=0)\n",
    "# # binary encode\n",
    "onehot_encoder2 = OneHotEncoder(sparse=False)\n",
    "integer_encoded2 = integer_encoded2.reshape(len(integer_encoded2), 1)\n",
    "onehot_encoded2 = onehot_encoder.fit_transform(integer_encoded2)\n",
    "print(onehot_encoded2)\n",
    "d4 = pd.DataFrame(onehot_encoded2) # header:原第一行的索引，index:原第一列的索引\n",
    "d4.to_csv(r\"E:\\学习心得\\data\\cic-ids2018\\02-03\\label2.csv\",header=None,index=0)"
   ]
  },
  {
   "cell_type": "code",
   "execution_count": 75,
   "id": "f30477a3",
   "metadata": {},
   "outputs": [
    {
     "name": "stdout",
     "output_type": "stream",
     "text": [
      "(838860, 2)\n",
      "(209715, 2)\n"
     ]
    }
   ],
   "source": [
    "lb1=pd.read_csv(r\"E:\\学习心得\\data\\cic-ids2018\\02-03\\label1.csv\",header=None,index_col=None)\n",
    "print (lb1.shape)\n",
    "lb2=pd.read_csv(r\"E:\\学习心得\\data\\cic-ids2018\\02-03\\label2.csv\",header=None,index_col=None)\n",
    "print (lb2.shape)"
   ]
  },
  {
   "cell_type": "code",
   "execution_count": null,
   "id": "448f8ba2",
   "metadata": {},
   "outputs": [],
   "source": []
  }
 ],
 "metadata": {
  "kernelspec": {
   "display_name": "Python 3 (ipykernel)",
   "language": "python",
   "name": "python3"
  },
  "language_info": {
   "codemirror_mode": {
    "name": "ipython",
    "version": 3
   },
   "file_extension": ".py",
   "mimetype": "text/x-python",
   "name": "python",
   "nbconvert_exporter": "python",
   "pygments_lexer": "ipython3",
   "version": "3.9.7"
  }
 },
 "nbformat": 4,
 "nbformat_minor": 5
}
