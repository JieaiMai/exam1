{
 "cells": [
  {
   "cell_type": "code",
   "execution_count": 28,
   "id": "b1b8f76a",
   "metadata": {},
   "outputs": [
    {
     "name": "stdout",
     "output_type": "stream",
     "text": [
      "(249605, 78)\n"
     ]
    }
   ],
   "source": [
    "import numpy as np\n",
    "import pandas as pd\n",
    "from sklearn.model_selection import train_test_split\n",
    "from sklearn.preprocessing import MinMaxScaler, StandardScaler\n",
    "from sklearn.metrics import classification_report\n",
    "from sklearn.svm import OneClassSVM\n",
    "from numpy import array\n",
    "from numpy import argmax\n",
    "from sklearn.preprocessing import LabelEncoder\n",
    "from sklearn.preprocessing import OneHotEncoder\n",
    "\n",
    "p1=pd.read_csv(r\"C:\\e\\学习资料\\02-03\\data\\data_process\\split3.csv\")\n",
    "print ( p1.shape)"
   ]
  },
  {
   "cell_type": "code",
   "execution_count": 29,
   "id": "d7b85218",
   "metadata": {},
   "outputs": [],
   "source": [
    "p1.drop_duplicates( keep='first',inplace=True)"
   ]
  },
  {
   "cell_type": "code",
   "execution_count": 30,
   "id": "1fa7a393",
   "metadata": {},
   "outputs": [
    {
     "name": "stdout",
     "output_type": "stream",
     "text": [
      "(228229, 78)\n"
     ]
    }
   ],
   "source": [
    "print ( p1.shape)"
   ]
  },
  {
   "cell_type": "code",
   "execution_count": 31,
   "id": "7af68ef8",
   "metadata": {},
   "outputs": [
    {
     "data": {
      "text/plain": [
       "Label\n",
       "Benign                      47630\n",
       "DoS attacks-Hulk            40187\n",
       "DDOS attack-HOIC            30828\n",
       "DDoS attacks-LOIC-HTTP      21607\n",
       "SSH-Bruteforce              20159\n",
       "Infilteration               18109\n",
       "Bot                         17868\n",
       "FTP-BruteForce              14112\n",
       "DoS attacks-GoldenEye        8302\n",
       "DoS attacks-SlowHTTPTest     6731\n",
       "DoS attacks-Slowloris        2122\n",
       "DDOS attack-LOIC-UDP          432\n",
       "Brute Force -Web               90\n",
       "Brute Force -XSS               38\n",
       "SQL Injection                  14\n",
       "dtype: int64"
      ]
     },
     "execution_count": 31,
     "metadata": {},
     "output_type": "execute_result"
    }
   ],
   "source": [
    "p1.value_counts('Label')"
   ]
  },
  {
   "cell_type": "code",
   "execution_count": 32,
   "id": "bd63aa43",
   "metadata": {},
   "outputs": [
    {
     "name": "stdout",
     "output_type": "stream",
     "text": [
      "(228229, 78)\n",
      "(228229, 78)\n"
     ]
    }
   ],
   "source": [
    "print ( p1.shape )\n",
    "\n",
    "for index in p1.columns:\n",
    "    p1[index]=p1[index].fillna(0)\n",
    "    p1[index]=p1[index].replace(np.Infinity,1)\n",
    "\n",
    "#X.drop ( columus=[77],axis=1,inplace=True)\n",
    "#X.to_csv(r\"E:\\学习心得\\data\\cic-ids2018\\02-03\\pva1\\pva_1.csv\", header=None,index=0)\n",
    "print (p1.shape)"
   ]
  },
  {
   "cell_type": "code",
   "execution_count": 33,
   "id": "777aa7cf",
   "metadata": {},
   "outputs": [],
   "source": [
    "p1.to_csv(r\"C:\\e\\学习资料\\02-03\\data\\data_process\\3\\split3new.csv\",header=True,index=0)"
   ]
  },
  {
   "cell_type": "code",
   "execution_count": 34,
   "id": "29e88e4e",
   "metadata": {},
   "outputs": [],
   "source": [
    "X=p1"
   ]
  },
  {
   "cell_type": "code",
   "execution_count": 35,
   "id": "b6161e06",
   "metadata": {},
   "outputs": [
    {
     "data": {
      "text/plain": [
       "Label\n",
       "Benign                      47630\n",
       "DoS attacks-Hulk            40187\n",
       "DDOS attack-HOIC            30828\n",
       "DDoS attacks-LOIC-HTTP      21607\n",
       "SSH-Bruteforce              20159\n",
       "Infilteration               18109\n",
       "Bot                         17868\n",
       "FTP-BruteForce              14112\n",
       "DoS attacks-GoldenEye        8302\n",
       "DoS attacks-SlowHTTPTest     6731\n",
       "DoS attacks-Slowloris        2122\n",
       "DDOS attack-LOIC-UDP          432\n",
       "Brute Force -Web               90\n",
       "Brute Force -XSS               38\n",
       "SQL Injection                  14\n",
       "dtype: int64"
      ]
     },
     "execution_count": 35,
     "metadata": {},
     "output_type": "execute_result"
    }
   ],
   "source": [
    "X.value_counts('Label')"
   ]
  },
  {
   "cell_type": "code",
   "execution_count": 36,
   "id": "9d89eb4b",
   "metadata": {},
   "outputs": [
    {
     "data": {
      "text/plain": [
       "Label\n",
       "Benign                      47630\n",
       "DoS attacks-Hulk            40187\n",
       "DDOS attack-HOIC            30828\n",
       "DDoS attacks-LOIC-HTTP      21607\n",
       "SSH-Bruteforce              20159\n",
       "Infilteration               18109\n",
       "Bot                         17868\n",
       "FTP-BruteForce              14112\n",
       "DoS attacks-GoldenEye        8302\n",
       "DoS attacks-SlowHTTPTest     6731\n",
       "dtype: int64"
      ]
     },
     "execution_count": 36,
     "metadata": {},
     "output_type": "execute_result"
    }
   ],
   "source": [
    "X3_1=X.drop (X[(X.Label=='SQL Injection')|(X.Label=='Brute Force -XSS')|(X.Label=='Brute Force -Web')|(X.Label=='DDOS attack-LOIC-UDP')|(X.Label=='DoS attacks-Slowloris' )].index)\n",
    "X3_2= X.drop (X3_1.index)\n",
    "X3_1.value_counts('Label')"
   ]
  },
  {
   "cell_type": "code",
   "execution_count": 37,
   "id": "871c0732",
   "metadata": {},
   "outputs": [],
   "source": [
    "X3_1.to_csv(r\"C:\\e\\学习资料\\02-03\\data\\data_process\\3\\split3new_s1.csv\",header=True,index=0)"
   ]
  },
  {
   "cell_type": "code",
   "execution_count": 38,
   "id": "1615da96",
   "metadata": {},
   "outputs": [],
   "source": [
    "X3_2.to_csv(r\"C:\\e\\学习资料\\02-03\\data\\data_process\\3\\split3new_s2.csv\",header=True,index=0)"
   ]
  },
  {
   "cell_type": "code",
   "execution_count": 39,
   "id": "880240ff",
   "metadata": {},
   "outputs": [
    {
     "name": "stdout",
     "output_type": "stream",
     "text": [
      "(177903, 78)\n",
      "(47630, 78)\n"
     ]
    }
   ],
   "source": [
    "X3_11=X3_1.drop (X3_1[(X3_1.Label=='Benign')].index)\n",
    "X3_12= X3_1.drop (X3_11.index)\n",
    "X3_11.value_counts('Label')\n",
    "print ( X3_11.shape)\n",
    "print ( X3_12.shape)"
   ]
  },
  {
   "cell_type": "code",
   "execution_count": 40,
   "id": "e719d86a",
   "metadata": {},
   "outputs": [],
   "source": [
    "X3_11.to_csv(r\"C:\\e\\学习资料\\02-03\\data\\data_process\\2\\split3new_s3.csv\",header=True,index=0)"
   ]
  },
  {
   "cell_type": "code",
   "execution_count": null,
   "id": "ec881f78",
   "metadata": {},
   "outputs": [],
   "source": []
  }
 ],
 "metadata": {
  "kernelspec": {
   "display_name": "Python 3 (ipykernel)",
   "language": "python",
   "name": "python3"
  },
  "language_info": {
   "codemirror_mode": {
    "name": "ipython",
    "version": 3
   },
   "file_extension": ".py",
   "mimetype": "text/x-python",
   "name": "python",
   "nbconvert_exporter": "python",
   "pygments_lexer": "ipython3",
   "version": "3.9.7"
  }
 },
 "nbformat": 4,
 "nbformat_minor": 5
}
