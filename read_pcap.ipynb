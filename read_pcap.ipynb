{
 "cells": [
  {
   "cell_type": "code",
   "execution_count": null,
   "id": "a0aef2d1",
   "metadata": {},
   "outputs": [
    {
     "name": "stderr",
     "output_type": "stream",
     "text": [
      "WARNING: No libpcap provider available ! pcap won't be used\n"
     ]
    }
   ],
   "source": [
    "import scapy\n",
    "from scapy.all import *\n",
    "from scapy.utils import PcapReader\n",
    "packets=rdpcap(r\"E:\\学习心得\\data\\cic-ids2018\\pcap\\pcap\\capDESKTOP-AN3U28N-172.31.66.101.pcap\")\n",
    "for data in packets:\n",
    "    if 'UDP' in data:\n",
    "        s = repr(data)\n",
    "        print(s)\n",
    "        print(data['UDP'].sport)\n",
    "        break"
   ]
  },
  {
   "cell_type": "code",
   "execution_count": null,
   "id": "47e2324a",
   "metadata": {},
   "outputs": [],
   "source": []
  }
 ],
 "metadata": {
  "kernelspec": {
   "display_name": "Python 3 (ipykernel)",
   "language": "python",
   "name": "python3"
  },
  "language_info": {
   "codemirror_mode": {
    "name": "ipython",
    "version": 3
   },
   "file_extension": ".py",
   "mimetype": "text/x-python",
   "name": "python",
   "nbconvert_exporter": "python",
   "pygments_lexer": "ipython3",
   "version": "3.9.7"
  }
 },
 "nbformat": 4,
 "nbformat_minor": 5
}
