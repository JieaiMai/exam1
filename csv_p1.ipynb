{
 "cells": [
  {
   "cell_type": "code",
   "execution_count": 36,
   "id": "2ff8fc42",
   "metadata": {},
   "outputs": [
    {
     "name": "stdout",
     "output_type": "stream",
     "text": [
      "Label\n",
      "Benign    762384\n",
      "Bot       286191\n",
      "dtype: int64\n"
     ]
    }
   ],
   "source": [
    "import numpy as np\n",
    "import pandas as pd\n",
    "from sklearn.model_selection import train_test_split\n",
    "from sklearn.preprocessing import MinMaxScaler, StandardScaler\n",
    "from sklearn.metrics import classification_report\n",
    "from sklearn.svm import OneClassSVM\n",
    "\n",
    "d1=pd.read_csv(r\"C:\\e\\学习资料\\02-03\\data\\Friday-02-03-2018_TrafficForML_CICFlowMeter.csv\")\n",
    "d1.columns\n",
    "print ( d1.value_counts('Label'))"
   ]
  },
  {
   "cell_type": "code",
   "execution_count": 37,
   "id": "cd702b83",
   "metadata": {},
   "outputs": [
    {
     "name": "stdout",
     "output_type": "stream",
     "text": [
      "Label\n",
      "Bot    286191\n",
      "dtype: int64\n",
      "Label\n",
      "Benign    381192\n",
      "Bot       143096\n",
      "dtype: int64\n"
     ]
    }
   ],
   "source": [
    "dt1=d1.groupby('Label').apply(pd.DataFrame.sample, frac=0.5).reset_index(level='Label', drop=True)\n",
    "#pt2=pt1.drop (pt1[(pt1.Label=='SQL Injection')|(pt1.Label=='Brute Force -XSS')|(pt1.Label=='Brute Force -Web')|(pt1.Label=='DDOS attack-LOIC-UDP')|(pt1.Label=='DoS attacks-Slowloris' )].index)\n",
    "#ptf2=ptf.drop (ptf[(ptf.Label=='SQL Injection')|(ptf.Label=='Brute Force -XSS')|(ptf.Label=='Brute Force -Web')|(ptf.Label=='DDOS attack-LOIC-UDP')|(ptf.Label=='DoS attacks-Slowloris' )].index)\n",
    "d1_s=d1.drop (d1[(d1.Label=='Benign')].index)\n",
    "print (d1_s.value_counts('Label'))\n",
    "print ( dt1.value_counts('Label'))"
   ]
  },
  {
   "cell_type": "code",
   "execution_count": 38,
   "id": "ab3052cc",
   "metadata": {},
   "outputs": [
    {
     "name": "stdout",
     "output_type": "stream",
     "text": [
      "Label\n",
      "DoS attacks-Hulk            461912\n",
      "Benign                      446772\n",
      "DoS attacks-SlowHTTPTest    139890\n",
      "Label                            1\n",
      "dtype: int64\n"
     ]
    }
   ],
   "source": [
    "d2=pd.read_csv(r\"C:\\e\\学习资料\\02-03\\data\\Friday-16-02-2018_TrafficForML_CICFlowMeter.csv\")\n",
    "d2.columns\n",
    "print ( d2.value_counts('Label'))"
   ]
  },
  {
   "cell_type": "code",
   "execution_count": 39,
   "id": "217029ad",
   "metadata": {},
   "outputs": [
    {
     "name": "stdout",
     "output_type": "stream",
     "text": [
      "Label\n",
      "DoS attacks-Hulk            461912\n",
      "Benign                      446772\n",
      "DoS attacks-SlowHTTPTest    139890\n",
      "dtype: int64\n"
     ]
    }
   ],
   "source": [
    "d2=d2.drop (d2[(d2.Label=='Label')].index)\n",
    "print ( d2.value_counts('Label'))"
   ]
  },
  {
   "cell_type": "code",
   "execution_count": 40,
   "id": "1fb734c8",
   "metadata": {},
   "outputs": [
    {
     "name": "stdout",
     "output_type": "stream",
     "text": [
      "Label\n",
      "DoS attacks-Hulk            461912\n",
      "DoS attacks-SlowHTTPTest    139890\n",
      "dtype: int64\n"
     ]
    }
   ],
   "source": [
    "d2_s=d2.drop (d2[(d2.Label=='Benign')].index)\n",
    "print ( d2_s.value_counts('Label'))"
   ]
  },
  {
   "cell_type": "code",
   "execution_count": 41,
   "id": "d86b6c3e",
   "metadata": {},
   "outputs": [
    {
     "name": "stdout",
     "output_type": "stream",
     "text": [
      "Label\n",
      "DoS attacks-Hulk            323338\n",
      "DoS attacks-SlowHTTPTest     97923\n",
      "dtype: int64\n"
     ]
    }
   ],
   "source": [
    "dt2_s=d2_s.groupby('Label').apply(pd.DataFrame.sample, frac=0.7).reset_index(level='Label', drop=True)\n",
    "print ( dt2_s.value_counts('Label'))"
   ]
  },
  {
   "cell_type": "code",
   "execution_count": 42,
   "id": "69acca2e",
   "metadata": {},
   "outputs": [
    {
     "name": "stdout",
     "output_type": "stream",
     "text": [
      "Label\n",
      "Benign                      381192\n",
      "DoS attacks-Hulk            323338\n",
      "Bot                         143096\n",
      "DoS attacks-SlowHTTPTest     97923\n",
      "dtype: int64\n"
     ]
    }
   ],
   "source": [
    "dt1=dt1.append(dt2_s)\n",
    "print (dt1.value_counts('Label'))"
   ]
  },
  {
   "cell_type": "code",
   "execution_count": 43,
   "id": "fc760069",
   "metadata": {},
   "outputs": [
    {
     "name": "stdout",
     "output_type": "stream",
     "text": [
      "Label\n",
      "Benign              1048009\n",
      "Brute Force -Web        362\n",
      "Brute Force -XSS        151\n",
      "SQL Injection            53\n",
      "dtype: int64\n"
     ]
    }
   ],
   "source": [
    "d2=pd.read_csv(r\"C:\\e\\学习资料\\02-03\\data\\Friday-23-02-2018_TrafficForML_CICFlowMeter.csv\")\n",
    "d2.columns\n",
    "print ( d2.value_counts('Label'))"
   ]
  },
  {
   "cell_type": "code",
   "execution_count": 44,
   "id": "507fd431",
   "metadata": {},
   "outputs": [
    {
     "name": "stdout",
     "output_type": "stream",
     "text": [
      "Label\n",
      "Brute Force -Web    362\n",
      "Brute Force -XSS    151\n",
      "SQL Injection        53\n",
      "dtype: int64\n"
     ]
    }
   ],
   "source": [
    "d3_s=d2.drop (d2[(d2.Label=='Benign')].index)\n",
    "print ( d3_s.value_counts('Label'))"
   ]
  },
  {
   "cell_type": "code",
   "execution_count": 45,
   "id": "3326267c",
   "metadata": {},
   "outputs": [
    {
     "name": "stdout",
     "output_type": "stream",
     "text": [
      "Label\n",
      "Benign                    7372557\n",
      "DDoS attacks-LOIC-HTTP     576191\n",
      "dtype: int64\n"
     ]
    }
   ],
   "source": [
    "d4=pd.read_csv(r\"C:\\e\\学习资料\\02-03\\data\\Thuesday-20-02-2018_TrafficForML_CICFlowMeter.csv\")\n",
    "d4.columns\n",
    "print ( d4.value_counts('Label'))"
   ]
  },
  {
   "cell_type": "code",
   "execution_count": 14,
   "id": "d09a8a4a",
   "metadata": {},
   "outputs": [],
   "source": [
    "d4t=d4.groupby('Label').apply(pd.DataFrame.sample, frac=0.3).reset_index(level='Label', drop=True)"
   ]
  },
  {
   "cell_type": "code",
   "execution_count": 46,
   "id": "fec7afb1",
   "metadata": {},
   "outputs": [
    {
     "name": "stdout",
     "output_type": "stream",
     "text": [
      "Label\n",
      "Benign                    2211767\n",
      "DDoS attacks-LOIC-HTTP     172857\n",
      "dtype: int64\n"
     ]
    }
   ],
   "source": [
    "print ( d4t.value_counts('Label'))"
   ]
  },
  {
   "cell_type": "code",
   "execution_count": 48,
   "id": "fe8207ac",
   "metadata": {},
   "outputs": [],
   "source": [
    "d4t_s=d4t.drop ( d4t[(d4t.Label=='Benign')].index)"
   ]
  },
  {
   "cell_type": "code",
   "execution_count": 49,
   "id": "d3d0d2a3",
   "metadata": {},
   "outputs": [
    {
     "name": "stdout",
     "output_type": "stream",
     "text": [
      "Label\n",
      "DDoS attacks-LOIC-HTTP    172857\n",
      "dtype: int64\n"
     ]
    }
   ],
   "source": [
    "print ( d4t_s.value_counts('Label'))"
   ]
  },
  {
   "cell_type": "code",
   "execution_count": 50,
   "id": "a925a424",
   "metadata": {},
   "outputs": [
    {
     "name": "stdout",
     "output_type": "stream",
     "text": [
      "Label\n",
      "Benign                      381192\n",
      "DoS attacks-Hulk            323338\n",
      "DDoS attacks-LOIC-HTTP      172857\n",
      "Bot                         143096\n",
      "DoS attacks-SlowHTTPTest     97923\n",
      "dtype: int64\n"
     ]
    }
   ],
   "source": [
    "dt1=dt1.append(d4t_s)\n",
    "print (dt1.value_counts('Label'))"
   ]
  },
  {
   "cell_type": "code",
   "execution_count": 51,
   "id": "8df22a4d",
   "metadata": {},
   "outputs": [
    {
     "name": "stdout",
     "output_type": "stream",
     "text": [
      "Label\n",
      "Benign                      190596\n",
      "DoS attacks-Hulk            161669\n",
      "DDoS attacks-LOIC-HTTP       86428\n",
      "Bot                          71548\n",
      "DoS attacks-SlowHTTPTest     48962\n",
      "dtype: int64\n"
     ]
    }
   ],
   "source": [
    "dt1_1=dt1.groupby('Label').apply(pd.DataFrame.sample, frac=0.5).reset_index(level='Label', drop=True)\n",
    "print (dt1_1.value_counts('Label'))"
   ]
  },
  {
   "cell_type": "code",
   "execution_count": 52,
   "id": "0c888152",
   "metadata": {},
   "outputs": [
    {
     "name": "stdout",
     "output_type": "stream",
     "text": [
      "Label\n",
      "Benign           238037\n",
      "Infilteration     93063\n",
      "Label                25\n",
      "dtype: int64\n"
     ]
    }
   ],
   "source": [
    "d5=pd.read_csv(r\"C:\\e\\学习资料\\02-03\\data\\Thursday-01-03-2018_TrafficForML_CICFlowMeter.csv\")\n",
    "d5.columns\n",
    "print ( d5.value_counts('Label'))"
   ]
  },
  {
   "cell_type": "code",
   "execution_count": 53,
   "id": "09f3f4be",
   "metadata": {},
   "outputs": [
    {
     "name": "stdout",
     "output_type": "stream",
     "text": [
      "Label\n",
      "Benign                      190596\n",
      "DoS attacks-Hulk            161669\n",
      "DDoS attacks-LOIC-HTTP       86428\n",
      "Bot                          71548\n",
      "DoS attacks-SlowHTTPTest     48962\n",
      "Infilteration                46532\n",
      "dtype: int64\n"
     ]
    }
   ],
   "source": [
    "d5=d5.drop (d5[(d5.Label=='Benign')|(d5.Label=='Label')].index)\n",
    "dt5=d5.groupby('Label').apply(pd.DataFrame.sample, frac=0.5).reset_index(level='Label', drop=True)\n",
    "dt1_1=dt1_1.append ( dt5)\n",
    "print (dt1_1.value_counts('Label'))"
   ]
  },
  {
   "cell_type": "code",
   "execution_count": 54,
   "id": "b7ed9fe8",
   "metadata": {},
   "outputs": [
    {
     "name": "stdout",
     "output_type": "stream",
     "text": [
      "Label\n",
      "Benign                   996077\n",
      "DoS attacks-GoldenEye     41508\n",
      "DoS attacks-Slowloris     10990\n",
      "dtype: int64\n"
     ]
    }
   ],
   "source": [
    "d6=pd.read_csv(r\"C:\\e\\学习资料\\02-03\\data\\Thursday-15-02-2018_TrafficForML_CICFlowMeter.csv\")\n",
    "print ( d6.value_counts('Label'))"
   ]
  },
  {
   "cell_type": "code",
   "execution_count": 55,
   "id": "45ddf2c6",
   "metadata": {},
   "outputs": [
    {
     "name": "stdout",
     "output_type": "stream",
     "text": [
      "Label\n",
      "Benign                      190596\n",
      "DoS attacks-Hulk            161669\n",
      "DDoS attacks-LOIC-HTTP       86428\n",
      "Bot                          71548\n",
      "DoS attacks-SlowHTTPTest     48962\n",
      "Infilteration                46532\n",
      "DoS attacks-GoldenEye        33206\n",
      "DoS attacks-Slowloris         8792\n",
      "dtype: int64\n"
     ]
    }
   ],
   "source": [
    "d6=d6.drop (d6[(d6.Label=='Benign')].index)\n",
    "dt6=d6.groupby('Label').apply(pd.DataFrame.sample, frac=0.8).reset_index(level='Label', drop=True)\n",
    "dt1_1=dt1_1.append ( dt6)\n",
    "print (dt1_1.value_counts('Label'))"
   ]
  },
  {
   "cell_type": "code",
   "execution_count": 56,
   "id": "97b85c1c",
   "metadata": {},
   "outputs": [
    {
     "name": "stdout",
     "output_type": "stream",
     "text": [
      "Label\n",
      "Benign              1048213\n",
      "Brute Force -Web        249\n",
      "Brute Force -XSS         79\n",
      "SQL Injection            34\n",
      "dtype: int64\n"
     ]
    }
   ],
   "source": [
    "d7=pd.read_csv(r\"C:\\e\\学习资料\\02-03\\data\\Thursday-22-02-2018_TrafficForML_CICFlowMeter.csv\")\n",
    "print ( d7.value_counts('Label'))"
   ]
  },
  {
   "cell_type": "code",
   "execution_count": 29,
   "id": "b030c4bf",
   "metadata": {},
   "outputs": [
    {
     "name": "stdout",
     "output_type": "stream",
     "text": [
      "Label\n",
      "Brute Force -Web    611\n",
      "Brute Force -XSS    230\n",
      "SQL Injection        87\n",
      "dtype: int64\n"
     ]
    }
   ],
   "source": [
    "dt7=d7.drop (d7[(d7.Label=='Benign')].index)\n",
    "d3_s=d3_s.append (dt7)\n",
    "print ( d3_s.value_counts('Label'))"
   ]
  },
  {
   "cell_type": "code",
   "execution_count": 57,
   "id": "e316d7a5",
   "metadata": {},
   "outputs": [
    {
     "name": "stdout",
     "output_type": "stream",
     "text": [
      "Label\n",
      "Benign            667626\n",
      "FTP-BruteForce    193360\n",
      "SSH-Bruteforce    187589\n",
      "dtype: int64\n"
     ]
    }
   ],
   "source": [
    "d8=pd.read_csv(r\"C:\\e\\学习资料\\02-03\\data\\Wednesday-14-02-2018_TrafficForML_CICFlowMeter.csv\")\n",
    "print ( d8.value_counts('Label'))"
   ]
  },
  {
   "cell_type": "code",
   "execution_count": 58,
   "id": "f8b4d34d",
   "metadata": {},
   "outputs": [
    {
     "name": "stdout",
     "output_type": "stream",
     "text": [
      "Label\n",
      "Benign                      190596\n",
      "DoS attacks-Hulk            161669\n",
      "FTP-BruteForce               96680\n",
      "SSH-Bruteforce               93794\n",
      "DDoS attacks-LOIC-HTTP       86428\n",
      "Bot                          71548\n",
      "DoS attacks-SlowHTTPTest     48962\n",
      "Infilteration                46532\n",
      "DoS attacks-GoldenEye        33206\n",
      "DoS attacks-Slowloris         8792\n",
      "dtype: int64\n"
     ]
    }
   ],
   "source": [
    "d8=d8.drop (d8[(d8.Label=='Benign')].index)\n",
    "dt8=d8.groupby('Label').apply(pd.DataFrame.sample, frac=0.5).reset_index(level='Label', drop=True)\n",
    "dt1_1=dt1_1.append ( dt8)\n",
    "print (dt1_1.value_counts('Label'))"
   ]
  },
  {
   "cell_type": "code",
   "execution_count": 32,
   "id": "27e2830d",
   "metadata": {},
   "outputs": [
    {
     "name": "stdout",
     "output_type": "stream",
     "text": [
      "Label\n",
      "DDOS attack-HOIC        686012\n",
      "Benign                  360833\n",
      "DDOS attack-LOIC-UDP      1730\n",
      "dtype: int64\n"
     ]
    }
   ],
   "source": [
    "d9=pd.read_csv(r\"C:\\e\\学习资料\\02-03\\data\\Wednesday-21-02-2018_TrafficForML_CICFlowMeter.csv\")\n",
    "print ( d9.value_counts('Label'))"
   ]
  },
  {
   "cell_type": "code",
   "execution_count": 59,
   "id": "0695f0b8",
   "metadata": {},
   "outputs": [
    {
     "name": "stdout",
     "output_type": "stream",
     "text": [
      "Label\n",
      "DDOS attack-HOIC    205804\n",
      "dtype: int64\n",
      "Label\n",
      "DDOS attack-LOIC-UDP    1730\n",
      "dtype: int64\n"
     ]
    }
   ],
   "source": [
    "d91=d9.drop (d9[(d9.Label=='Benign')|(d9.Label=='DDOS attack-HOIC')].index)\n",
    "d92=d9.drop (d9[(d9.Label=='Benign')|(d9.Label=='DDOS attack-LOIC-UDP')].index)\n",
    "dt9=d92.groupby('Label').apply(pd.DataFrame.sample, frac=0.3).reset_index(level='Label', drop=True)\n",
    "print (dt9.value_counts('Label'))\n",
    "print (d91.value_counts('Label'))"
   ]
  },
  {
   "cell_type": "code",
   "execution_count": 60,
   "id": "663bec88",
   "metadata": {},
   "outputs": [],
   "source": [
    "dt9=dt9.groupby('Label').apply(pd.DataFrame.sample, frac=0.6).reset_index(level='Label', drop=True)"
   ]
  },
  {
   "cell_type": "code",
   "execution_count": 61,
   "id": "e7167ee9",
   "metadata": {},
   "outputs": [
    {
     "name": "stdout",
     "output_type": "stream",
     "text": [
      "Label\n",
      "DDOS attack-HOIC    123482\n",
      "dtype: int64\n"
     ]
    }
   ],
   "source": [
    "print (dt9.value_counts('Label'))"
   ]
  },
  {
   "cell_type": "code",
   "execution_count": 62,
   "id": "9aacd7db",
   "metadata": {},
   "outputs": [
    {
     "name": "stdout",
     "output_type": "stream",
     "text": [
      "Label\n",
      "Benign                      190596\n",
      "DoS attacks-Hulk            161669\n",
      "DDOS attack-HOIC            123482\n",
      "FTP-BruteForce               96680\n",
      "SSH-Bruteforce               93794\n",
      "DDoS attacks-LOIC-HTTP       86428\n",
      "Bot                          71548\n",
      "DoS attacks-SlowHTTPTest     48962\n",
      "Infilteration                46532\n",
      "DoS attacks-GoldenEye        33206\n",
      "DoS attacks-Slowloris         8792\n",
      "DDOS attack-LOIC-UDP          1730\n",
      "dtype: int64\n"
     ]
    }
   ],
   "source": [
    "dt1_1=dt1_1.append ( dt9)\n",
    "dt1_1=dt1_1.append ( d91)\n",
    "print (dt1_1.value_counts('Label'))"
   ]
  },
  {
   "cell_type": "code",
   "execution_count": 63,
   "id": "8c8c7d52",
   "metadata": {},
   "outputs": [
    {
     "name": "stdout",
     "output_type": "stream",
     "text": [
      "Label\n",
      "Benign           544200\n",
      "Infilteration     68871\n",
      "Label                33\n",
      "dtype: int64\n"
     ]
    }
   ],
   "source": [
    "d10=pd.read_csv(r\"C:\\e\\学习资料\\02-03\\data\\Wednesday-28-02-2018_TrafficForML_CICFlowMeter.csv\")\n",
    "print ( d10.value_counts('Label'))"
   ]
  },
  {
   "cell_type": "code",
   "execution_count": 64,
   "id": "2e9404d8",
   "metadata": {},
   "outputs": [
    {
     "name": "stdout",
     "output_type": "stream",
     "text": [
      "Label\n",
      "Benign                      190596\n",
      "DoS attacks-Hulk            161669\n",
      "DDOS attack-HOIC            123482\n",
      "FTP-BruteForce               96680\n",
      "SSH-Bruteforce               93794\n",
      "DDoS attacks-LOIC-HTTP       86428\n",
      "Infilteration                80968\n",
      "Bot                          71548\n",
      "DoS attacks-SlowHTTPTest     48962\n",
      "DoS attacks-GoldenEye        33206\n",
      "DoS attacks-Slowloris         8792\n",
      "DDOS attack-LOIC-UDP          1730\n",
      "dtype: int64\n"
     ]
    }
   ],
   "source": [
    "d10=d10.drop (d10[(d10.Label=='Benign')|(d10.Label=='Label')].index)\n",
    "d10t=d10.groupby('Label').apply(pd.DataFrame.sample, frac=0.5).reset_index(level='Label', drop=True)\n",
    "dt1_1=dt1_1.append ( d10t)\n",
    "print (dt1_1.value_counts('Label'))"
   ]
  },
  {
   "cell_type": "code",
   "execution_count": 66,
   "id": "96f6c0e7",
   "metadata": {},
   "outputs": [
    {
     "name": "stdout",
     "output_type": "stream",
     "text": [
      "Label\n",
      "Benign                      190596\n",
      "DoS attacks-Hulk            161669\n",
      "DDOS attack-HOIC            123482\n",
      "FTP-BruteForce               96680\n",
      "SSH-Bruteforce               93794\n",
      "DDoS attacks-LOIC-HTTP       86428\n",
      "Infilteration                80968\n",
      "Bot                          71548\n",
      "DoS attacks-SlowHTTPTest     48962\n",
      "DoS attacks-GoldenEye        33206\n",
      "DoS attacks-Slowloris         8792\n",
      "DDOS attack-LOIC-UDP          1730\n",
      "Brute Force -Web               362\n",
      "Brute Force -XSS               151\n",
      "SQL Injection                   53\n",
      "dtype: int64\n"
     ]
    }
   ],
   "source": [
    "dt1_1=dt1_1.append (d3_s)\n",
    "print (dt1_1.value_counts('Label'))"
   ]
  },
  {
   "cell_type": "code",
   "execution_count": 67,
   "id": "ff59e3bc",
   "metadata": {},
   "outputs": [
    {
     "name": "stdout",
     "output_type": "stream",
     "text": [
      "done\n"
     ]
    }
   ],
   "source": [
    "dt1_1.to_csv (r\"C:\\e\\学习资料\\02-03\\data\\data_process\\integration_a.csv\", header=True,index=0 )\n",
    "print ('done')"
   ]
  },
  {
   "cell_type": "code",
   "execution_count": 68,
   "id": "d11f74aa",
   "metadata": {},
   "outputs": [
    {
     "name": "stderr",
     "output_type": "stream",
     "text": [
      "C:\\d\\anaconda\\lib\\site-packages\\IPython\\core\\interactiveshell.py:3444: DtypeWarning: Columns (80,81,83) have mixed types.Specify dtype option on import or set low_memory=False.\n",
      "  exec(code_obj, self.user_global_ns, self.user_ns)\n"
     ]
    },
    {
     "name": "stdout",
     "output_type": "stream",
     "text": [
      "Label\n",
      "Benign                      190596\n",
      "DoS attacks-Hulk            161669\n",
      "DDOS attack-HOIC            123482\n",
      "FTP-BruteForce               96680\n",
      "SSH-Bruteforce               93794\n",
      "DDoS attacks-LOIC-HTTP       86428\n",
      "Infilteration                80968\n",
      "Bot                          71548\n",
      "DoS attacks-SlowHTTPTest     48962\n",
      "DoS attacks-GoldenEye        33206\n",
      "DoS attacks-Slowloris         8792\n",
      "DDOS attack-LOIC-UDP          1730\n",
      "Brute Force -Web               362\n",
      "Brute Force -XSS               151\n",
      "SQL Injection                   53\n",
      "dtype: int64\n"
     ]
    }
   ],
   "source": [
    "dataset=pd.read_csv(r\"C:\\e\\学习资料\\02-03\\data\\data_process\\integration_a.csv\")\n",
    "print (dataset.value_counts('Label'))"
   ]
  },
  {
   "cell_type": "code",
   "execution_count": 70,
   "id": "17dca362",
   "metadata": {},
   "outputs": [
    {
     "name": "stdout",
     "output_type": "stream",
     "text": [
      "Dst Port           int64\n",
      "Protocol           int64\n",
      "Timestamp         object\n",
      "Flow Duration      int64\n",
      "Tot Fwd Pkts       int64\n",
      "                  ...   \n",
      "Label             object\n",
      "Flow ID           object\n",
      "Src IP            object\n",
      "Src Port         float64\n",
      "Dst IP            object\n",
      "Length: 84, dtype: object\n"
     ]
    }
   ],
   "source": [
    "print( dataset.dtypes )\n"
   ]
  },
  {
   "cell_type": "code",
   "execution_count": 71,
   "id": "a3adca7c",
   "metadata": {},
   "outputs": [
    {
     "data": {
      "text/plain": [
       "<bound method DataFrame.info of         Dst Port  Protocol            Timestamp  Flow Duration  Tot Fwd Pkts  \\\n",
       "0             80         6  02/03/2018 09:17:26            877             3   \n",
       "1             53        17  02/03/2018 10:34:47           1028             1   \n",
       "2             80         6  02/03/2018 02:40:09            760             3   \n",
       "3          49967         6  02/03/2018 10:55:06              0             2   \n",
       "4           3389         6  02/03/2018 09:16:12        2017512             8   \n",
       "...          ...       ...                  ...            ...           ...   \n",
       "998416        80         6  23/02/2018 03:17:24             46             2   \n",
       "998417        80         6  23/02/2018 10:47:35            277             2   \n",
       "998418        80         6  23/02/2018 10:22:41            331             2   \n",
       "998419        80         6  23/02/2018 03:06:20            313             2   \n",
       "998420        80         6  23/02/2018 10:53:21            190             2   \n",
       "\n",
       "        Tot Bwd Pkts  TotLen Fwd Pkts  TotLen Bwd Pkts  Fwd Pkt Len Max  \\\n",
       "0                  4            161.0            488.0            161.0   \n",
       "1                  1             33.0            113.0             33.0   \n",
       "2                  4            161.0            488.0            161.0   \n",
       "3                  0             53.0              0.0             53.0   \n",
       "4                  7           1128.0           1581.0            661.0   \n",
       "...              ...              ...              ...              ...   \n",
       "998416             0              0.0              0.0              0.0   \n",
       "998417             1              0.0              0.0              0.0   \n",
       "998418             1              0.0              0.0              0.0   \n",
       "998419             1              0.0              0.0              0.0   \n",
       "998420             1              0.0              0.0              0.0   \n",
       "\n",
       "        Fwd Pkt Len Min  ...  Active Min  Idle Mean  Idle Std  Idle Max  \\\n",
       "0                   0.0  ...         0.0        0.0       0.0       0.0   \n",
       "1                  33.0  ...         0.0        0.0       0.0       0.0   \n",
       "2                   0.0  ...         0.0        0.0       0.0       0.0   \n",
       "3                   0.0  ...         0.0        0.0       0.0       0.0   \n",
       "4                   0.0  ...         0.0        0.0       0.0       0.0   \n",
       "...                 ...  ...         ...        ...       ...       ...   \n",
       "998416              0.0  ...         0.0        0.0       0.0       0.0   \n",
       "998417              0.0  ...         0.0        0.0       0.0       0.0   \n",
       "998418              0.0  ...         0.0        0.0       0.0       0.0   \n",
       "998419              0.0  ...         0.0        0.0       0.0       0.0   \n",
       "998420              0.0  ...         0.0        0.0       0.0       0.0   \n",
       "\n",
       "        Idle Min          Label  Flow ID  Src IP  Src Port  Dst IP  \n",
       "0            0.0         Benign      NaN     NaN       NaN     NaN  \n",
       "1            0.0         Benign      NaN     NaN       NaN     NaN  \n",
       "2            0.0         Benign      NaN     NaN       NaN     NaN  \n",
       "3            0.0         Benign      NaN     NaN       NaN     NaN  \n",
       "4            0.0         Benign      NaN     NaN       NaN     NaN  \n",
       "...          ...            ...      ...     ...       ...     ...  \n",
       "998416       0.0  SQL Injection      NaN     NaN       NaN     NaN  \n",
       "998417       0.0  SQL Injection      NaN     NaN       NaN     NaN  \n",
       "998418       0.0  SQL Injection      NaN     NaN       NaN     NaN  \n",
       "998419       0.0  SQL Injection      NaN     NaN       NaN     NaN  \n",
       "998420       0.0  SQL Injection      NaN     NaN       NaN     NaN  \n",
       "\n",
       "[998421 rows x 84 columns]>"
      ]
     },
     "execution_count": 71,
     "metadata": {},
     "output_type": "execute_result"
    }
   ],
   "source": [
    "dataset.info"
   ]
  },
  {
   "cell_type": "code",
   "execution_count": 72,
   "id": "2f464cab",
   "metadata": {},
   "outputs": [
    {
     "data": {
      "text/plain": [
       "<bound method DataFrame.info of        Dst Port Protocol            Timestamp Flow Duration Tot Fwd Pkts  \\\n",
       "908252       80        6  02/03/2018 09:17:26           877            3   \n",
       "402762       53       17  02/03/2018 10:34:47          1028            1   \n",
       "706375       80        6  02/03/2018 02:40:09           760            3   \n",
       "537641    49967        6  02/03/2018 10:55:06             0            2   \n",
       "961937     3389        6  02/03/2018 09:16:12       2017512            8   \n",
       "...         ...      ...                  ...           ...          ...   \n",
       "1588         80        6  23/02/2018 03:17:24            46            2   \n",
       "1998         80        6  23/02/2018 10:47:35           277            2   \n",
       "2115         80        6  23/02/2018 10:22:41           331            2   \n",
       "2216         80        6  23/02/2018 03:06:20           313            2   \n",
       "2401         80        6  23/02/2018 10:53:21           190            2   \n",
       "\n",
       "       Tot Bwd Pkts TotLen Fwd Pkts TotLen Bwd Pkts Fwd Pkt Len Max  \\\n",
       "908252            4             161           488.0             161   \n",
       "402762            1              33           113.0              33   \n",
       "706375            4             161           488.0             161   \n",
       "537641            0              53             0.0              53   \n",
       "961937            7            1128          1581.0             661   \n",
       "...             ...             ...             ...             ...   \n",
       "1588              0               0               0               0   \n",
       "1998              1               0               0               0   \n",
       "2115              1               0               0               0   \n",
       "2216              1               0               0               0   \n",
       "2401              1               0               0               0   \n",
       "\n",
       "       Fwd Pkt Len Min  ... Active Min Idle Mean Idle Std Idle Max Idle Min  \\\n",
       "908252               0  ...        0.0       0.0      0.0      0.0      0.0   \n",
       "402762              33  ...        0.0       0.0      0.0      0.0      0.0   \n",
       "706375               0  ...        0.0       0.0      0.0      0.0      0.0   \n",
       "537641               0  ...        0.0       0.0      0.0      0.0      0.0   \n",
       "961937               0  ...        0.0       0.0      0.0      0.0      0.0   \n",
       "...                ...  ...        ...       ...      ...      ...      ...   \n",
       "1588                 0  ...          0       0.0      0.0        0        0   \n",
       "1998                 0  ...          0       0.0      0.0        0        0   \n",
       "2115                 0  ...          0       0.0      0.0        0        0   \n",
       "2216                 0  ...          0       0.0      0.0        0        0   \n",
       "2401                 0  ...          0       0.0      0.0        0        0   \n",
       "\n",
       "                Label Flow ID Src IP Src Port Dst IP  \n",
       "908252         Benign     NaN    NaN      NaN    NaN  \n",
       "402762         Benign     NaN    NaN      NaN    NaN  \n",
       "706375         Benign     NaN    NaN      NaN    NaN  \n",
       "537641         Benign     NaN    NaN      NaN    NaN  \n",
       "961937         Benign     NaN    NaN      NaN    NaN  \n",
       "...               ...     ...    ...      ...    ...  \n",
       "1588    SQL Injection     NaN    NaN      NaN    NaN  \n",
       "1998    SQL Injection     NaN    NaN      NaN    NaN  \n",
       "2115    SQL Injection     NaN    NaN      NaN    NaN  \n",
       "2216    SQL Injection     NaN    NaN      NaN    NaN  \n",
       "2401    SQL Injection     NaN    NaN      NaN    NaN  \n",
       "\n",
       "[998421 rows x 84 columns]>"
      ]
     },
     "execution_count": 72,
     "metadata": {},
     "output_type": "execute_result"
    }
   ],
   "source": [
    "dt1_1.info"
   ]
  },
  {
   "cell_type": "code",
   "execution_count": 73,
   "id": "4ca7bdd8",
   "metadata": {},
   "outputs": [
    {
     "data": {
      "text/plain": [
       "array([nan, '172.31.69.25-18.216.200.189-80-58512-6',\n",
       "       '172.31.69.25-18.216.200.189-80-50107-6', ...,\n",
       "       '172.31.69.25-18.216.24.42-80-64640-6',\n",
       "       '172.31.69.25-18.218.115.60-80-56383-6',\n",
       "       '172.31.69.25-18.218.115.60-80-51651-6'], dtype=object)"
      ]
     },
     "execution_count": 73,
     "metadata": {},
     "output_type": "execute_result"
    }
   ],
   "source": [
    "dataset['Flow ID'].unique()"
   ]
  },
  {
   "cell_type": "code",
   "execution_count": 74,
   "id": "79c4b236",
   "metadata": {},
   "outputs": [
    {
     "data": {
      "text/plain": [
       "array([nan, '18.216.200.189', '18.219.9.1', '18.218.115.60',\n",
       "       '18.219.5.43', '18.216.24.42', '52.14.136.135', '18.218.11.51',\n",
       "       '18.219.32.43', '18.218.55.126', '18.218.229.235'], dtype=object)"
      ]
     },
     "execution_count": 74,
     "metadata": {},
     "output_type": "execute_result"
    }
   ],
   "source": [
    "dataset['Src IP'].unique()"
   ]
  },
  {
   "cell_type": "code",
   "execution_count": 75,
   "id": "3c7b1a85",
   "metadata": {},
   "outputs": [
    {
     "data": {
      "text/plain": [
       "array([nan, '172.31.69.25-18.216.200.189-80-58512-6',\n",
       "       '172.31.69.25-18.216.200.189-80-50107-6', ...,\n",
       "       '172.31.69.25-18.216.24.42-80-64640-6',\n",
       "       '172.31.69.25-18.218.115.60-80-56383-6',\n",
       "       '172.31.69.25-18.218.115.60-80-51651-6'], dtype=object)"
      ]
     },
     "execution_count": 75,
     "metadata": {},
     "output_type": "execute_result"
    }
   ],
   "source": [
    "dt1_1['Flow ID'].unique()"
   ]
  },
  {
   "cell_type": "code",
   "execution_count": 76,
   "id": "704bd3b7",
   "metadata": {},
   "outputs": [
    {
     "data": {
      "text/plain": [
       "array([nan, '18.216.200.189', '18.219.9.1', '18.218.115.60',\n",
       "       '18.219.5.43', '18.216.24.42', '52.14.136.135', '18.218.11.51',\n",
       "       '18.219.32.43', '18.218.55.126', '18.218.229.235'], dtype=object)"
      ]
     },
     "execution_count": 76,
     "metadata": {},
     "output_type": "execute_result"
    }
   ],
   "source": [
    "dt1_1['Src IP'].unique()"
   ]
  },
  {
   "cell_type": "code",
   "execution_count": 77,
   "id": "0caec981",
   "metadata": {},
   "outputs": [
    {
     "data": {
      "text/plain": [
       "array([   nan, 58512., 50107., ..., 64876., 50001., 64859.])"
      ]
     },
     "execution_count": 77,
     "metadata": {},
     "output_type": "execute_result"
    }
   ],
   "source": [
    "#Src Port\n",
    "dataset['Src Port'].unique()"
   ]
  },
  {
   "cell_type": "code",
   "execution_count": null,
   "id": "f456a754",
   "metadata": {},
   "outputs": [],
   "source": []
  },
  {
   "cell_type": "code",
   "execution_count": null,
   "id": "63dbdf55",
   "metadata": {},
   "outputs": [],
   "source": []
  },
  {
   "cell_type": "code",
   "execution_count": null,
   "id": "a5c7bde9",
   "metadata": {},
   "outputs": [],
   "source": []
  }
 ],
 "metadata": {
  "kernelspec": {
   "display_name": "Python 3",
   "language": "python",
   "name": "python3"
  },
  "language_info": {
   "codemirror_mode": {
    "name": "ipython",
    "version": 3
   },
   "file_extension": ".py",
   "mimetype": "text/x-python",
   "name": "python",
   "nbconvert_exporter": "python",
   "pygments_lexer": "ipython3",
   "version": "3.6.13"
  }
 },
 "nbformat": 4,
 "nbformat_minor": 5
}
