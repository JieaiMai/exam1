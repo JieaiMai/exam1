{
 "cells": [
  {
   "cell_type": "code",
   "execution_count": 4,
   "id": "d97c44d1",
   "metadata": {},
   "outputs": [
    {
     "name": "stdout",
     "output_type": "stream",
     "text": [
      "(314572, 80)\n",
      "Benign    228715\n",
      "Bot        85857\n",
      "Name: Label, dtype: int64\n"
     ]
    }
   ],
   "source": [
    "import numpy as np\n",
    "import pandas as pd\n",
    "from sklearn.model_selection import train_test_split\n",
    "from sklearn.preprocessing import MinMaxScaler, StandardScaler\n",
    "from sklearn.metrics import classification_report\n",
    "from sklearn.svm import OneClassSVM\n",
    "from numpy import array\n",
    "from numpy import argmax\n",
    "from sklearn.preprocessing import LabelEncoder\n",
    "from sklearn.preprocessing import OneHotEncoder\n",
    "\n",
    "d1=pd.read_csv(r\"E:\\学习心得\\data\\cic-ids2018\\Friday-02-03-2018_TrafficForML_CICFlowMeter.csv\")\n",
    "t1 = d1.groupby('Label').apply(pd.DataFrame.sample, frac=0.3).reset_index(level='Label', drop=True)\n",
    "print ( t1.shape )\n",
    "print ( t1['Label'].value_counts())\n",
    "t1.to_csv(r\"E:\\学习心得\\data\\cic-ids2018\\02-03\\t1.csv\",header=1,index=0)"
   ]
  },
  {
   "cell_type": "code",
   "execution_count": 6,
   "id": "54db0425",
   "metadata": {},
   "outputs": [
    {
     "name": "stdout",
     "output_type": "stream",
     "text": [
      "(94371, 80)\n",
      "Benign    68614\n",
      "Bot       25757\n",
      "Name: Label, dtype: int64\n",
      "(66060, 80)\n",
      "Benign    48030\n",
      "Bot       18030\n",
      "Name: Label, dtype: int64\n",
      "(154141, 80)\n",
      "Benign    112071\n",
      "Bot        42070\n",
      "Name: Label, dtype: int64\n"
     ]
    }
   ],
   "source": [
    "t1_1=pd.read_csv(r\"E:\\学习心得\\data\\cic-ids2018\\02-03\\t1.csv\")\n",
    "pt1=t1_1.groupby('Label').apply(pd.DataFrame.sample, frac=0.3).reset_index(level='Label', drop=True)\n",
    "pt2=t1_1.drop(pt1.index)\n",
    "print ( pt1.shape )\n",
    "print ( pt1['Label'].value_counts())\n",
    "#print ( pt2.shape )\n",
    "#print ( pt2['Label'].value_counts())\n",
    "#pt1.to_csv(r\"E:\\学习心得\\data\\cic-ids2018\\02-03\\pt1.csv\",header=1,index=0)\n",
    "pt3=pt2.groupby('Label').apply(pd.DataFrame.sample, frac=0.3).reset_index(level='Label', drop=True)\n",
    "ptr=pt2.drop ( pt3.index)\n",
    "print ( pt3.shape )\n",
    "print ( pt3['Label'].value_counts())\n",
    "print ( ptr.shape )\n",
    "print ( ptr['Label'].value_counts())"
   ]
  },
  {
   "cell_type": "code",
   "execution_count": 7,
   "id": "b43e2916",
   "metadata": {},
   "outputs": [],
   "source": [
    "pt1.to_csv(r\"E:\\学习心得\\data\\cic-ids2018\\02-03\\pva1.csv\",header=1,index=0)\n",
    "pt3.to_csv(r\"E:\\学习心得\\data\\cic-ids2018\\02-03\\ptest1.csv\",header=1,index=0)\n",
    "ptr.to_csv(r\"E:\\学习心得\\data\\cic-ids2018\\02-03\\ptrain1.csv\",header=1,index=0)"
   ]
  },
  {
   "cell_type": "code",
   "execution_count": 8,
   "id": "3c1302a8",
   "metadata": {},
   "outputs": [
    {
     "name": "stderr",
     "output_type": "stream",
     "text": [
      "D:\\ana\\envs\\tensorflowb\\lib\\site-packages\\IPython\\core\\interactiveshell.py:3444: DtypeWarning: Columns (0,1,3,4,5,6,7,8,9,10,11,12,13,14,15,16,17,18,19,20,21,22,23,24,25,26,27,28,29,30,31,32,33,34,35,36,37,38,39,40,41,42,43,44,45,46,47,48,49,50,51,52,53,54,55,56,57,58,59,60,61,62,63,64,65,66,67,68,69,70,71,72,73,74,75,76,77,78) have mixed types.Specify dtype option on import or set low_memory=False.\n",
      "  exec(code_obj, self.user_global_ns, self.user_ns)\n"
     ]
    },
    {
     "name": "stdout",
     "output_type": "stream",
     "text": [
      "(314573, 80)\n",
      "DoS attacks-Hulk            138574\n",
      "Benign                      134032\n",
      "DoS attacks-SlowHTTPTest     41967\n",
      "Name: Label, dtype: int64\n",
      "(94372, 80)\n",
      "DoS attacks-Hulk            41572\n",
      "Benign                      40210\n",
      "DoS attacks-SlowHTTPTest    12590\n",
      "Name: Label, dtype: int64\n",
      "(66061, 80)\n",
      "DoS attacks-Hulk            29101\n",
      "Benign                      28147\n",
      "DoS attacks-SlowHTTPTest     8813\n",
      "Name: Label, dtype: int64\n",
      "(154140, 80)\n",
      "DoS attacks-Hulk            67901\n",
      "Benign                      65675\n",
      "DoS attacks-SlowHTTPTest    20564\n",
      "Name: Label, dtype: int64\n"
     ]
    }
   ],
   "source": [
    "d1=pd.read_csv(r\"E:\\学习心得\\data\\cic-ids2018\\Friday-16-02-2018_TrafficForML_CICFlowMeter.csv\")\n",
    "t1 = d1.groupby('Label').apply(pd.DataFrame.sample, frac=0.3).reset_index(level='Label', drop=True)\n",
    "print ( t1.shape )\n",
    "print ( t1['Label'].value_counts())\n",
    "#t1.to_csv(r\"E:\\学习心得\\data\\cic-ids2018\\02-03\\t1.csv\",header=1,index=0)\n",
    "t1_1=t1\n",
    "pt1=t1_1.groupby('Label').apply(pd.DataFrame.sample, frac=0.3).reset_index(level='Label', drop=True)\n",
    "pt2=t1_1.drop(pt1.index)\n",
    "print ( pt1.shape )\n",
    "print ( pt1['Label'].value_counts())\n",
    "#print ( pt2.shape )\n",
    "#print ( pt2['Label'].value_counts())\n",
    "#pt1.to_csv(r\"E:\\学习心得\\data\\cic-ids2018\\02-03\\pt1.csv\",header=1,index=0)\n",
    "pt3=pt2.groupby('Label').apply(pd.DataFrame.sample, frac=0.3).reset_index(level='Label', drop=True)\n",
    "ptr=pt2.drop ( pt3.index)\n",
    "print ( pt3.shape )\n",
    "print ( pt3['Label'].value_counts())\n",
    "print ( ptr.shape )\n",
    "print ( ptr['Label'].value_counts())"
   ]
  },
  {
   "cell_type": "code",
   "execution_count": 9,
   "id": "f458b684",
   "metadata": {},
   "outputs": [],
   "source": [
    "pt1.to_csv(r\"E:\\学习心得\\data\\cic-ids2018\\02-03\\pva1.csv\",header=False,mode='a',index=0)\n",
    "pt3.to_csv(r\"E:\\学习心得\\data\\cic-ids2018\\02-03\\ptest1.csv\",header=False,mode='a',index=0)\n",
    "ptr.to_csv(r\"E:\\学习心得\\data\\cic-ids2018\\02-03\\ptrain1.csv\",header=False,mode='a',index=0)"
   ]
  },
  {
   "cell_type": "code",
   "execution_count": 10,
   "id": "fd3a57e2",
   "metadata": {},
   "outputs": [
    {
     "name": "stdout",
     "output_type": "stream",
     "text": [
      "(314573, 80)\n",
      "Benign              314403\n",
      "Brute Force -Web       109\n",
      "Brute Force -XSS        45\n",
      "SQL Injection           16\n",
      "Name: Label, dtype: int64\n",
      "(94373, 80)\n",
      "Benign              94321\n",
      "Brute Force -Web       33\n",
      "Brute Force -XSS       14\n",
      "SQL Injection           5\n",
      "Name: Label, dtype: int64\n",
      "(66060, 80)\n",
      "Benign              66025\n",
      "Brute Force -Web       23\n",
      "Brute Force -XSS        9\n",
      "SQL Injection           3\n",
      "Name: Label, dtype: int64\n",
      "(154140, 80)\n",
      "Benign              154057\n",
      "Brute Force -Web        53\n",
      "Brute Force -XSS        22\n",
      "SQL Injection            8\n",
      "Name: Label, dtype: int64\n"
     ]
    }
   ],
   "source": [
    "d1=pd.read_csv(r\"E:\\学习心得\\data\\cic-ids2018\\Friday-23-02-2018_TrafficForML_CICFlowMeter.csv\")\n",
    "t1 = d1.groupby('Label').apply(pd.DataFrame.sample, frac=0.3).reset_index(level='Label', drop=True)\n",
    "print ( t1.shape )\n",
    "print ( t1['Label'].value_counts())\n",
    "#t1.to_csv(r\"E:\\学习心得\\data\\cic-ids2018\\02-03\\t1.csv\",header=1,index=0)\n",
    "t1_1=t1\n",
    "pt1=t1_1.groupby('Label').apply(pd.DataFrame.sample, frac=0.3).reset_index(level='Label', drop=True)\n",
    "pt2=t1_1.drop(pt1.index)\n",
    "print ( pt1.shape )\n",
    "print ( pt1['Label'].value_counts())\n",
    "#print ( pt2.shape )\n",
    "#print ( pt2['Label'].value_counts())\n",
    "#pt1.to_csv(r\"E:\\学习心得\\data\\cic-ids2018\\02-03\\pt1.csv\",header=1,index=0)\n",
    "pt3=pt2.groupby('Label').apply(pd.DataFrame.sample, frac=0.3).reset_index(level='Label', drop=True)\n",
    "ptr=pt2.drop ( pt3.index)\n",
    "print ( pt3.shape )\n",
    "print ( pt3['Label'].value_counts())\n",
    "print ( ptr.shape )\n",
    "print ( ptr['Label'].value_counts())"
   ]
  },
  {
   "cell_type": "code",
   "execution_count": 11,
   "id": "c1ddd51c",
   "metadata": {},
   "outputs": [],
   "source": [
    "pt1.to_csv(r\"E:\\学习心得\\data\\cic-ids2018\\02-03\\pva1.csv\",header=False,mode='a',index=0)\n",
    "pt3.to_csv(r\"E:\\学习心得\\data\\cic-ids2018\\02-03\\ptest1.csv\",header=False,mode='a',index=0)\n",
    "ptr.to_csv(r\"E:\\学习心得\\data\\cic-ids2018\\02-03\\ptrain1.csv\",header=False,mode='a',index=0)"
   ]
  },
  {
   "cell_type": "code",
   "execution_count": 13,
   "id": "5a49a2b3",
   "metadata": {},
   "outputs": [
    {
     "ename": "MemoryError",
     "evalue": "Unable to allocate 2.67 GiB for an array with shape (45, 7948748) and data type float64",
     "output_type": "error",
     "traceback": [
      "\u001b[1;31m---------------------------------------------------------------------------\u001b[0m",
      "\u001b[1;31mMemoryError\u001b[0m                               Traceback (most recent call last)",
      "\u001b[1;32m~\\AppData\\Local\\Temp/ipykernel_9280/1514060172.py\u001b[0m in \u001b[0;36m<module>\u001b[1;34m\u001b[0m\n\u001b[1;32m----> 1\u001b[1;33m \u001b[0md1\u001b[0m\u001b[1;33m=\u001b[0m\u001b[0mpd\u001b[0m\u001b[1;33m.\u001b[0m\u001b[0mread_csv\u001b[0m\u001b[1;33m(\u001b[0m\u001b[1;34mr\"E:\\学习心得\\data\\cic-ids2018\\Thuesday-20-02-2018_TrafficForML_CICFlowMeter.csv\"\u001b[0m\u001b[1;33m)\u001b[0m\u001b[1;33m\u001b[0m\u001b[1;33m\u001b[0m\u001b[0m\n\u001b[0m\u001b[0;32m      2\u001b[0m \u001b[0mt1\u001b[0m \u001b[1;33m=\u001b[0m \u001b[0md1\u001b[0m\u001b[1;33m.\u001b[0m\u001b[0mgroupby\u001b[0m\u001b[1;33m(\u001b[0m\u001b[1;34m'Label'\u001b[0m\u001b[1;33m)\u001b[0m\u001b[1;33m.\u001b[0m\u001b[0mapply\u001b[0m\u001b[1;33m(\u001b[0m\u001b[0mpd\u001b[0m\u001b[1;33m.\u001b[0m\u001b[0mDataFrame\u001b[0m\u001b[1;33m.\u001b[0m\u001b[0msample\u001b[0m\u001b[1;33m,\u001b[0m \u001b[0mfrac\u001b[0m\u001b[1;33m=\u001b[0m\u001b[1;36m0.03\u001b[0m\u001b[1;33m)\u001b[0m\u001b[1;33m.\u001b[0m\u001b[0mreset_index\u001b[0m\u001b[1;33m(\u001b[0m\u001b[0mlevel\u001b[0m\u001b[1;33m=\u001b[0m\u001b[1;34m'Label'\u001b[0m\u001b[1;33m,\u001b[0m \u001b[0mdrop\u001b[0m\u001b[1;33m=\u001b[0m\u001b[1;32mTrue\u001b[0m\u001b[1;33m)\u001b[0m\u001b[1;33m\u001b[0m\u001b[1;33m\u001b[0m\u001b[0m\n\u001b[0;32m      3\u001b[0m \u001b[0mprint\u001b[0m \u001b[1;33m(\u001b[0m \u001b[0mt1\u001b[0m\u001b[1;33m.\u001b[0m\u001b[0mshape\u001b[0m \u001b[1;33m)\u001b[0m\u001b[1;33m\u001b[0m\u001b[1;33m\u001b[0m\u001b[0m\n\u001b[0;32m      4\u001b[0m \u001b[0mprint\u001b[0m \u001b[1;33m(\u001b[0m \u001b[0mt1\u001b[0m\u001b[1;33m[\u001b[0m\u001b[1;34m'Label'\u001b[0m\u001b[1;33m]\u001b[0m\u001b[1;33m.\u001b[0m\u001b[0mvalue_counts\u001b[0m\u001b[1;33m(\u001b[0m\u001b[1;33m)\u001b[0m\u001b[1;33m)\u001b[0m\u001b[1;33m\u001b[0m\u001b[1;33m\u001b[0m\u001b[0m\n\u001b[0;32m      5\u001b[0m \u001b[1;31m#t1.to_csv(r\"E:\\学习心得\\data\\cic-ids2018\\02-03\\t1.csv\",header=1,index=0)\u001b[0m\u001b[1;33m\u001b[0m\u001b[1;33m\u001b[0m\u001b[0m\n",
      "\u001b[1;32mD:\\ana\\envs\\tensorflowb\\lib\\site-packages\\pandas\\util\\_decorators.py\u001b[0m in \u001b[0;36mwrapper\u001b[1;34m(*args, **kwargs)\u001b[0m\n\u001b[0;32m    309\u001b[0m                     \u001b[0mstacklevel\u001b[0m\u001b[1;33m=\u001b[0m\u001b[0mstacklevel\u001b[0m\u001b[1;33m,\u001b[0m\u001b[1;33m\u001b[0m\u001b[1;33m\u001b[0m\u001b[0m\n\u001b[0;32m    310\u001b[0m                 )\n\u001b[1;32m--> 311\u001b[1;33m             \u001b[1;32mreturn\u001b[0m \u001b[0mfunc\u001b[0m\u001b[1;33m(\u001b[0m\u001b[1;33m*\u001b[0m\u001b[0margs\u001b[0m\u001b[1;33m,\u001b[0m \u001b[1;33m**\u001b[0m\u001b[0mkwargs\u001b[0m\u001b[1;33m)\u001b[0m\u001b[1;33m\u001b[0m\u001b[1;33m\u001b[0m\u001b[0m\n\u001b[0m\u001b[0;32m    312\u001b[0m \u001b[1;33m\u001b[0m\u001b[0m\n\u001b[0;32m    313\u001b[0m         \u001b[1;32mreturn\u001b[0m \u001b[0mwrapper\u001b[0m\u001b[1;33m\u001b[0m\u001b[1;33m\u001b[0m\u001b[0m\n",
      "\u001b[1;32mD:\\ana\\envs\\tensorflowb\\lib\\site-packages\\pandas\\io\\parsers\\readers.py\u001b[0m in \u001b[0;36mread_csv\u001b[1;34m(filepath_or_buffer, sep, delimiter, header, names, index_col, usecols, squeeze, prefix, mangle_dupe_cols, dtype, engine, converters, true_values, false_values, skipinitialspace, skiprows, skipfooter, nrows, na_values, keep_default_na, na_filter, verbose, skip_blank_lines, parse_dates, infer_datetime_format, keep_date_col, date_parser, dayfirst, cache_dates, iterator, chunksize, compression, thousands, decimal, lineterminator, quotechar, quoting, doublequote, escapechar, comment, encoding, encoding_errors, dialect, error_bad_lines, warn_bad_lines, on_bad_lines, delim_whitespace, low_memory, memory_map, float_precision, storage_options)\u001b[0m\n\u001b[0;32m    584\u001b[0m     \u001b[0mkwds\u001b[0m\u001b[1;33m.\u001b[0m\u001b[0mupdate\u001b[0m\u001b[1;33m(\u001b[0m\u001b[0mkwds_defaults\u001b[0m\u001b[1;33m)\u001b[0m\u001b[1;33m\u001b[0m\u001b[1;33m\u001b[0m\u001b[0m\n\u001b[0;32m    585\u001b[0m \u001b[1;33m\u001b[0m\u001b[0m\n\u001b[1;32m--> 586\u001b[1;33m     \u001b[1;32mreturn\u001b[0m \u001b[0m_read\u001b[0m\u001b[1;33m(\u001b[0m\u001b[0mfilepath_or_buffer\u001b[0m\u001b[1;33m,\u001b[0m \u001b[0mkwds\u001b[0m\u001b[1;33m)\u001b[0m\u001b[1;33m\u001b[0m\u001b[1;33m\u001b[0m\u001b[0m\n\u001b[0m\u001b[0;32m    587\u001b[0m \u001b[1;33m\u001b[0m\u001b[0m\n\u001b[0;32m    588\u001b[0m \u001b[1;33m\u001b[0m\u001b[0m\n",
      "\u001b[1;32mD:\\ana\\envs\\tensorflowb\\lib\\site-packages\\pandas\\io\\parsers\\readers.py\u001b[0m in \u001b[0;36m_read\u001b[1;34m(filepath_or_buffer, kwds)\u001b[0m\n\u001b[0;32m    486\u001b[0m \u001b[1;33m\u001b[0m\u001b[0m\n\u001b[0;32m    487\u001b[0m     \u001b[1;32mwith\u001b[0m \u001b[0mparser\u001b[0m\u001b[1;33m:\u001b[0m\u001b[1;33m\u001b[0m\u001b[1;33m\u001b[0m\u001b[0m\n\u001b[1;32m--> 488\u001b[1;33m         \u001b[1;32mreturn\u001b[0m \u001b[0mparser\u001b[0m\u001b[1;33m.\u001b[0m\u001b[0mread\u001b[0m\u001b[1;33m(\u001b[0m\u001b[0mnrows\u001b[0m\u001b[1;33m)\u001b[0m\u001b[1;33m\u001b[0m\u001b[1;33m\u001b[0m\u001b[0m\n\u001b[0m\u001b[0;32m    489\u001b[0m \u001b[1;33m\u001b[0m\u001b[0m\n\u001b[0;32m    490\u001b[0m \u001b[1;33m\u001b[0m\u001b[0m\n",
      "\u001b[1;32mD:\\ana\\envs\\tensorflowb\\lib\\site-packages\\pandas\\io\\parsers\\readers.py\u001b[0m in \u001b[0;36mread\u001b[1;34m(self, nrows)\u001b[0m\n\u001b[0;32m   1057\u001b[0m             \u001b[0mnew_rows\u001b[0m \u001b[1;33m=\u001b[0m \u001b[0mlen\u001b[0m\u001b[1;33m(\u001b[0m\u001b[0mindex\u001b[0m\u001b[1;33m)\u001b[0m\u001b[1;33m\u001b[0m\u001b[1;33m\u001b[0m\u001b[0m\n\u001b[0;32m   1058\u001b[0m \u001b[1;33m\u001b[0m\u001b[0m\n\u001b[1;32m-> 1059\u001b[1;33m         \u001b[0mdf\u001b[0m \u001b[1;33m=\u001b[0m \u001b[0mDataFrame\u001b[0m\u001b[1;33m(\u001b[0m\u001b[0mcol_dict\u001b[0m\u001b[1;33m,\u001b[0m \u001b[0mcolumns\u001b[0m\u001b[1;33m=\u001b[0m\u001b[0mcolumns\u001b[0m\u001b[1;33m,\u001b[0m \u001b[0mindex\u001b[0m\u001b[1;33m=\u001b[0m\u001b[0mindex\u001b[0m\u001b[1;33m)\u001b[0m\u001b[1;33m\u001b[0m\u001b[1;33m\u001b[0m\u001b[0m\n\u001b[0m\u001b[0;32m   1060\u001b[0m \u001b[1;33m\u001b[0m\u001b[0m\n\u001b[0;32m   1061\u001b[0m         \u001b[0mself\u001b[0m\u001b[1;33m.\u001b[0m\u001b[0m_currow\u001b[0m \u001b[1;33m+=\u001b[0m \u001b[0mnew_rows\u001b[0m\u001b[1;33m\u001b[0m\u001b[1;33m\u001b[0m\u001b[0m\n",
      "\u001b[1;32mD:\\ana\\envs\\tensorflowb\\lib\\site-packages\\pandas\\core\\frame.py\u001b[0m in \u001b[0;36m__init__\u001b[1;34m(self, data, index, columns, dtype, copy)\u001b[0m\n\u001b[0;32m    612\u001b[0m         \u001b[1;32melif\u001b[0m \u001b[0misinstance\u001b[0m\u001b[1;33m(\u001b[0m\u001b[0mdata\u001b[0m\u001b[1;33m,\u001b[0m \u001b[0mdict\u001b[0m\u001b[1;33m)\u001b[0m\u001b[1;33m:\u001b[0m\u001b[1;33m\u001b[0m\u001b[1;33m\u001b[0m\u001b[0m\n\u001b[0;32m    613\u001b[0m             \u001b[1;31m# GH#38939 de facto copy defaults to False only in non-dict cases\u001b[0m\u001b[1;33m\u001b[0m\u001b[1;33m\u001b[0m\u001b[0m\n\u001b[1;32m--> 614\u001b[1;33m             \u001b[0mmgr\u001b[0m \u001b[1;33m=\u001b[0m \u001b[0mdict_to_mgr\u001b[0m\u001b[1;33m(\u001b[0m\u001b[0mdata\u001b[0m\u001b[1;33m,\u001b[0m \u001b[0mindex\u001b[0m\u001b[1;33m,\u001b[0m \u001b[0mcolumns\u001b[0m\u001b[1;33m,\u001b[0m \u001b[0mdtype\u001b[0m\u001b[1;33m=\u001b[0m\u001b[0mdtype\u001b[0m\u001b[1;33m,\u001b[0m \u001b[0mcopy\u001b[0m\u001b[1;33m=\u001b[0m\u001b[0mcopy\u001b[0m\u001b[1;33m,\u001b[0m \u001b[0mtyp\u001b[0m\u001b[1;33m=\u001b[0m\u001b[0mmanager\u001b[0m\u001b[1;33m)\u001b[0m\u001b[1;33m\u001b[0m\u001b[1;33m\u001b[0m\u001b[0m\n\u001b[0m\u001b[0;32m    615\u001b[0m         \u001b[1;32melif\u001b[0m \u001b[0misinstance\u001b[0m\u001b[1;33m(\u001b[0m\u001b[0mdata\u001b[0m\u001b[1;33m,\u001b[0m \u001b[0mma\u001b[0m\u001b[1;33m.\u001b[0m\u001b[0mMaskedArray\u001b[0m\u001b[1;33m)\u001b[0m\u001b[1;33m:\u001b[0m\u001b[1;33m\u001b[0m\u001b[1;33m\u001b[0m\u001b[0m\n\u001b[0;32m    616\u001b[0m             \u001b[1;32mimport\u001b[0m \u001b[0mnumpy\u001b[0m\u001b[1;33m.\u001b[0m\u001b[0mma\u001b[0m\u001b[1;33m.\u001b[0m\u001b[0mmrecords\u001b[0m \u001b[1;32mas\u001b[0m \u001b[0mmrecords\u001b[0m\u001b[1;33m\u001b[0m\u001b[1;33m\u001b[0m\u001b[0m\n",
      "\u001b[1;32mD:\\ana\\envs\\tensorflowb\\lib\\site-packages\\pandas\\core\\internals\\construction.py\u001b[0m in \u001b[0;36mdict_to_mgr\u001b[1;34m(data, index, columns, dtype, typ, copy)\u001b[0m\n\u001b[0;32m    462\u001b[0m         \u001b[1;31m# TODO: can we get rid of the dt64tz special case above?\u001b[0m\u001b[1;33m\u001b[0m\u001b[1;33m\u001b[0m\u001b[0m\n\u001b[0;32m    463\u001b[0m \u001b[1;33m\u001b[0m\u001b[0m\n\u001b[1;32m--> 464\u001b[1;33m     return arrays_to_mgr(\n\u001b[0m\u001b[0;32m    465\u001b[0m         \u001b[0marrays\u001b[0m\u001b[1;33m,\u001b[0m \u001b[0mdata_names\u001b[0m\u001b[1;33m,\u001b[0m \u001b[0mindex\u001b[0m\u001b[1;33m,\u001b[0m \u001b[0mcolumns\u001b[0m\u001b[1;33m,\u001b[0m \u001b[0mdtype\u001b[0m\u001b[1;33m=\u001b[0m\u001b[0mdtype\u001b[0m\u001b[1;33m,\u001b[0m \u001b[0mtyp\u001b[0m\u001b[1;33m=\u001b[0m\u001b[0mtyp\u001b[0m\u001b[1;33m,\u001b[0m \u001b[0mconsolidate\u001b[0m\u001b[1;33m=\u001b[0m\u001b[0mcopy\u001b[0m\u001b[1;33m\u001b[0m\u001b[1;33m\u001b[0m\u001b[0m\n\u001b[0;32m    466\u001b[0m     )\n",
      "\u001b[1;32mD:\\ana\\envs\\tensorflowb\\lib\\site-packages\\pandas\\core\\internals\\construction.py\u001b[0m in \u001b[0;36marrays_to_mgr\u001b[1;34m(arrays, arr_names, index, columns, dtype, verify_integrity, typ, consolidate)\u001b[0m\n\u001b[0;32m    133\u001b[0m \u001b[1;33m\u001b[0m\u001b[0m\n\u001b[0;32m    134\u001b[0m     \u001b[1;32mif\u001b[0m \u001b[0mtyp\u001b[0m \u001b[1;33m==\u001b[0m \u001b[1;34m\"block\"\u001b[0m\u001b[1;33m:\u001b[0m\u001b[1;33m\u001b[0m\u001b[1;33m\u001b[0m\u001b[0m\n\u001b[1;32m--> 135\u001b[1;33m         return create_block_manager_from_arrays(\n\u001b[0m\u001b[0;32m    136\u001b[0m             \u001b[0marrays\u001b[0m\u001b[1;33m,\u001b[0m \u001b[0marr_names\u001b[0m\u001b[1;33m,\u001b[0m \u001b[0maxes\u001b[0m\u001b[1;33m,\u001b[0m \u001b[0mconsolidate\u001b[0m\u001b[1;33m=\u001b[0m\u001b[0mconsolidate\u001b[0m\u001b[1;33m\u001b[0m\u001b[1;33m\u001b[0m\u001b[0m\n\u001b[0;32m    137\u001b[0m         )\n",
      "\u001b[1;32mD:\\ana\\envs\\tensorflowb\\lib\\site-packages\\pandas\\core\\internals\\managers.py\u001b[0m in \u001b[0;36mcreate_block_manager_from_arrays\u001b[1;34m(arrays, names, axes, consolidate)\u001b[0m\n\u001b[0;32m   1776\u001b[0m         \u001b[1;32mraise\u001b[0m \u001b[0mconstruction_error\u001b[0m\u001b[1;33m(\u001b[0m\u001b[0mlen\u001b[0m\u001b[1;33m(\u001b[0m\u001b[0marrays\u001b[0m\u001b[1;33m)\u001b[0m\u001b[1;33m,\u001b[0m \u001b[0marrays\u001b[0m\u001b[1;33m[\u001b[0m\u001b[1;36m0\u001b[0m\u001b[1;33m]\u001b[0m\u001b[1;33m.\u001b[0m\u001b[0mshape\u001b[0m\u001b[1;33m,\u001b[0m \u001b[0maxes\u001b[0m\u001b[1;33m,\u001b[0m \u001b[0me\u001b[0m\u001b[1;33m)\u001b[0m\u001b[1;33m\u001b[0m\u001b[1;33m\u001b[0m\u001b[0m\n\u001b[0;32m   1777\u001b[0m     \u001b[1;32mif\u001b[0m \u001b[0mconsolidate\u001b[0m\u001b[1;33m:\u001b[0m\u001b[1;33m\u001b[0m\u001b[1;33m\u001b[0m\u001b[0m\n\u001b[1;32m-> 1778\u001b[1;33m         \u001b[0mmgr\u001b[0m\u001b[1;33m.\u001b[0m\u001b[0m_consolidate_inplace\u001b[0m\u001b[1;33m(\u001b[0m\u001b[1;33m)\u001b[0m\u001b[1;33m\u001b[0m\u001b[1;33m\u001b[0m\u001b[0m\n\u001b[0m\u001b[0;32m   1779\u001b[0m     \u001b[1;32mreturn\u001b[0m \u001b[0mmgr\u001b[0m\u001b[1;33m\u001b[0m\u001b[1;33m\u001b[0m\u001b[0m\n\u001b[0;32m   1780\u001b[0m \u001b[1;33m\u001b[0m\u001b[0m\n",
      "\u001b[1;32mD:\\ana\\envs\\tensorflowb\\lib\\site-packages\\pandas\\core\\internals\\managers.py\u001b[0m in \u001b[0;36m_consolidate_inplace\u001b[1;34m(self)\u001b[0m\n\u001b[0;32m    622\u001b[0m     \u001b[1;32mdef\u001b[0m \u001b[0m_consolidate_inplace\u001b[0m\u001b[1;33m(\u001b[0m\u001b[0mself\u001b[0m\u001b[1;33m)\u001b[0m \u001b[1;33m->\u001b[0m \u001b[1;32mNone\u001b[0m\u001b[1;33m:\u001b[0m\u001b[1;33m\u001b[0m\u001b[1;33m\u001b[0m\u001b[0m\n\u001b[0;32m    623\u001b[0m         \u001b[1;32mif\u001b[0m \u001b[1;32mnot\u001b[0m \u001b[0mself\u001b[0m\u001b[1;33m.\u001b[0m\u001b[0mis_consolidated\u001b[0m\u001b[1;33m(\u001b[0m\u001b[1;33m)\u001b[0m\u001b[1;33m:\u001b[0m\u001b[1;33m\u001b[0m\u001b[1;33m\u001b[0m\u001b[0m\n\u001b[1;32m--> 624\u001b[1;33m             \u001b[0mself\u001b[0m\u001b[1;33m.\u001b[0m\u001b[0mblocks\u001b[0m \u001b[1;33m=\u001b[0m \u001b[0mtuple\u001b[0m\u001b[1;33m(\u001b[0m\u001b[0m_consolidate\u001b[0m\u001b[1;33m(\u001b[0m\u001b[0mself\u001b[0m\u001b[1;33m.\u001b[0m\u001b[0mblocks\u001b[0m\u001b[1;33m)\u001b[0m\u001b[1;33m)\u001b[0m\u001b[1;33m\u001b[0m\u001b[1;33m\u001b[0m\u001b[0m\n\u001b[0m\u001b[0;32m    625\u001b[0m             \u001b[0mself\u001b[0m\u001b[1;33m.\u001b[0m\u001b[0m_is_consolidated\u001b[0m \u001b[1;33m=\u001b[0m \u001b[1;32mTrue\u001b[0m\u001b[1;33m\u001b[0m\u001b[1;33m\u001b[0m\u001b[0m\n\u001b[0;32m    626\u001b[0m             \u001b[0mself\u001b[0m\u001b[1;33m.\u001b[0m\u001b[0m_known_consolidated\u001b[0m \u001b[1;33m=\u001b[0m \u001b[1;32mTrue\u001b[0m\u001b[1;33m\u001b[0m\u001b[1;33m\u001b[0m\u001b[0m\n",
      "\u001b[1;32mD:\\ana\\envs\\tensorflowb\\lib\\site-packages\\pandas\\core\\internals\\managers.py\u001b[0m in \u001b[0;36m_consolidate\u001b[1;34m(blocks)\u001b[0m\n\u001b[0;32m   1972\u001b[0m     \u001b[0mnew_blocks\u001b[0m\u001b[1;33m:\u001b[0m \u001b[0mlist\u001b[0m\u001b[1;33m[\u001b[0m\u001b[0mBlock\u001b[0m\u001b[1;33m]\u001b[0m \u001b[1;33m=\u001b[0m \u001b[1;33m[\u001b[0m\u001b[1;33m]\u001b[0m\u001b[1;33m\u001b[0m\u001b[1;33m\u001b[0m\u001b[0m\n\u001b[0;32m   1973\u001b[0m     \u001b[1;32mfor\u001b[0m \u001b[1;33m(\u001b[0m\u001b[0m_can_consolidate\u001b[0m\u001b[1;33m,\u001b[0m \u001b[0mdtype\u001b[0m\u001b[1;33m)\u001b[0m\u001b[1;33m,\u001b[0m \u001b[0mgroup_blocks\u001b[0m \u001b[1;32min\u001b[0m \u001b[0mgrouper\u001b[0m\u001b[1;33m:\u001b[0m\u001b[1;33m\u001b[0m\u001b[1;33m\u001b[0m\u001b[0m\n\u001b[1;32m-> 1974\u001b[1;33m         merged_blocks = _merge_blocks(\n\u001b[0m\u001b[0;32m   1975\u001b[0m             \u001b[0mlist\u001b[0m\u001b[1;33m(\u001b[0m\u001b[0mgroup_blocks\u001b[0m\u001b[1;33m)\u001b[0m\u001b[1;33m,\u001b[0m \u001b[0mdtype\u001b[0m\u001b[1;33m=\u001b[0m\u001b[0mdtype\u001b[0m\u001b[1;33m,\u001b[0m \u001b[0mcan_consolidate\u001b[0m\u001b[1;33m=\u001b[0m\u001b[0m_can_consolidate\u001b[0m\u001b[1;33m\u001b[0m\u001b[1;33m\u001b[0m\u001b[0m\n\u001b[0;32m   1976\u001b[0m         )\n",
      "\u001b[1;32mD:\\ana\\envs\\tensorflowb\\lib\\site-packages\\pandas\\core\\internals\\managers.py\u001b[0m in \u001b[0;36m_merge_blocks\u001b[1;34m(blocks, dtype, can_consolidate)\u001b[0m\n\u001b[0;32m   1999\u001b[0m             \u001b[1;31m# Sequence[Union[int, float, complex, str, bytes, generic]],\u001b[0m\u001b[1;33m\u001b[0m\u001b[1;33m\u001b[0m\u001b[0m\n\u001b[0;32m   2000\u001b[0m             \u001b[1;31m# Sequence[Sequence[Any]], SupportsArray]]\u001b[0m\u001b[1;33m\u001b[0m\u001b[1;33m\u001b[0m\u001b[0m\n\u001b[1;32m-> 2001\u001b[1;33m             \u001b[0mnew_values\u001b[0m \u001b[1;33m=\u001b[0m \u001b[0mnp\u001b[0m\u001b[1;33m.\u001b[0m\u001b[0mvstack\u001b[0m\u001b[1;33m(\u001b[0m\u001b[1;33m[\u001b[0m\u001b[0mb\u001b[0m\u001b[1;33m.\u001b[0m\u001b[0mvalues\u001b[0m \u001b[1;32mfor\u001b[0m \u001b[0mb\u001b[0m \u001b[1;32min\u001b[0m \u001b[0mblocks\u001b[0m\u001b[1;33m]\u001b[0m\u001b[1;33m)\u001b[0m  \u001b[1;31m# type: ignore[misc]\u001b[0m\u001b[1;33m\u001b[0m\u001b[1;33m\u001b[0m\u001b[0m\n\u001b[0m\u001b[0;32m   2002\u001b[0m         \u001b[1;32melse\u001b[0m\u001b[1;33m:\u001b[0m\u001b[1;33m\u001b[0m\u001b[1;33m\u001b[0m\u001b[0m\n\u001b[0;32m   2003\u001b[0m             \u001b[0mbvals\u001b[0m \u001b[1;33m=\u001b[0m \u001b[1;33m[\u001b[0m\u001b[0mblk\u001b[0m\u001b[1;33m.\u001b[0m\u001b[0mvalues\u001b[0m \u001b[1;32mfor\u001b[0m \u001b[0mblk\u001b[0m \u001b[1;32min\u001b[0m \u001b[0mblocks\u001b[0m\u001b[1;33m]\u001b[0m\u001b[1;33m\u001b[0m\u001b[1;33m\u001b[0m\u001b[0m\n",
      "\u001b[1;32m<__array_function__ internals>\u001b[0m in \u001b[0;36mvstack\u001b[1;34m(*args, **kwargs)\u001b[0m\n",
      "\u001b[1;32mD:\\ana\\envs\\tensorflowb\\lib\\site-packages\\numpy\\core\\shape_base.py\u001b[0m in \u001b[0;36mvstack\u001b[1;34m(tup)\u001b[0m\n\u001b[0;32m    280\u001b[0m     \u001b[1;32mif\u001b[0m \u001b[1;32mnot\u001b[0m \u001b[0misinstance\u001b[0m\u001b[1;33m(\u001b[0m\u001b[0marrs\u001b[0m\u001b[1;33m,\u001b[0m \u001b[0mlist\u001b[0m\u001b[1;33m)\u001b[0m\u001b[1;33m:\u001b[0m\u001b[1;33m\u001b[0m\u001b[1;33m\u001b[0m\u001b[0m\n\u001b[0;32m    281\u001b[0m         \u001b[0marrs\u001b[0m \u001b[1;33m=\u001b[0m \u001b[1;33m[\u001b[0m\u001b[0marrs\u001b[0m\u001b[1;33m]\u001b[0m\u001b[1;33m\u001b[0m\u001b[1;33m\u001b[0m\u001b[0m\n\u001b[1;32m--> 282\u001b[1;33m     \u001b[1;32mreturn\u001b[0m \u001b[0m_nx\u001b[0m\u001b[1;33m.\u001b[0m\u001b[0mconcatenate\u001b[0m\u001b[1;33m(\u001b[0m\u001b[0marrs\u001b[0m\u001b[1;33m,\u001b[0m \u001b[1;36m0\u001b[0m\u001b[1;33m)\u001b[0m\u001b[1;33m\u001b[0m\u001b[1;33m\u001b[0m\u001b[0m\n\u001b[0m\u001b[0;32m    283\u001b[0m \u001b[1;33m\u001b[0m\u001b[0m\n\u001b[0;32m    284\u001b[0m \u001b[1;33m\u001b[0m\u001b[0m\n",
      "\u001b[1;32m<__array_function__ internals>\u001b[0m in \u001b[0;36mconcatenate\u001b[1;34m(*args, **kwargs)\u001b[0m\n",
      "\u001b[1;31mMemoryError\u001b[0m: Unable to allocate 2.67 GiB for an array with shape (45, 7948748) and data type float64"
     ]
    }
   ],
   "source": [
    "d1=pd.read_csv(r\"E:\\学习心得\\data\\cic-ids2018\\Thuesday-20-02-2018_TrafficForML_CICFlowMeter.csv\")\n",
    "t1 = d1.groupby('Label').apply(pd.DataFrame.sample, frac=0.03).reset_index(level='Label', drop=True)\n",
    "print ( t1.shape )\n",
    "print ( t1['Label'].value_counts())\n",
    "#t1.to_csv(r\"E:\\学习心得\\data\\cic-ids2018\\02-03\\t1.csv\",header=1,index=0)\n",
    "t1_1=t1\n",
    "pt1=t1_1.groupby('Label').apply(pd.DataFrame.sample, frac=0.3).reset_index(level='Label', drop=True)\n",
    "pt2=t1_1.drop(pt1.index)\n",
    "print ( pt1.shape )\n",
    "print ( pt1['Label'].value_counts())\n",
    "#print ( pt2.shape )\n",
    "#print ( pt2['Label'].value_counts())\n",
    "#pt1.to_csv(r\"E:\\学习心得\\data\\cic-ids2018\\02-03\\pt1.csv\",header=1,index=0)\n",
    "pt3=pt2.groupby('Label').apply(pd.DataFrame.sample, frac=0.3).reset_index(level='Label', drop=True)\n",
    "ptr=pt2.drop ( pt3.index)\n",
    "print ( pt3.shape )\n",
    "print ( pt3['Label'].value_counts())\n",
    "print ( ptr.shape )\n",
    "print ( ptr['Label'].value_counts())"
   ]
  },
  {
   "cell_type": "code",
   "execution_count": 17,
   "id": "30483b07",
   "metadata": {},
   "outputs": [
    {
     "name": "stdout",
     "output_type": "stream",
     "text": [
      "(99338, 80)\n",
      "Benign           71411\n",
      "Infilteration    27919\n",
      "Label                8\n",
      "Name: Label, dtype: int64\n",
      "(29801, 80)\n",
      "Benign           21423\n",
      "Infilteration     8376\n",
      "Label                2\n",
      "Name: Label, dtype: int64\n",
      "(20861, 80)\n",
      "Benign           14996\n",
      "Infilteration     5863\n",
      "Label                2\n",
      "Name: Label, dtype: int64\n",
      "(48676, 80)\n",
      "Benign           34992\n",
      "Infilteration    13680\n",
      "Label                4\n",
      "Name: Label, dtype: int64\n"
     ]
    }
   ],
   "source": [
    "d1=pd.read_csv(r\"E:\\学习心得\\data\\cic-ids2018\\Thursday-01-03-2018_TrafficForML_CICFlowMeter.csv\")\n",
    "t1 = d1.groupby('Label').apply(pd.DataFrame.sample, frac=0.3).reset_index(level='Label', drop=True)\n",
    "\n",
    "print ( t1.shape )\n",
    "print ( t1['Label'].value_counts())\n",
    "#t1.to_csv(r\"E:\\学习心得\\data\\cic-ids2018\\02-03\\t1.csv\",header=1,index=0)\n",
    "t1_1=t1\n",
    "pt1=t1_1.groupby('Label').apply(pd.DataFrame.sample, frac=0.3).reset_index(level='Label', drop=True)\n",
    "pt2=t1_1.drop(pt1.index)\n",
    "print ( pt1.shape )\n",
    "print ( pt1['Label'].value_counts())\n",
    "#print ( pt2.shape )\n",
    "#print ( pt2['Label'].value_counts())\n",
    "#pt1.to_csv(r\"E:\\学习心得\\data\\cic-ids2018\\02-03\\pt1.csv\",header=1,index=0)\n",
    "pt3=pt2.groupby('Label').apply(pd.DataFrame.sample, frac=0.3).reset_index(level='Label', drop=True)\n",
    "ptr=pt2.drop ( pt3.index)\n",
    "print ( pt3.shape )\n",
    "print ( pt3['Label'].value_counts())\n",
    "print ( ptr.shape )\n",
    "print ( ptr['Label'].value_counts())"
   ]
  },
  {
   "cell_type": "code",
   "execution_count": 18,
   "id": "dcb06aa5",
   "metadata": {},
   "outputs": [
    {
     "name": "stdout",
     "output_type": "stream",
     "text": [
      "done\n"
     ]
    }
   ],
   "source": [
    "pt1.to_csv(r\"E:\\学习心得\\data\\cic-ids2018\\02-03\\pva1.csv\",header=False,mode='a',index=0)\n",
    "pt3.to_csv(r\"E:\\学习心得\\data\\cic-ids2018\\02-03\\ptest1.csv\",header=False,mode='a',index=0)\n",
    "ptr.to_csv(r\"E:\\学习心得\\data\\cic-ids2018\\02-03\\ptrain1.csv\",header=False,mode='a',index=0)\n",
    "print ( \"done\")"
   ]
  },
  {
   "cell_type": "code",
   "execution_count": 20,
   "id": "c6a29d34",
   "metadata": {},
   "outputs": [
    {
     "name": "stdout",
     "output_type": "stream",
     "text": [
      "(314572, 80)\n",
      "Benign                   298823\n",
      "DoS attacks-GoldenEye     12452\n",
      "DoS attacks-Slowloris      3297\n",
      "Name: Label, dtype: int64\n",
      "(94372, 80)\n",
      "Benign                   89647\n",
      "DoS attacks-GoldenEye     3736\n",
      "DoS attacks-Slowloris      989\n",
      "Name: Label, dtype: int64\n",
      "(66060, 80)\n",
      "Benign                   62753\n",
      "DoS attacks-GoldenEye     2615\n",
      "DoS attacks-Slowloris      692\n",
      "Name: Label, dtype: int64\n",
      "(154140, 80)\n",
      "Benign                   146423\n",
      "DoS attacks-GoldenEye      6101\n",
      "DoS attacks-Slowloris      1616\n",
      "Name: Label, dtype: int64\n"
     ]
    }
   ],
   "source": [
    "d1=pd.read_csv(r\"E:\\学习心得\\data\\cic-ids2018\\Thursday-15-02-2018_TrafficForML_CICFlowMeter.csv\")\n",
    "t1 = d1.groupby('Label').apply(pd.DataFrame.sample, frac=0.3).reset_index(level='Label', drop=True)\n",
    "print ( t1.shape )\n",
    "print ( t1['Label'].value_counts())\n",
    "#t1.to_csv(r\"E:\\学习心得\\data\\cic-ids2018\\02-03\\t1.csv\",header=1,index=0)\n",
    "t1_1=t1\n",
    "pt1=t1_1.groupby('Label').apply(pd.DataFrame.sample, frac=0.3).reset_index(level='Label', drop=True)\n",
    "pt2=t1_1.drop(pt1.index)\n",
    "print ( pt1.shape )\n",
    "print ( pt1['Label'].value_counts())\n",
    "#print ( pt2.shape )\n",
    "#print ( pt2['Label'].value_counts())\n",
    "#pt1.to_csv(r\"E:\\学习心得\\data\\cic-ids2018\\02-03\\pt1.csv\",header=1,index=0)\n",
    "pt3=pt2.groupby('Label').apply(pd.DataFrame.sample, frac=0.3).reset_index(level='Label', drop=True)\n",
    "ptr=pt2.drop ( pt3.index)\n",
    "print ( pt3.shape )\n",
    "print ( pt3['Label'].value_counts())\n",
    "print ( ptr.shape )\n",
    "print ( ptr['Label'].value_counts())"
   ]
  },
  {
   "cell_type": "code",
   "execution_count": 21,
   "id": "8ba84cc6",
   "metadata": {},
   "outputs": [
    {
     "name": "stdout",
     "output_type": "stream",
     "text": [
      "done\n"
     ]
    }
   ],
   "source": [
    "pt1.to_csv(r\"E:\\学习心得\\data\\cic-ids2018\\02-03\\pva1.csv\",header=False,mode='a',index=0)\n",
    "pt3.to_csv(r\"E:\\学习心得\\data\\cic-ids2018\\02-03\\ptest1.csv\",header=False,mode='a',index=0)\n",
    "ptr.to_csv(r\"E:\\学习心得\\data\\cic-ids2018\\02-03\\ptrain1.csv\",header=False,mode='a',index=0)\n",
    "print ( \"done\")"
   ]
  },
  {
   "cell_type": "code",
   "execution_count": 22,
   "id": "0b075a7f",
   "metadata": {},
   "outputs": [
    {
     "name": "stdout",
     "output_type": "stream",
     "text": [
      "(314573, 80)\n",
      "Benign              314464\n",
      "Brute Force -Web        75\n",
      "Brute Force -XSS        24\n",
      "SQL Injection           10\n",
      "Name: Label, dtype: int64\n",
      "(94371, 80)\n",
      "Benign              94339\n",
      "Brute Force -Web       22\n",
      "Brute Force -XSS        7\n",
      "SQL Injection           3\n",
      "Name: Label, dtype: int64\n",
      "(66061, 80)\n",
      "Benign              66038\n",
      "Brute Force -Web       16\n",
      "Brute Force -XSS        5\n",
      "SQL Injection           2\n",
      "Name: Label, dtype: int64\n",
      "(154141, 80)\n",
      "Benign              154087\n",
      "Brute Force -Web        37\n",
      "Brute Force -XSS        12\n",
      "SQL Injection            5\n",
      "Name: Label, dtype: int64\n"
     ]
    }
   ],
   "source": [
    "d1=pd.read_csv(r\"E:\\学习心得\\data\\cic-ids2018\\Thursday-22-02-2018_TrafficForML_CICFlowMeter.csv\")\n",
    "t1 = d1.groupby('Label').apply(pd.DataFrame.sample, frac=0.3).reset_index(level='Label', drop=True)\n",
    "print ( t1.shape )\n",
    "print ( t1['Label'].value_counts())\n",
    "#t1.to_csv(r\"E:\\学习心得\\data\\cic-ids2018\\02-03\\t1.csv\",header=1,index=0)\n",
    "t1_1=t1\n",
    "pt1=t1_1.groupby('Label').apply(pd.DataFrame.sample, frac=0.3).reset_index(level='Label', drop=True)\n",
    "pt2=t1_1.drop(pt1.index)\n",
    "print ( pt1.shape )\n",
    "print ( pt1['Label'].value_counts())\n",
    "#print ( pt2.shape )\n",
    "#print ( pt2['Label'].value_counts())\n",
    "#pt1.to_csv(r\"E:\\学习心得\\data\\cic-ids2018\\02-03\\pt1.csv\",header=1,index=0)\n",
    "pt3=pt2.groupby('Label').apply(pd.DataFrame.sample, frac=0.3).reset_index(level='Label', drop=True)\n",
    "ptr=pt2.drop ( pt3.index)\n",
    "print ( pt3.shape )\n",
    "print ( pt3['Label'].value_counts())\n",
    "print ( ptr.shape )\n",
    "print ( ptr['Label'].value_counts())"
   ]
  },
  {
   "cell_type": "code",
   "execution_count": 23,
   "id": "4559fc94",
   "metadata": {},
   "outputs": [
    {
     "name": "stdout",
     "output_type": "stream",
     "text": [
      "done\n"
     ]
    }
   ],
   "source": [
    "pt1.to_csv(r\"E:\\学习心得\\data\\cic-ids2018\\02-03\\pva1.csv\",header=False,mode='a',index=0)\n",
    "pt3.to_csv(r\"E:\\学习心得\\data\\cic-ids2018\\02-03\\ptest1.csv\",header=False,mode='a',index=0)\n",
    "ptr.to_csv(r\"E:\\学习心得\\data\\cic-ids2018\\02-03\\ptrain1.csv\",header=False,mode='a',index=0)\n",
    "print ( \"done\")"
   ]
  },
  {
   "cell_type": "code",
   "execution_count": 24,
   "id": "bdb7f974",
   "metadata": {},
   "outputs": [
    {
     "name": "stdout",
     "output_type": "stream",
     "text": [
      "(314573, 80)\n",
      "Benign            200288\n",
      "FTP-BruteForce     58008\n",
      "SSH-Bruteforce     56277\n",
      "Name: Label, dtype: int64\n",
      "(94371, 80)\n",
      "Benign            60086\n",
      "FTP-BruteForce    17402\n",
      "SSH-Bruteforce    16883\n",
      "Name: Label, dtype: int64\n",
      "(66061, 80)\n",
      "Benign            42061\n",
      "FTP-BruteForce    12182\n",
      "SSH-Bruteforce    11818\n",
      "Name: Label, dtype: int64\n",
      "(154141, 80)\n",
      "Benign            98141\n",
      "FTP-BruteForce    28424\n",
      "SSH-Bruteforce    27576\n",
      "Name: Label, dtype: int64\n"
     ]
    }
   ],
   "source": [
    "d1=pd.read_csv(r\"E:\\学习心得\\data\\cic-ids2018\\Wednesday-14-02-2018_TrafficForML_CICFlowMeter.csv\")\n",
    "t1 = d1.groupby('Label').apply(pd.DataFrame.sample, frac=0.3).reset_index(level='Label', drop=True)\n",
    "print ( t1.shape )\n",
    "print ( t1['Label'].value_counts())\n",
    "#t1.to_csv(r\"E:\\学习心得\\data\\cic-ids2018\\02-03\\t1.csv\",header=1,index=0)\n",
    "t1_1=t1\n",
    "pt1=t1_1.groupby('Label').apply(pd.DataFrame.sample, frac=0.3).reset_index(level='Label', drop=True)\n",
    "pt2=t1_1.drop(pt1.index)\n",
    "print ( pt1.shape )\n",
    "print ( pt1['Label'].value_counts())\n",
    "#print ( pt2.shape )\n",
    "#print ( pt2['Label'].value_counts())\n",
    "#pt1.to_csv(r\"E:\\学习心得\\data\\cic-ids2018\\02-03\\pt1.csv\",header=1,index=0)\n",
    "pt3=pt2.groupby('Label').apply(pd.DataFrame.sample, frac=0.3).reset_index(level='Label', drop=True)\n",
    "ptr=pt2.drop ( pt3.index)\n",
    "print ( pt3.shape )\n",
    "print ( pt3['Label'].value_counts())\n",
    "print ( ptr.shape )\n",
    "print ( ptr['Label'].value_counts())"
   ]
  },
  {
   "cell_type": "code",
   "execution_count": 25,
   "id": "752bc8ff",
   "metadata": {},
   "outputs": [
    {
     "name": "stdout",
     "output_type": "stream",
     "text": [
      "done\n"
     ]
    }
   ],
   "source": [
    "pt1.to_csv(r\"E:\\学习心得\\data\\cic-ids2018\\02-03\\pva1.csv\",header=False,mode='a',index=0)\n",
    "pt3.to_csv(r\"E:\\学习心得\\data\\cic-ids2018\\02-03\\ptest1.csv\",header=False,mode='a',index=0)\n",
    "ptr.to_csv(r\"E:\\学习心得\\data\\cic-ids2018\\02-03\\ptrain1.csv\",header=False,mode='a',index=0)\n",
    "print ( \"done\")"
   ]
  },
  {
   "cell_type": "code",
   "execution_count": 26,
   "id": "985d0060",
   "metadata": {},
   "outputs": [
    {
     "name": "stdout",
     "output_type": "stream",
     "text": [
      "(314573, 80)\n",
      "DDOS attack-HOIC        205804\n",
      "Benign                  108250\n",
      "DDOS attack-LOIC-UDP       519\n",
      "Name: Label, dtype: int64\n",
      "(94372, 80)\n",
      "DDOS attack-HOIC        61741\n",
      "Benign                  32475\n",
      "DDOS attack-LOIC-UDP      156\n",
      "Name: Label, dtype: int64\n",
      "(66060, 80)\n",
      "DDOS attack-HOIC        43219\n",
      "Benign                  22732\n",
      "DDOS attack-LOIC-UDP      109\n",
      "Name: Label, dtype: int64\n",
      "(154141, 80)\n",
      "DDOS attack-HOIC        100844\n",
      "Benign                   53043\n",
      "DDOS attack-LOIC-UDP       254\n",
      "Name: Label, dtype: int64\n"
     ]
    }
   ],
   "source": [
    "d1=pd.read_csv(r\"E:\\学习心得\\data\\cic-ids2018\\Wednesday-21-02-2018_TrafficForML_CICFlowMeter.csv\")\n",
    "t1 = d1.groupby('Label').apply(pd.DataFrame.sample, frac=0.3).reset_index(level='Label', drop=True)\n",
    "print ( t1.shape )\n",
    "print ( t1['Label'].value_counts())\n",
    "#t1.to_csv(r\"E:\\学习心得\\data\\cic-ids2018\\02-03\\t1.csv\",header=1,index=0)\n",
    "t1_1=t1\n",
    "pt1=t1_1.groupby('Label').apply(pd.DataFrame.sample, frac=0.3).reset_index(level='Label', drop=True)\n",
    "pt2=t1_1.drop(pt1.index)\n",
    "print ( pt1.shape )\n",
    "print ( pt1['Label'].value_counts())\n",
    "#print ( pt2.shape )\n",
    "#print ( pt2['Label'].value_counts())\n",
    "#pt1.to_csv(r\"E:\\学习心得\\data\\cic-ids2018\\02-03\\pt1.csv\",header=1,index=0)\n",
    "pt3=pt2.groupby('Label').apply(pd.DataFrame.sample, frac=0.3).reset_index(level='Label', drop=True)\n",
    "ptr=pt2.drop ( pt3.index)\n",
    "print ( pt3.shape )\n",
    "print ( pt3['Label'].value_counts())\n",
    "print ( ptr.shape )\n",
    "print ( ptr['Label'].value_counts())"
   ]
  },
  {
   "cell_type": "code",
   "execution_count": 27,
   "id": "88fce05a",
   "metadata": {},
   "outputs": [
    {
     "name": "stdout",
     "output_type": "stream",
     "text": [
      "done\n"
     ]
    }
   ],
   "source": [
    "pt1.to_csv(r\"E:\\学习心得\\data\\cic-ids2018\\02-03\\pva1.csv\",header=False,mode='a',index=0)\n",
    "pt3.to_csv(r\"E:\\学习心得\\data\\cic-ids2018\\02-03\\ptest1.csv\",header=False,mode='a',index=0)\n",
    "ptr.to_csv(r\"E:\\学习心得\\data\\cic-ids2018\\02-03\\ptrain1.csv\",header=False,mode='a',index=0)\n",
    "print ( \"done\")"
   ]
  },
  {
   "cell_type": "code",
   "execution_count": 28,
   "id": "1c93e864",
   "metadata": {},
   "outputs": [
    {
     "name": "stdout",
     "output_type": "stream",
     "text": [
      "(183931, 80)\n",
      "Benign           163260\n",
      "Infilteration     20661\n",
      "Label                10\n",
      "Name: Label, dtype: int64\n",
      "(55179, 80)\n",
      "Benign           48978\n",
      "Infilteration     6198\n",
      "Label                3\n",
      "Name: Label, dtype: int64\n",
      "(38626, 80)\n",
      "Benign           34285\n",
      "Infilteration     4339\n",
      "Label                2\n",
      "Name: Label, dtype: int64\n",
      "(90126, 80)\n",
      "Benign           79997\n",
      "Infilteration    10124\n",
      "Label                5\n",
      "Name: Label, dtype: int64\n"
     ]
    }
   ],
   "source": [
    "d1=pd.read_csv(r\"E:\\学习心得\\data\\cic-ids2018\\Wednesday-28-02-2018_TrafficForML_CICFlowMeter.csv\")\n",
    "t1 = d1.groupby('Label').apply(pd.DataFrame.sample, frac=0.3).reset_index(level='Label', drop=True)\n",
    "print ( t1.shape )\n",
    "print ( t1['Label'].value_counts())\n",
    "#t1.to_csv(r\"E:\\学习心得\\data\\cic-ids2018\\02-03\\t1.csv\",header=1,index=0)\n",
    "t1_1=t1\n",
    "pt1=t1_1.groupby('Label').apply(pd.DataFrame.sample, frac=0.3).reset_index(level='Label', drop=True)\n",
    "pt2=t1_1.drop(pt1.index)\n",
    "print ( pt1.shape )\n",
    "print ( pt1['Label'].value_counts())\n",
    "#print ( pt2.shape )\n",
    "#print ( pt2['Label'].value_counts())\n",
    "#pt1.to_csv(r\"E:\\学习心得\\data\\cic-ids2018\\02-03\\pt1.csv\",header=1,index=0)\n",
    "pt3=pt2.groupby('Label').apply(pd.DataFrame.sample, frac=0.3).reset_index(level='Label', drop=True)\n",
    "ptr=pt2.drop ( pt3.index)\n",
    "print ( pt3.shape )\n",
    "print ( pt3['Label'].value_counts())\n",
    "print ( ptr.shape )\n",
    "print ( ptr['Label'].value_counts())"
   ]
  },
  {
   "cell_type": "code",
   "execution_count": 29,
   "id": "78b51bed",
   "metadata": {},
   "outputs": [
    {
     "name": "stdout",
     "output_type": "stream",
     "text": [
      "done\n"
     ]
    }
   ],
   "source": [
    "pt1.to_csv(r\"E:\\学习心得\\data\\cic-ids2018\\02-03\\pva1.csv\",header=False,mode='a',index=0)\n",
    "pt3.to_csv(r\"E:\\学习心得\\data\\cic-ids2018\\02-03\\ptest1.csv\",header=False,mode='a',index=0)\n",
    "ptr.to_csv(r\"E:\\学习心得\\data\\cic-ids2018\\02-03\\ptrain1.csv\",header=False,mode='a',index=0)\n",
    "print ( \"done\")"
   ]
  },
  {
   "cell_type": "code",
   "execution_count": 30,
   "id": "5ad23840",
   "metadata": {},
   "outputs": [
    {
     "name": "stdout",
     "output_type": "stream",
     "text": [
      "<class 'pandas.core.frame.DataFrame'>\n",
      "RangeIndex: 1222654 entries, 0 to 1222653\n",
      "Data columns (total 80 columns):\n",
      " #   Column             Non-Null Count    Dtype \n",
      "---  ------             --------------    ----- \n",
      " 0   Dst Port           1222654 non-null  object\n",
      " 1   Protocol           1222654 non-null  object\n",
      " 2   Timestamp          1222654 non-null  object\n",
      " 3   Flow Duration      1222654 non-null  object\n",
      " 4   Tot Fwd Pkts       1222654 non-null  object\n",
      " 5   Tot Bwd Pkts       1222654 non-null  object\n",
      " 6   TotLen Fwd Pkts    1222654 non-null  object\n",
      " 7   TotLen Bwd Pkts    1222654 non-null  object\n",
      " 8   Fwd Pkt Len Max    1222654 non-null  object\n",
      " 9   Fwd Pkt Len Min    1222654 non-null  object\n",
      " 10  Fwd Pkt Len Mean   1222654 non-null  object\n",
      " 11  Fwd Pkt Len Std    1222654 non-null  object\n",
      " 12  Bwd Pkt Len Max    1222654 non-null  object\n",
      " 13  Bwd Pkt Len Min    1222654 non-null  object\n",
      " 14  Bwd Pkt Len Mean   1222654 non-null  object\n",
      " 15  Bwd Pkt Len Std    1222654 non-null  object\n",
      " 16  Flow Byts/s        1219323 non-null  object\n",
      " 17  Flow Pkts/s        1222654 non-null  object\n",
      " 18  Flow IAT Mean      1222654 non-null  object\n",
      " 19  Flow IAT Std       1222654 non-null  object\n",
      " 20  Flow IAT Max       1222654 non-null  object\n",
      " 21  Flow IAT Min       1222654 non-null  object\n",
      " 22  Fwd IAT Tot        1222654 non-null  object\n",
      " 23  Fwd IAT Mean       1222654 non-null  object\n",
      " 24  Fwd IAT Std        1222654 non-null  object\n",
      " 25  Fwd IAT Max        1222654 non-null  object\n",
      " 26  Fwd IAT Min        1222654 non-null  object\n",
      " 27  Bwd IAT Tot        1222654 non-null  object\n",
      " 28  Bwd IAT Mean       1222654 non-null  object\n",
      " 29  Bwd IAT Std        1222654 non-null  object\n",
      " 30  Bwd IAT Max        1222654 non-null  object\n",
      " 31  Bwd IAT Min        1222654 non-null  object\n",
      " 32  Fwd PSH Flags      1222654 non-null  object\n",
      " 33  Bwd PSH Flags      1222654 non-null  object\n",
      " 34  Fwd URG Flags      1222654 non-null  object\n",
      " 35  Bwd URG Flags      1222654 non-null  object\n",
      " 36  Fwd Header Len     1222654 non-null  object\n",
      " 37  Bwd Header Len     1222654 non-null  object\n",
      " 38  Fwd Pkts/s         1222654 non-null  object\n",
      " 39  Bwd Pkts/s         1222654 non-null  object\n",
      " 40  Pkt Len Min        1222654 non-null  object\n",
      " 41  Pkt Len Max        1222654 non-null  object\n",
      " 42  Pkt Len Mean       1222654 non-null  object\n",
      " 43  Pkt Len Std        1222654 non-null  object\n",
      " 44  Pkt Len Var        1222654 non-null  object\n",
      " 45  FIN Flag Cnt       1222654 non-null  object\n",
      " 46  SYN Flag Cnt       1222654 non-null  object\n",
      " 47  RST Flag Cnt       1222654 non-null  object\n",
      " 48  PSH Flag Cnt       1222654 non-null  object\n",
      " 49  ACK Flag Cnt       1222654 non-null  object\n",
      " 50  URG Flag Cnt       1222654 non-null  object\n",
      " 51  CWE Flag Count     1222654 non-null  object\n",
      " 52  ECE Flag Cnt       1222654 non-null  object\n",
      " 53  Down/Up Ratio      1222654 non-null  object\n",
      " 54  Pkt Size Avg       1222654 non-null  object\n",
      " 55  Fwd Seg Size Avg   1222654 non-null  object\n",
      " 56  Bwd Seg Size Avg   1222654 non-null  object\n",
      " 57  Fwd Byts/b Avg     1222654 non-null  object\n",
      " 58  Fwd Pkts/b Avg     1222654 non-null  object\n",
      " 59  Fwd Blk Rate Avg   1222654 non-null  object\n",
      " 60  Bwd Byts/b Avg     1222654 non-null  object\n",
      " 61  Bwd Pkts/b Avg     1222654 non-null  object\n",
      " 62  Bwd Blk Rate Avg   1222654 non-null  object\n",
      " 63  Subflow Fwd Pkts   1222654 non-null  object\n",
      " 64  Subflow Fwd Byts   1222654 non-null  object\n",
      " 65  Subflow Bwd Pkts   1222654 non-null  object\n",
      " 66  Subflow Bwd Byts   1222654 non-null  object\n",
      " 67  Init Fwd Win Byts  1222654 non-null  object\n",
      " 68  Init Bwd Win Byts  1222654 non-null  object\n",
      " 69  Fwd Act Data Pkts  1222654 non-null  object\n",
      " 70  Fwd Seg Size Min   1222654 non-null  object\n",
      " 71  Active Mean        1222654 non-null  object\n",
      " 72  Active Std         1222654 non-null  object\n",
      " 73  Active Max         1222654 non-null  object\n",
      " 74  Active Min         1222654 non-null  object\n",
      " 75  Idle Mean          1222654 non-null  object\n",
      " 76  Idle Std           1222654 non-null  object\n",
      " 77  Idle Max           1222654 non-null  object\n",
      " 78  Idle Min           1222654 non-null  object\n",
      " 79  Label              1222654 non-null  object\n",
      "dtypes: object(80)\n",
      "memory usage: 746.2+ MB\n"
     ]
    }
   ],
   "source": [
    "df=pd.read_csv(r\"E:\\学习心得\\data\\cic-ids2018\\02-03\\ptrain1.csv\")\n",
    "df.info()"
   ]
  },
  {
   "cell_type": "code",
   "execution_count": 31,
   "id": "200ed6b0",
   "metadata": {},
   "outputs": [
    {
     "data": {
      "text/plain": [
       "array(['Benign', 'Bot', 'DoS attacks-Hulk', 'DoS attacks-SlowHTTPTest',\n",
       "       'Brute Force -Web', 'Brute Force -XSS', 'SQL Injection',\n",
       "       'Infilteration', 'Label', 'DoS attacks-GoldenEye',\n",
       "       'DoS attacks-Slowloris', 'FTP-BruteForce', 'SSH-Bruteforce',\n",
       "       'DDOS attack-HOIC', 'DDOS attack-LOIC-UDP'], dtype=object)"
      ]
     },
     "execution_count": 31,
     "metadata": {},
     "output_type": "execute_result"
    }
   ],
   "source": [
    "df['Label'].unique()"
   ]
  },
  {
   "cell_type": "code",
   "execution_count": 32,
   "id": "4a640392",
   "metadata": {},
   "outputs": [
    {
     "data": {
      "text/plain": [
       "[8284.023669, 10101.0101, 9.078348, 5.184172, 0.502296, ..., 'Flow Pkts/s', 'Flow Pkts/s', 'Flow Pkts/s', 'Flow Pkts/s', 'Flow Pkts/s']\n",
       "Length: 1222654\n",
       "Categories (576386, object): [-0.000061, 0.016668, 0.016669, 0.01667, ..., '999.5002499', 'Flow Pkts/s', 'Infinity', 'inf']"
      ]
     },
     "execution_count": 32,
     "metadata": {},
     "output_type": "execute_result"
    }
   ],
   "source": [
    " pd.Categorical(df['Flow Pkts/s'])# to check different value"
   ]
  },
  {
   "cell_type": "code",
   "execution_count": 33,
   "id": "0f096b97",
   "metadata": {},
   "outputs": [
    {
     "data": {
      "text/plain": [
       "array([8284.023669, 10101.0101, 9.078347959, ..., '9.144863787',\n",
       "       '15.86147045', '42.50029219'], dtype=object)"
      ]
     },
     "execution_count": 33,
     "metadata": {},
     "output_type": "execute_result"
    }
   ],
   "source": [
    "df['Flow Pkts/s'].unique()"
   ]
  },
  {
   "cell_type": "code",
   "execution_count": 34,
   "id": "7bd8b9b1",
   "metadata": {},
   "outputs": [],
   "source": [
    "df.drop('Timestamp',axis=1,inplace=True)"
   ]
  },
  {
   "cell_type": "code",
   "execution_count": 35,
   "id": "3d24c0ce",
   "metadata": {},
   "outputs": [
    {
     "data": {
      "text/plain": [
       "(1222654, 79)"
      ]
     },
     "execution_count": 35,
     "metadata": {},
     "output_type": "execute_result"
    }
   ],
   "source": [
    "df.shape"
   ]
  },
  {
   "cell_type": "code",
   "execution_count": 36,
   "id": "f123e5cc",
   "metadata": {},
   "outputs": [
    {
     "data": {
      "text/plain": [
       "(1222654, 77)"
      ]
     },
     "execution_count": 36,
     "metadata": {},
     "output_type": "execute_result"
    }
   ],
   "source": [
    "df.drop('Protocol',axis=1,inplace=True)\n",
    "df.drop('Dst Port',axis=1,inplace=True)\n",
    "df.shape"
   ]
  },
  {
   "cell_type": "code",
   "execution_count": 37,
   "id": "64d1612a",
   "metadata": {},
   "outputs": [],
   "source": [
    "df['Flow Pkts/s']= df['Flow Pkts/s'].fillna(0)  # removing NAN and INF values\n",
    "df['Flow Byts/s']= df['Flow Byts/s'].fillna(0)\n",
    "df['Flow Pkts/s']= df['Flow Pkts/s'].replace(np.Infinity,1)\n",
    "df['Flow Byts/s']= df['Flow Byts/s'].replace(np.Infinity,1)"
   ]
  },
  {
   "cell_type": "code",
   "execution_count": 38,
   "id": "44d50328",
   "metadata": {},
   "outputs": [
    {
     "data": {
      "text/plain": [
       "[462721.8935, 0.0, 1649.233212, 747.227764, 0.0, ..., 'Flow Byts/s', 'Flow Byts/s', 'Flow Byts/s', 'Flow Byts/s', 'Flow Byts/s']\n",
       "Length: 1222654\n",
       "Categories (601738, object): [0.0, 0.008362, 0.008437, 0.008451, ..., '9998.324303', 'Flow Byts/s', 'Infinity', 'inf']"
      ]
     },
     "execution_count": 38,
     "metadata": {},
     "output_type": "execute_result"
    }
   ],
   "source": [
    "pd.Categorical(df['Flow Byts/s']) # now no INF and NAN values"
   ]
  },
  {
   "cell_type": "code",
   "execution_count": 39,
   "id": "ddf14458",
   "metadata": {},
   "outputs": [
    {
     "data": {
      "text/plain": [
       "[8284.023669, 10101.0101, 9.078348, 5.184172, 0.502296, ..., 'Flow Pkts/s', 'Flow Pkts/s', 'Flow Pkts/s', 'Flow Pkts/s', 'Flow Pkts/s']\n",
       "Length: 1222654\n",
       "Categories (576386, object): [-0.000061, 0.016668, 0.016669, 0.01667, ..., '999.5002499', 'Flow Pkts/s', 'Infinity', 'inf']"
      ]
     },
     "execution_count": 39,
     "metadata": {},
     "output_type": "execute_result"
    }
   ],
   "source": [
    " pd.Categorical(df['Flow Pkts/s'])"
   ]
  },
  {
   "cell_type": "code",
   "execution_count": 40,
   "id": "5d7f3fc7",
   "metadata": {},
   "outputs": [
    {
     "data": {
      "text/plain": [
       "(1222654, 77)"
      ]
     },
     "execution_count": 40,
     "metadata": {},
     "output_type": "execute_result"
    }
   ],
   "source": [
    "df.shape"
   ]
  },
  {
   "cell_type": "code",
   "execution_count": 45,
   "id": "74093864",
   "metadata": {},
   "outputs": [
    {
     "ename": "AttributeError",
     "evalue": "'DataFrame' object has no attribute 'Label'",
     "output_type": "error",
     "traceback": [
      "\u001b[1;31m---------------------------------------------------------------------------\u001b[0m",
      "\u001b[1;31mAttributeError\u001b[0m                            Traceback (most recent call last)",
      "\u001b[1;32m~\\AppData\\Local\\Temp/ipykernel_9280/1238914439.py\u001b[0m in \u001b[0;36m<module>\u001b[1;34m\u001b[0m\n\u001b[1;32m----> 1\u001b[1;33m \u001b[0mlabelt\u001b[0m \u001b[1;33m=\u001b[0m \u001b[0mdf\u001b[0m\u001b[1;33m.\u001b[0m\u001b[0mLabel\u001b[0m\u001b[1;33m.\u001b[0m\u001b[0mcopy\u001b[0m\u001b[1;33m(\u001b[0m\u001b[1;33m)\u001b[0m\u001b[1;33m\u001b[0m\u001b[1;33m\u001b[0m\u001b[0m\n\u001b[0m\u001b[0;32m      2\u001b[0m \u001b[0mlabelt\u001b[0m\u001b[1;33m.\u001b[0m\u001b[0mshape\u001b[0m\u001b[1;33m\u001b[0m\u001b[1;33m\u001b[0m\u001b[0m\n\u001b[0;32m      3\u001b[0m \u001b[0mlabelt\u001b[0m\u001b[1;33m.\u001b[0m\u001b[0munique\u001b[0m\u001b[1;33m(\u001b[0m\u001b[1;33m)\u001b[0m\u001b[1;33m\u001b[0m\u001b[1;33m\u001b[0m\u001b[0m\n\u001b[0;32m      4\u001b[0m \u001b[0mlabelt\u001b[0m\u001b[1;33m.\u001b[0m\u001b[0mvalue_counts\u001b[0m\u001b[1;33m(\u001b[0m\u001b[1;33m)\u001b[0m\u001b[1;33m\u001b[0m\u001b[1;33m\u001b[0m\u001b[0m\n",
      "\u001b[1;32mD:\\ana\\envs\\tensorflowb\\lib\\site-packages\\pandas\\core\\generic.py\u001b[0m in \u001b[0;36m__getattr__\u001b[1;34m(self, name)\u001b[0m\n\u001b[0;32m   5485\u001b[0m         ):\n\u001b[0;32m   5486\u001b[0m             \u001b[1;32mreturn\u001b[0m \u001b[0mself\u001b[0m\u001b[1;33m[\u001b[0m\u001b[0mname\u001b[0m\u001b[1;33m]\u001b[0m\u001b[1;33m\u001b[0m\u001b[1;33m\u001b[0m\u001b[0m\n\u001b[1;32m-> 5487\u001b[1;33m         \u001b[1;32mreturn\u001b[0m \u001b[0mobject\u001b[0m\u001b[1;33m.\u001b[0m\u001b[0m__getattribute__\u001b[0m\u001b[1;33m(\u001b[0m\u001b[0mself\u001b[0m\u001b[1;33m,\u001b[0m \u001b[0mname\u001b[0m\u001b[1;33m)\u001b[0m\u001b[1;33m\u001b[0m\u001b[1;33m\u001b[0m\u001b[0m\n\u001b[0m\u001b[0;32m   5488\u001b[0m \u001b[1;33m\u001b[0m\u001b[0m\n\u001b[0;32m   5489\u001b[0m     \u001b[1;32mdef\u001b[0m \u001b[0m__setattr__\u001b[0m\u001b[1;33m(\u001b[0m\u001b[0mself\u001b[0m\u001b[1;33m,\u001b[0m \u001b[0mname\u001b[0m\u001b[1;33m:\u001b[0m \u001b[0mstr\u001b[0m\u001b[1;33m,\u001b[0m \u001b[0mvalue\u001b[0m\u001b[1;33m)\u001b[0m \u001b[1;33m->\u001b[0m \u001b[1;32mNone\u001b[0m\u001b[1;33m:\u001b[0m\u001b[1;33m\u001b[0m\u001b[1;33m\u001b[0m\u001b[0m\n",
      "\u001b[1;31mAttributeError\u001b[0m: 'DataFrame' object has no attribute 'Label'"
     ]
    }
   ],
   "source": [
    "labelt = df.Label.copy()\n",
    "labelt.shape\n",
    "labelt.unique()\n",
    "labelt.value_counts()"
   ]
  },
  {
   "cell_type": "code",
   "execution_count": 42,
   "id": "d0f620a7",
   "metadata": {},
   "outputs": [],
   "source": [
    "df.drop('Label',axis=1,inplace=True)"
   ]
  },
  {
   "cell_type": "code",
   "execution_count": 43,
   "id": "4cee712f",
   "metadata": {},
   "outputs": [
    {
     "data": {
      "text/plain": [
       "(1222654, 76)"
      ]
     },
     "execution_count": 43,
     "metadata": {},
     "output_type": "execute_result"
    }
   ],
   "source": [
    "df.shape"
   ]
  },
  {
   "cell_type": "code",
   "execution_count": 44,
   "id": "25163af0",
   "metadata": {},
   "outputs": [
    {
     "name": "stdout",
     "output_type": "stream",
     "text": [
      "['Benign' 'Benign' 'Benign' ... 'Label' 'Label' 'Label']\n",
      "[[1. 0. 0. ... 0. 0. 0.]\n",
      " [1. 0. 0. ... 0. 0. 0.]\n",
      " [1. 0. 0. ... 0. 0. 0.]\n",
      " ...\n",
      " [0. 0. 0. ... 1. 0. 0.]\n",
      " [0. 0. 0. ... 1. 0. 0.]\n",
      " [0. 0. 0. ... 1. 0. 0.]]\n"
     ]
    }
   ],
   "source": [
    "arrs=labelt.values\n",
    "d1=np.array(arrs)\n",
    "values = array(d1)\n",
    "print(values)\n",
    "# integer encode\n",
    "label_encoder = LabelEncoder()\n",
    "integer_encoded = label_encoder.fit_transform(values)\n",
    "data3 = pd.DataFrame(integer_encoded) # header:原第一行的索引，index:原第一列的索引\n",
    "#data3.to_csv(r\"E:\\学习心得\\data\\cic-ids2018\\28-02\\28pl1.csv\",header=None,index=0)\n",
    "# # binary encode\n",
    "onehot_encoder = OneHotEncoder(sparse=False)\n",
    "integer_encoded = integer_encoded.reshape(len(integer_encoded), 1)\n",
    "onehot_encoded = onehot_encoder.fit_transform(integer_encoded)\n",
    "print(onehot_encoded)\n",
    "data4 = pd.DataFrame(onehot_encoded) # header:原第一行的索引，index:原第一列的索引\n",
    "data4.to_csv(r\"E:\\学习心得\\data\\cic-ids2018\\02-03\\ptrain1\\train_label.csv\",header=None,index=0)"
   ]
  },
  {
   "cell_type": "code",
   "execution_count": 59,
   "id": "578026b9",
   "metadata": {},
   "outputs": [
    {
     "name": "stdout",
     "output_type": "stream",
     "text": [
      "(0,)\n"
     ]
    },
    {
     "data": {
      "text/plain": [
       "Series([], Name: Label, dtype: int64)"
      ]
     },
     "execution_count": 59,
     "metadata": {},
     "output_type": "execute_result"
    }
   ],
   "source": [
    "labelt.drop(index=labelt.isin([\"Label\"]).index,axis=0,inplace=True)\n",
    "print (labelt.shape)\n",
    "labelt.unique()\n",
    "labelt.value_counts()\n"
   ]
  },
  {
   "cell_type": "code",
   "execution_count": 48,
   "id": "acad9ef4",
   "metadata": {},
   "outputs": [
    {
     "name": "stdout",
     "output_type": "stream",
     "text": [
      "(1222654, 76)\n"
     ]
    },
    {
     "ename": "KeyError",
     "evalue": "\"['Flow Duration'] not found in axis\"",
     "output_type": "error",
     "traceback": [
      "\u001b[1;31m---------------------------------------------------------------------------\u001b[0m",
      "\u001b[1;31mKeyError\u001b[0m                                  Traceback (most recent call last)",
      "\u001b[1;32m~\\AppData\\Local\\Temp/ipykernel_9280/3610397243.py\u001b[0m in \u001b[0;36m<module>\u001b[1;34m\u001b[0m\n\u001b[0;32m      1\u001b[0m \u001b[1;31m#labelt.drop('Label')\u001b[0m\u001b[1;33m\u001b[0m\u001b[1;33m\u001b[0m\u001b[0m\n\u001b[0;32m      2\u001b[0m \u001b[0mprint\u001b[0m \u001b[1;33m(\u001b[0m \u001b[0mdf\u001b[0m\u001b[1;33m.\u001b[0m\u001b[0mshape\u001b[0m \u001b[1;33m)\u001b[0m\u001b[1;33m\u001b[0m\u001b[1;33m\u001b[0m\u001b[0m\n\u001b[1;32m----> 3\u001b[1;33m \u001b[0mdf\u001b[0m\u001b[1;33m.\u001b[0m\u001b[0mdrop\u001b[0m\u001b[1;33m(\u001b[0m\u001b[1;34m\"Flow Duration\"\u001b[0m\u001b[1;33m,\u001b[0m\u001b[0maxis\u001b[0m\u001b[1;33m=\u001b[0m\u001b[1;36m0\u001b[0m\u001b[1;33m,\u001b[0m\u001b[0minplace\u001b[0m\u001b[1;33m=\u001b[0m\u001b[1;32mTrue\u001b[0m\u001b[1;33m)\u001b[0m\u001b[1;33m\u001b[0m\u001b[1;33m\u001b[0m\u001b[0m\n\u001b[0m\u001b[0;32m      4\u001b[0m \u001b[0mprint\u001b[0m \u001b[1;33m(\u001b[0m \u001b[0mdf\u001b[0m\u001b[1;33m.\u001b[0m\u001b[0mshape\u001b[0m \u001b[1;33m)\u001b[0m\u001b[1;33m\u001b[0m\u001b[1;33m\u001b[0m\u001b[0m\n",
      "\u001b[1;32mD:\\ana\\envs\\tensorflowb\\lib\\site-packages\\pandas\\util\\_decorators.py\u001b[0m in \u001b[0;36mwrapper\u001b[1;34m(*args, **kwargs)\u001b[0m\n\u001b[0;32m    309\u001b[0m                     \u001b[0mstacklevel\u001b[0m\u001b[1;33m=\u001b[0m\u001b[0mstacklevel\u001b[0m\u001b[1;33m,\u001b[0m\u001b[1;33m\u001b[0m\u001b[1;33m\u001b[0m\u001b[0m\n\u001b[0;32m    310\u001b[0m                 )\n\u001b[1;32m--> 311\u001b[1;33m             \u001b[1;32mreturn\u001b[0m \u001b[0mfunc\u001b[0m\u001b[1;33m(\u001b[0m\u001b[1;33m*\u001b[0m\u001b[0margs\u001b[0m\u001b[1;33m,\u001b[0m \u001b[1;33m**\u001b[0m\u001b[0mkwargs\u001b[0m\u001b[1;33m)\u001b[0m\u001b[1;33m\u001b[0m\u001b[1;33m\u001b[0m\u001b[0m\n\u001b[0m\u001b[0;32m    312\u001b[0m \u001b[1;33m\u001b[0m\u001b[0m\n\u001b[0;32m    313\u001b[0m         \u001b[1;32mreturn\u001b[0m \u001b[0mwrapper\u001b[0m\u001b[1;33m\u001b[0m\u001b[1;33m\u001b[0m\u001b[0m\n",
      "\u001b[1;32mD:\\ana\\envs\\tensorflowb\\lib\\site-packages\\pandas\\core\\frame.py\u001b[0m in \u001b[0;36mdrop\u001b[1;34m(self, labels, axis, index, columns, level, inplace, errors)\u001b[0m\n\u001b[0;32m   4904\u001b[0m                 \u001b[0mweight\u001b[0m  \u001b[1;36m1.0\u001b[0m     \u001b[1;36m0.8\u001b[0m\u001b[1;33m\u001b[0m\u001b[1;33m\u001b[0m\u001b[0m\n\u001b[0;32m   4905\u001b[0m         \"\"\"\n\u001b[1;32m-> 4906\u001b[1;33m         return super().drop(\n\u001b[0m\u001b[0;32m   4907\u001b[0m             \u001b[0mlabels\u001b[0m\u001b[1;33m=\u001b[0m\u001b[0mlabels\u001b[0m\u001b[1;33m,\u001b[0m\u001b[1;33m\u001b[0m\u001b[1;33m\u001b[0m\u001b[0m\n\u001b[0;32m   4908\u001b[0m             \u001b[0maxis\u001b[0m\u001b[1;33m=\u001b[0m\u001b[0maxis\u001b[0m\u001b[1;33m,\u001b[0m\u001b[1;33m\u001b[0m\u001b[1;33m\u001b[0m\u001b[0m\n",
      "\u001b[1;32mD:\\ana\\envs\\tensorflowb\\lib\\site-packages\\pandas\\core\\generic.py\u001b[0m in \u001b[0;36mdrop\u001b[1;34m(self, labels, axis, index, columns, level, inplace, errors)\u001b[0m\n\u001b[0;32m   4148\u001b[0m         \u001b[1;32mfor\u001b[0m \u001b[0maxis\u001b[0m\u001b[1;33m,\u001b[0m \u001b[0mlabels\u001b[0m \u001b[1;32min\u001b[0m \u001b[0maxes\u001b[0m\u001b[1;33m.\u001b[0m\u001b[0mitems\u001b[0m\u001b[1;33m(\u001b[0m\u001b[1;33m)\u001b[0m\u001b[1;33m:\u001b[0m\u001b[1;33m\u001b[0m\u001b[1;33m\u001b[0m\u001b[0m\n\u001b[0;32m   4149\u001b[0m             \u001b[1;32mif\u001b[0m \u001b[0mlabels\u001b[0m \u001b[1;32mis\u001b[0m \u001b[1;32mnot\u001b[0m \u001b[1;32mNone\u001b[0m\u001b[1;33m:\u001b[0m\u001b[1;33m\u001b[0m\u001b[1;33m\u001b[0m\u001b[0m\n\u001b[1;32m-> 4150\u001b[1;33m                 \u001b[0mobj\u001b[0m \u001b[1;33m=\u001b[0m \u001b[0mobj\u001b[0m\u001b[1;33m.\u001b[0m\u001b[0m_drop_axis\u001b[0m\u001b[1;33m(\u001b[0m\u001b[0mlabels\u001b[0m\u001b[1;33m,\u001b[0m \u001b[0maxis\u001b[0m\u001b[1;33m,\u001b[0m \u001b[0mlevel\u001b[0m\u001b[1;33m=\u001b[0m\u001b[0mlevel\u001b[0m\u001b[1;33m,\u001b[0m \u001b[0merrors\u001b[0m\u001b[1;33m=\u001b[0m\u001b[0merrors\u001b[0m\u001b[1;33m)\u001b[0m\u001b[1;33m\u001b[0m\u001b[1;33m\u001b[0m\u001b[0m\n\u001b[0m\u001b[0;32m   4151\u001b[0m \u001b[1;33m\u001b[0m\u001b[0m\n\u001b[0;32m   4152\u001b[0m         \u001b[1;32mif\u001b[0m \u001b[0minplace\u001b[0m\u001b[1;33m:\u001b[0m\u001b[1;33m\u001b[0m\u001b[1;33m\u001b[0m\u001b[0m\n",
      "\u001b[1;32mD:\\ana\\envs\\tensorflowb\\lib\\site-packages\\pandas\\core\\generic.py\u001b[0m in \u001b[0;36m_drop_axis\u001b[1;34m(self, labels, axis, level, errors)\u001b[0m\n\u001b[0;32m   4183\u001b[0m                 \u001b[0mnew_axis\u001b[0m \u001b[1;33m=\u001b[0m \u001b[0maxis\u001b[0m\u001b[1;33m.\u001b[0m\u001b[0mdrop\u001b[0m\u001b[1;33m(\u001b[0m\u001b[0mlabels\u001b[0m\u001b[1;33m,\u001b[0m \u001b[0mlevel\u001b[0m\u001b[1;33m=\u001b[0m\u001b[0mlevel\u001b[0m\u001b[1;33m,\u001b[0m \u001b[0merrors\u001b[0m\u001b[1;33m=\u001b[0m\u001b[0merrors\u001b[0m\u001b[1;33m)\u001b[0m\u001b[1;33m\u001b[0m\u001b[1;33m\u001b[0m\u001b[0m\n\u001b[0;32m   4184\u001b[0m             \u001b[1;32melse\u001b[0m\u001b[1;33m:\u001b[0m\u001b[1;33m\u001b[0m\u001b[1;33m\u001b[0m\u001b[0m\n\u001b[1;32m-> 4185\u001b[1;33m                 \u001b[0mnew_axis\u001b[0m \u001b[1;33m=\u001b[0m \u001b[0maxis\u001b[0m\u001b[1;33m.\u001b[0m\u001b[0mdrop\u001b[0m\u001b[1;33m(\u001b[0m\u001b[0mlabels\u001b[0m\u001b[1;33m,\u001b[0m \u001b[0merrors\u001b[0m\u001b[1;33m=\u001b[0m\u001b[0merrors\u001b[0m\u001b[1;33m)\u001b[0m\u001b[1;33m\u001b[0m\u001b[1;33m\u001b[0m\u001b[0m\n\u001b[0m\u001b[0;32m   4186\u001b[0m             \u001b[0mresult\u001b[0m \u001b[1;33m=\u001b[0m \u001b[0mself\u001b[0m\u001b[1;33m.\u001b[0m\u001b[0mreindex\u001b[0m\u001b[1;33m(\u001b[0m\u001b[1;33m**\u001b[0m\u001b[1;33m{\u001b[0m\u001b[0maxis_name\u001b[0m\u001b[1;33m:\u001b[0m \u001b[0mnew_axis\u001b[0m\u001b[1;33m}\u001b[0m\u001b[1;33m)\u001b[0m\u001b[1;33m\u001b[0m\u001b[1;33m\u001b[0m\u001b[0m\n\u001b[0;32m   4187\u001b[0m \u001b[1;33m\u001b[0m\u001b[0m\n",
      "\u001b[1;32mD:\\ana\\envs\\tensorflowb\\lib\\site-packages\\pandas\\core\\indexes\\base.py\u001b[0m in \u001b[0;36mdrop\u001b[1;34m(self, labels, errors)\u001b[0m\n\u001b[0;32m   6015\u001b[0m         \u001b[1;32mif\u001b[0m \u001b[0mmask\u001b[0m\u001b[1;33m.\u001b[0m\u001b[0many\u001b[0m\u001b[1;33m(\u001b[0m\u001b[1;33m)\u001b[0m\u001b[1;33m:\u001b[0m\u001b[1;33m\u001b[0m\u001b[1;33m\u001b[0m\u001b[0m\n\u001b[0;32m   6016\u001b[0m             \u001b[1;32mif\u001b[0m \u001b[0merrors\u001b[0m \u001b[1;33m!=\u001b[0m \u001b[1;34m\"ignore\"\u001b[0m\u001b[1;33m:\u001b[0m\u001b[1;33m\u001b[0m\u001b[1;33m\u001b[0m\u001b[0m\n\u001b[1;32m-> 6017\u001b[1;33m                 \u001b[1;32mraise\u001b[0m \u001b[0mKeyError\u001b[0m\u001b[1;33m(\u001b[0m\u001b[1;34mf\"{labels[mask]} not found in axis\"\u001b[0m\u001b[1;33m)\u001b[0m\u001b[1;33m\u001b[0m\u001b[1;33m\u001b[0m\u001b[0m\n\u001b[0m\u001b[0;32m   6018\u001b[0m             \u001b[0mindexer\u001b[0m \u001b[1;33m=\u001b[0m \u001b[0mindexer\u001b[0m\u001b[1;33m[\u001b[0m\u001b[1;33m~\u001b[0m\u001b[0mmask\u001b[0m\u001b[1;33m]\u001b[0m\u001b[1;33m\u001b[0m\u001b[1;33m\u001b[0m\u001b[0m\n\u001b[0;32m   6019\u001b[0m         \u001b[1;32mreturn\u001b[0m \u001b[0mself\u001b[0m\u001b[1;33m.\u001b[0m\u001b[0mdelete\u001b[0m\u001b[1;33m(\u001b[0m\u001b[0mindexer\u001b[0m\u001b[1;33m)\u001b[0m\u001b[1;33m\u001b[0m\u001b[1;33m\u001b[0m\u001b[0m\n",
      "\u001b[1;31mKeyError\u001b[0m: \"['Flow Duration'] not found in axis\""
     ]
    }
   ],
   "source": [
    "#labelt.drop('Label')\n",
    "print ( df.shape )\n",
    "#df.drop(\"Flow Duration\",axis=0,inplace=True)\n",
    "print ( df.shape )"
   ]
  },
  {
   "cell_type": "code",
   "execution_count": 70,
   "id": "1ba34ba4",
   "metadata": {},
   "outputs": [],
   "source": [
    "df=pd.read_csv(r\"E:\\学习心得\\data\\cic-ids2018\\02-03\\ptrain1.csv\")"
   ]
  },
  {
   "cell_type": "code",
   "execution_count": 82,
   "id": "3f0cfe60",
   "metadata": {},
   "outputs": [
    {
     "name": "stdout",
     "output_type": "stream",
     "text": [
      "(1222654, 80)\n",
      "(1222654, 80)\n",
      "RangeIndex(start=0, stop=1222654, step=1)\n",
      "0          False\n",
      "1          False\n",
      "2          False\n",
      "3          False\n",
      "4          False\n",
      "           ...  \n",
      "1222649     True\n",
      "1222650     True\n",
      "1222651     True\n",
      "1222652     True\n",
      "1222653     True\n",
      "Length: 1222654, dtype: bool\n",
      "(1222654, 80)\n",
      "0          False\n",
      "1          False\n",
      "2          False\n",
      "3          False\n",
      "4          False\n",
      "           ...  \n",
      "1222644    False\n",
      "1222645    False\n",
      "1222646    False\n",
      "1222647    False\n",
      "1222648    False\n",
      "Length: 1222649, dtype: bool\n"
     ]
    }
   ],
   "source": [
    "print ( df.shape)\n",
    "df1=df\n",
    "print ( df1.shape )\n",
    "print  (df.Protocol.isin(['Protocol']).index)\n",
    "print ( df.duplicated())\n",
    "#norepeat_df = df.drop_duplicates(subset=['Protocol'], keep='first')\n",
    "#去掉A_ID和B_ID列中重复的行，并保留重复出现的行中第一次出现的行\n",
    "#df.drop ( index=df['Timestamp'].isin([\"stamp\"]).index,axis=0,inplace=True)\n",
    "print ( df.shape )\n",
    "#labelt.drop(index=labelt.isin([\"Label\"]).index,axis=0,inplace=True)\n",
    "df2=df.drop ( index=[1222649,1222651,1222652,1222653,1222650],axis=0)\n",
    "#df1.unique()\n",
    "df2.value_counts(\"Label\")\n",
    "print ( df2.duplicated())"
   ]
  },
  {
   "cell_type": "code",
   "execution_count": 84,
   "id": "ffa845a3",
   "metadata": {},
   "outputs": [
    {
     "name": "stdout",
     "output_type": "stream",
     "text": [
      "0          False\n",
      "1          False\n",
      "2          False\n",
      "3          False\n",
      "4          False\n",
      "           ...  \n",
      "1222644    False\n",
      "1222645    False\n",
      "1222646    False\n",
      "1222647    False\n",
      "1222648    False\n",
      "Length: 1222649, dtype: bool\n"
     ]
    },
    {
     "data": {
      "text/plain": [
       "Label\n",
       "Benign                      901985\n",
       "DDOS attack-HOIC            100844\n",
       "DoS attacks-Hulk             67901\n",
       "Bot                          42070\n",
       "FTP-BruteForce               28424\n",
       "SSH-Bruteforce               27576\n",
       "Infilteration                25172\n",
       "DoS attacks-SlowHTTPTest     20564\n",
       "DoS attacks-GoldenEye         6101\n",
       "DoS attacks-Slowloris         1616\n",
       "DDOS attack-LOIC-UDP           254\n",
       "Brute Force -Web                90\n",
       "Brute Force -XSS                34\n",
       "SQL Injection                   13\n",
       "Label                            5\n",
       "dtype: int64"
      ]
     },
     "execution_count": 84,
     "metadata": {},
     "output_type": "execute_result"
    }
   ],
   "source": [
    "print ( df2.duplicated()==True)\n",
    "df2.value_counts(\"Label\")\n"
   ]
  },
  {
   "cell_type": "code",
   "execution_count": 86,
   "id": "ce86a743",
   "metadata": {},
   "outputs": [
    {
     "name": "stdout",
     "output_type": "stream",
     "text": [
      "(1222649, 80)\n",
      "(1174778, 80)\n"
     ]
    },
    {
     "data": {
      "text/plain": [
       "Label\n",
       "Benign                      900405\n",
       "DDOS attack-HOIC            100090\n",
       "DoS attacks-Hulk             66484\n",
       "Bot                          41887\n",
       "Infilteration                24996\n",
       "SSH-Bruteforce               20085\n",
       "FTP-BruteForce                8483\n",
       "DoS attacks-GoldenEye         6099\n",
       "DoS attacks-SlowHTTPTest      4311\n",
       "DoS attacks-Slowloris         1547\n",
       "DDOS attack-LOIC-UDP           254\n",
       "Brute Force -Web                90\n",
       "Brute Force -XSS                34\n",
       "SQL Injection                   13\n",
       "dtype: int64"
      ]
     },
     "execution_count": 86,
     "metadata": {},
     "output_type": "execute_result"
    }
   ],
   "source": [
    "print ( df2.shape )\n",
    "df3= df2.drop_duplicates( keep=False)\n",
    "print ( df3.shape)\n",
    "df3.value_counts(\"Label\")"
   ]
  },
  {
   "cell_type": "code",
   "execution_count": 87,
   "id": "e72b2b1b",
   "metadata": {},
   "outputs": [
    {
     "data": {
      "text/plain": [
       "array(['Benign', 'Bot', 'DoS attacks-Hulk', 'DoS attacks-SlowHTTPTest',\n",
       "       'Brute Force -Web', 'Brute Force -XSS', 'SQL Injection',\n",
       "       'Infilteration', 'DoS attacks-GoldenEye', 'DoS attacks-Slowloris',\n",
       "       'FTP-BruteForce', 'SSH-Bruteforce', 'DDOS attack-HOIC',\n",
       "       'DDOS attack-LOIC-UDP'], dtype=object)"
      ]
     },
     "execution_count": 87,
     "metadata": {},
     "output_type": "execute_result"
    }
   ],
   "source": [
    "df3['Label'].unique()"
   ]
  },
  {
   "cell_type": "code",
   "execution_count": 88,
   "id": "b16cff73",
   "metadata": {},
   "outputs": [
    {
     "name": "stdout",
     "output_type": "stream",
     "text": [
      "<class 'pandas.core.frame.DataFrame'>\n",
      "Int64Index: 1174778 entries, 0 to 1222648\n",
      "Data columns (total 80 columns):\n",
      " #   Column             Non-Null Count    Dtype \n",
      "---  ------             --------------    ----- \n",
      " 0   Dst Port           1174778 non-null  object\n",
      " 1   Protocol           1174778 non-null  object\n",
      " 2   Timestamp          1174778 non-null  object\n",
      " 3   Flow Duration      1174778 non-null  object\n",
      " 4   Tot Fwd Pkts       1174778 non-null  object\n",
      " 5   Tot Bwd Pkts       1174778 non-null  object\n",
      " 6   TotLen Fwd Pkts    1174778 non-null  object\n",
      " 7   TotLen Bwd Pkts    1174778 non-null  object\n",
      " 8   Fwd Pkt Len Max    1174778 non-null  object\n",
      " 9   Fwd Pkt Len Min    1174778 non-null  object\n",
      " 10  Fwd Pkt Len Mean   1174778 non-null  object\n",
      " 11  Fwd Pkt Len Std    1174778 non-null  object\n",
      " 12  Bwd Pkt Len Max    1174778 non-null  object\n",
      " 13  Bwd Pkt Len Min    1174778 non-null  object\n",
      " 14  Bwd Pkt Len Mean   1174778 non-null  object\n",
      " 15  Bwd Pkt Len Std    1174778 non-null  object\n",
      " 16  Flow Byts/s        1171505 non-null  object\n",
      " 17  Flow Pkts/s        1174778 non-null  object\n",
      " 18  Flow IAT Mean      1174778 non-null  object\n",
      " 19  Flow IAT Std       1174778 non-null  object\n",
      " 20  Flow IAT Max       1174778 non-null  object\n",
      " 21  Flow IAT Min       1174778 non-null  object\n",
      " 22  Fwd IAT Tot        1174778 non-null  object\n",
      " 23  Fwd IAT Mean       1174778 non-null  object\n",
      " 24  Fwd IAT Std        1174778 non-null  object\n",
      " 25  Fwd IAT Max        1174778 non-null  object\n",
      " 26  Fwd IAT Min        1174778 non-null  object\n",
      " 27  Bwd IAT Tot        1174778 non-null  object\n",
      " 28  Bwd IAT Mean       1174778 non-null  object\n",
      " 29  Bwd IAT Std        1174778 non-null  object\n",
      " 30  Bwd IAT Max        1174778 non-null  object\n",
      " 31  Bwd IAT Min        1174778 non-null  object\n",
      " 32  Fwd PSH Flags      1174778 non-null  object\n",
      " 33  Bwd PSH Flags      1174778 non-null  object\n",
      " 34  Fwd URG Flags      1174778 non-null  object\n",
      " 35  Bwd URG Flags      1174778 non-null  object\n",
      " 36  Fwd Header Len     1174778 non-null  object\n",
      " 37  Bwd Header Len     1174778 non-null  object\n",
      " 38  Fwd Pkts/s         1174778 non-null  object\n",
      " 39  Bwd Pkts/s         1174778 non-null  object\n",
      " 40  Pkt Len Min        1174778 non-null  object\n",
      " 41  Pkt Len Max        1174778 non-null  object\n",
      " 42  Pkt Len Mean       1174778 non-null  object\n",
      " 43  Pkt Len Std        1174778 non-null  object\n",
      " 44  Pkt Len Var        1174778 non-null  object\n",
      " 45  FIN Flag Cnt       1174778 non-null  object\n",
      " 46  SYN Flag Cnt       1174778 non-null  object\n",
      " 47  RST Flag Cnt       1174778 non-null  object\n",
      " 48  PSH Flag Cnt       1174778 non-null  object\n",
      " 49  ACK Flag Cnt       1174778 non-null  object\n",
      " 50  URG Flag Cnt       1174778 non-null  object\n",
      " 51  CWE Flag Count     1174778 non-null  object\n",
      " 52  ECE Flag Cnt       1174778 non-null  object\n",
      " 53  Down/Up Ratio      1174778 non-null  object\n",
      " 54  Pkt Size Avg       1174778 non-null  object\n",
      " 55  Fwd Seg Size Avg   1174778 non-null  object\n",
      " 56  Bwd Seg Size Avg   1174778 non-null  object\n",
      " 57  Fwd Byts/b Avg     1174778 non-null  object\n",
      " 58  Fwd Pkts/b Avg     1174778 non-null  object\n",
      " 59  Fwd Blk Rate Avg   1174778 non-null  object\n",
      " 60  Bwd Byts/b Avg     1174778 non-null  object\n",
      " 61  Bwd Pkts/b Avg     1174778 non-null  object\n",
      " 62  Bwd Blk Rate Avg   1174778 non-null  object\n",
      " 63  Subflow Fwd Pkts   1174778 non-null  object\n",
      " 64  Subflow Fwd Byts   1174778 non-null  object\n",
      " 65  Subflow Bwd Pkts   1174778 non-null  object\n",
      " 66  Subflow Bwd Byts   1174778 non-null  object\n",
      " 67  Init Fwd Win Byts  1174778 non-null  object\n",
      " 68  Init Bwd Win Byts  1174778 non-null  object\n",
      " 69  Fwd Act Data Pkts  1174778 non-null  object\n",
      " 70  Fwd Seg Size Min   1174778 non-null  object\n",
      " 71  Active Mean        1174778 non-null  object\n",
      " 72  Active Std         1174778 non-null  object\n",
      " 73  Active Max         1174778 non-null  object\n",
      " 74  Active Min         1174778 non-null  object\n",
      " 75  Idle Mean          1174778 non-null  object\n",
      " 76  Idle Std           1174778 non-null  object\n",
      " 77  Idle Max           1174778 non-null  object\n",
      " 78  Idle Min           1174778 non-null  object\n",
      " 79  Label              1174778 non-null  object\n",
      "dtypes: object(80)\n",
      "memory usage: 726.0+ MB\n"
     ]
    }
   ],
   "source": [
    "df3.info()"
   ]
  },
  {
   "cell_type": "code",
   "execution_count": 89,
   "id": "99e748bd",
   "metadata": {},
   "outputs": [
    {
     "data": {
      "text/plain": [
       "Dst Port         object\n",
       "Protocol         object\n",
       "Timestamp        object\n",
       "Flow Duration    object\n",
       "Tot Fwd Pkts     object\n",
       "                  ...  \n",
       "Idle Mean        object\n",
       "Idle Std         object\n",
       "Idle Max         object\n",
       "Idle Min         object\n",
       "Label            object\n",
       "Length: 80, dtype: object"
      ]
     },
     "execution_count": 89,
     "metadata": {},
     "output_type": "execute_result"
    }
   ],
   "source": [
    "df2.dtypes"
   ]
  },
  {
   "cell_type": "code",
   "execution_count": 93,
   "id": "46103d92",
   "metadata": {},
   "outputs": [
    {
     "data": {
      "text/plain": [
       "Label\n",
       "Benign                      900405\n",
       "DDOS attack-HOIC            100090\n",
       "DoS attacks-Hulk             66484\n",
       "Bot                          41887\n",
       "Infilteration                24996\n",
       "SSH-Bruteforce               20085\n",
       "FTP-BruteForce                8483\n",
       "DoS attacks-GoldenEye         6099\n",
       "DoS attacks-SlowHTTPTest      4311\n",
       "DoS attacks-Slowloris         1547\n",
       "DDOS attack-LOIC-UDP           254\n",
       "Brute Force -Web                90\n",
       "Brute Force -XSS                34\n",
       "SQL Injection                   13\n",
       "dtype: int64"
      ]
     },
     "execution_count": 93,
     "metadata": {},
     "output_type": "execute_result"
    }
   ],
   "source": [
    "df3.value_counts(\"Label\")"
   ]
  },
  {
   "cell_type": "code",
   "execution_count": 95,
   "id": "267ff252",
   "metadata": {},
   "outputs": [
    {
     "ename": "KeyError",
     "evalue": "\"['Timestamp'] not found in axis\"",
     "output_type": "error",
     "traceback": [
      "\u001b[1;31m---------------------------------------------------------------------------\u001b[0m",
      "\u001b[1;31mKeyError\u001b[0m                                  Traceback (most recent call last)",
      "\u001b[1;32m~\\AppData\\Local\\Temp/ipykernel_9280/3679611304.py\u001b[0m in \u001b[0;36m<module>\u001b[1;34m\u001b[0m\n\u001b[1;32m----> 1\u001b[1;33m \u001b[0mdf4\u001b[0m\u001b[1;33m=\u001b[0m\u001b[0mdf3\u001b[0m\u001b[1;33m.\u001b[0m\u001b[0mdrop\u001b[0m\u001b[1;33m(\u001b[0m\u001b[1;34m'Timestamp'\u001b[0m\u001b[1;33m,\u001b[0m\u001b[0maxis\u001b[0m\u001b[1;33m=\u001b[0m\u001b[1;36m1\u001b[0m\u001b[1;33m)\u001b[0m\u001b[1;33m\u001b[0m\u001b[1;33m\u001b[0m\u001b[0m\n\u001b[0m",
      "\u001b[1;32mD:\\ana\\envs\\tensorflowb\\lib\\site-packages\\pandas\\util\\_decorators.py\u001b[0m in \u001b[0;36mwrapper\u001b[1;34m(*args, **kwargs)\u001b[0m\n\u001b[0;32m    309\u001b[0m                     \u001b[0mstacklevel\u001b[0m\u001b[1;33m=\u001b[0m\u001b[0mstacklevel\u001b[0m\u001b[1;33m,\u001b[0m\u001b[1;33m\u001b[0m\u001b[1;33m\u001b[0m\u001b[0m\n\u001b[0;32m    310\u001b[0m                 )\n\u001b[1;32m--> 311\u001b[1;33m             \u001b[1;32mreturn\u001b[0m \u001b[0mfunc\u001b[0m\u001b[1;33m(\u001b[0m\u001b[1;33m*\u001b[0m\u001b[0margs\u001b[0m\u001b[1;33m,\u001b[0m \u001b[1;33m**\u001b[0m\u001b[0mkwargs\u001b[0m\u001b[1;33m)\u001b[0m\u001b[1;33m\u001b[0m\u001b[1;33m\u001b[0m\u001b[0m\n\u001b[0m\u001b[0;32m    312\u001b[0m \u001b[1;33m\u001b[0m\u001b[0m\n\u001b[0;32m    313\u001b[0m         \u001b[1;32mreturn\u001b[0m \u001b[0mwrapper\u001b[0m\u001b[1;33m\u001b[0m\u001b[1;33m\u001b[0m\u001b[0m\n",
      "\u001b[1;32mD:\\ana\\envs\\tensorflowb\\lib\\site-packages\\pandas\\core\\frame.py\u001b[0m in \u001b[0;36mdrop\u001b[1;34m(self, labels, axis, index, columns, level, inplace, errors)\u001b[0m\n\u001b[0;32m   4904\u001b[0m                 \u001b[0mweight\u001b[0m  \u001b[1;36m1.0\u001b[0m     \u001b[1;36m0.8\u001b[0m\u001b[1;33m\u001b[0m\u001b[1;33m\u001b[0m\u001b[0m\n\u001b[0;32m   4905\u001b[0m         \"\"\"\n\u001b[1;32m-> 4906\u001b[1;33m         return super().drop(\n\u001b[0m\u001b[0;32m   4907\u001b[0m             \u001b[0mlabels\u001b[0m\u001b[1;33m=\u001b[0m\u001b[0mlabels\u001b[0m\u001b[1;33m,\u001b[0m\u001b[1;33m\u001b[0m\u001b[1;33m\u001b[0m\u001b[0m\n\u001b[0;32m   4908\u001b[0m             \u001b[0maxis\u001b[0m\u001b[1;33m=\u001b[0m\u001b[0maxis\u001b[0m\u001b[1;33m,\u001b[0m\u001b[1;33m\u001b[0m\u001b[1;33m\u001b[0m\u001b[0m\n",
      "\u001b[1;32mD:\\ana\\envs\\tensorflowb\\lib\\site-packages\\pandas\\core\\generic.py\u001b[0m in \u001b[0;36mdrop\u001b[1;34m(self, labels, axis, index, columns, level, inplace, errors)\u001b[0m\n\u001b[0;32m   4148\u001b[0m         \u001b[1;32mfor\u001b[0m \u001b[0maxis\u001b[0m\u001b[1;33m,\u001b[0m \u001b[0mlabels\u001b[0m \u001b[1;32min\u001b[0m \u001b[0maxes\u001b[0m\u001b[1;33m.\u001b[0m\u001b[0mitems\u001b[0m\u001b[1;33m(\u001b[0m\u001b[1;33m)\u001b[0m\u001b[1;33m:\u001b[0m\u001b[1;33m\u001b[0m\u001b[1;33m\u001b[0m\u001b[0m\n\u001b[0;32m   4149\u001b[0m             \u001b[1;32mif\u001b[0m \u001b[0mlabels\u001b[0m \u001b[1;32mis\u001b[0m \u001b[1;32mnot\u001b[0m \u001b[1;32mNone\u001b[0m\u001b[1;33m:\u001b[0m\u001b[1;33m\u001b[0m\u001b[1;33m\u001b[0m\u001b[0m\n\u001b[1;32m-> 4150\u001b[1;33m                 \u001b[0mobj\u001b[0m \u001b[1;33m=\u001b[0m \u001b[0mobj\u001b[0m\u001b[1;33m.\u001b[0m\u001b[0m_drop_axis\u001b[0m\u001b[1;33m(\u001b[0m\u001b[0mlabels\u001b[0m\u001b[1;33m,\u001b[0m \u001b[0maxis\u001b[0m\u001b[1;33m,\u001b[0m \u001b[0mlevel\u001b[0m\u001b[1;33m=\u001b[0m\u001b[0mlevel\u001b[0m\u001b[1;33m,\u001b[0m \u001b[0merrors\u001b[0m\u001b[1;33m=\u001b[0m\u001b[0merrors\u001b[0m\u001b[1;33m)\u001b[0m\u001b[1;33m\u001b[0m\u001b[1;33m\u001b[0m\u001b[0m\n\u001b[0m\u001b[0;32m   4151\u001b[0m \u001b[1;33m\u001b[0m\u001b[0m\n\u001b[0;32m   4152\u001b[0m         \u001b[1;32mif\u001b[0m \u001b[0minplace\u001b[0m\u001b[1;33m:\u001b[0m\u001b[1;33m\u001b[0m\u001b[1;33m\u001b[0m\u001b[0m\n",
      "\u001b[1;32mD:\\ana\\envs\\tensorflowb\\lib\\site-packages\\pandas\\core\\generic.py\u001b[0m in \u001b[0;36m_drop_axis\u001b[1;34m(self, labels, axis, level, errors)\u001b[0m\n\u001b[0;32m   4183\u001b[0m                 \u001b[0mnew_axis\u001b[0m \u001b[1;33m=\u001b[0m \u001b[0maxis\u001b[0m\u001b[1;33m.\u001b[0m\u001b[0mdrop\u001b[0m\u001b[1;33m(\u001b[0m\u001b[0mlabels\u001b[0m\u001b[1;33m,\u001b[0m \u001b[0mlevel\u001b[0m\u001b[1;33m=\u001b[0m\u001b[0mlevel\u001b[0m\u001b[1;33m,\u001b[0m \u001b[0merrors\u001b[0m\u001b[1;33m=\u001b[0m\u001b[0merrors\u001b[0m\u001b[1;33m)\u001b[0m\u001b[1;33m\u001b[0m\u001b[1;33m\u001b[0m\u001b[0m\n\u001b[0;32m   4184\u001b[0m             \u001b[1;32melse\u001b[0m\u001b[1;33m:\u001b[0m\u001b[1;33m\u001b[0m\u001b[1;33m\u001b[0m\u001b[0m\n\u001b[1;32m-> 4185\u001b[1;33m                 \u001b[0mnew_axis\u001b[0m \u001b[1;33m=\u001b[0m \u001b[0maxis\u001b[0m\u001b[1;33m.\u001b[0m\u001b[0mdrop\u001b[0m\u001b[1;33m(\u001b[0m\u001b[0mlabels\u001b[0m\u001b[1;33m,\u001b[0m \u001b[0merrors\u001b[0m\u001b[1;33m=\u001b[0m\u001b[0merrors\u001b[0m\u001b[1;33m)\u001b[0m\u001b[1;33m\u001b[0m\u001b[1;33m\u001b[0m\u001b[0m\n\u001b[0m\u001b[0;32m   4186\u001b[0m             \u001b[0mresult\u001b[0m \u001b[1;33m=\u001b[0m \u001b[0mself\u001b[0m\u001b[1;33m.\u001b[0m\u001b[0mreindex\u001b[0m\u001b[1;33m(\u001b[0m\u001b[1;33m**\u001b[0m\u001b[1;33m{\u001b[0m\u001b[0maxis_name\u001b[0m\u001b[1;33m:\u001b[0m \u001b[0mnew_axis\u001b[0m\u001b[1;33m}\u001b[0m\u001b[1;33m)\u001b[0m\u001b[1;33m\u001b[0m\u001b[1;33m\u001b[0m\u001b[0m\n\u001b[0;32m   4187\u001b[0m \u001b[1;33m\u001b[0m\u001b[0m\n",
      "\u001b[1;32mD:\\ana\\envs\\tensorflowb\\lib\\site-packages\\pandas\\core\\indexes\\base.py\u001b[0m in \u001b[0;36mdrop\u001b[1;34m(self, labels, errors)\u001b[0m\n\u001b[0;32m   6015\u001b[0m         \u001b[1;32mif\u001b[0m \u001b[0mmask\u001b[0m\u001b[1;33m.\u001b[0m\u001b[0many\u001b[0m\u001b[1;33m(\u001b[0m\u001b[1;33m)\u001b[0m\u001b[1;33m:\u001b[0m\u001b[1;33m\u001b[0m\u001b[1;33m\u001b[0m\u001b[0m\n\u001b[0;32m   6016\u001b[0m             \u001b[1;32mif\u001b[0m \u001b[0merrors\u001b[0m \u001b[1;33m!=\u001b[0m \u001b[1;34m\"ignore\"\u001b[0m\u001b[1;33m:\u001b[0m\u001b[1;33m\u001b[0m\u001b[1;33m\u001b[0m\u001b[0m\n\u001b[1;32m-> 6017\u001b[1;33m                 \u001b[1;32mraise\u001b[0m \u001b[0mKeyError\u001b[0m\u001b[1;33m(\u001b[0m\u001b[1;34mf\"{labels[mask]} not found in axis\"\u001b[0m\u001b[1;33m)\u001b[0m\u001b[1;33m\u001b[0m\u001b[1;33m\u001b[0m\u001b[0m\n\u001b[0m\u001b[0;32m   6018\u001b[0m             \u001b[0mindexer\u001b[0m \u001b[1;33m=\u001b[0m \u001b[0mindexer\u001b[0m\u001b[1;33m[\u001b[0m\u001b[1;33m~\u001b[0m\u001b[0mmask\u001b[0m\u001b[1;33m]\u001b[0m\u001b[1;33m\u001b[0m\u001b[1;33m\u001b[0m\u001b[0m\n\u001b[0;32m   6019\u001b[0m         \u001b[1;32mreturn\u001b[0m \u001b[0mself\u001b[0m\u001b[1;33m.\u001b[0m\u001b[0mdelete\u001b[0m\u001b[1;33m(\u001b[0m\u001b[0mindexer\u001b[0m\u001b[1;33m)\u001b[0m\u001b[1;33m\u001b[0m\u001b[1;33m\u001b[0m\u001b[0m\n",
      "\u001b[1;31mKeyError\u001b[0m: \"['Timestamp'] not found in axis\""
     ]
    }
   ],
   "source": [
    "df4=df3.drop('Timestamp',axis=1)"
   ]
  },
  {
   "cell_type": "code",
   "execution_count": 96,
   "id": "4b1595e4",
   "metadata": {},
   "outputs": [
    {
     "name": "stderr",
     "output_type": "stream",
     "text": [
      "C:\\Users\\44742\\AppData\\Local\\Temp/ipykernel_9280/4029331248.py:1: SettingWithCopyWarning: \n",
      "A value is trying to be set on a copy of a slice from a DataFrame.\n",
      "Try using .loc[row_indexer,col_indexer] = value instead\n",
      "\n",
      "See the caveats in the documentation: https://pandas.pydata.org/pandas-docs/stable/user_guide/indexing.html#returning-a-view-versus-a-copy\n",
      "  df3['Flow Pkts/s']= df3['Flow Pkts/s'].fillna(0)  # removing NAN and INF values\n",
      "C:\\Users\\44742\\AppData\\Local\\Temp/ipykernel_9280/4029331248.py:2: SettingWithCopyWarning: \n",
      "A value is trying to be set on a copy of a slice from a DataFrame.\n",
      "Try using .loc[row_indexer,col_indexer] = value instead\n",
      "\n",
      "See the caveats in the documentation: https://pandas.pydata.org/pandas-docs/stable/user_guide/indexing.html#returning-a-view-versus-a-copy\n",
      "  df3['Flow Byts/s']= df3['Flow Byts/s'].fillna(0)\n",
      "C:\\Users\\44742\\AppData\\Local\\Temp/ipykernel_9280/4029331248.py:3: SettingWithCopyWarning: \n",
      "A value is trying to be set on a copy of a slice from a DataFrame.\n",
      "Try using .loc[row_indexer,col_indexer] = value instead\n",
      "\n",
      "See the caveats in the documentation: https://pandas.pydata.org/pandas-docs/stable/user_guide/indexing.html#returning-a-view-versus-a-copy\n",
      "  df3['Flow Pkts/s']= df3['Flow Pkts/s'].replace(np.Infinity,1)\n",
      "C:\\Users\\44742\\AppData\\Local\\Temp/ipykernel_9280/4029331248.py:4: SettingWithCopyWarning: \n",
      "A value is trying to be set on a copy of a slice from a DataFrame.\n",
      "Try using .loc[row_indexer,col_indexer] = value instead\n",
      "\n",
      "See the caveats in the documentation: https://pandas.pydata.org/pandas-docs/stable/user_guide/indexing.html#returning-a-view-versus-a-copy\n",
      "  df3['Flow Byts/s']= df3['Flow Byts/s'].replace(np.Infinity,1)\n"
     ]
    }
   ],
   "source": [
    "df3['Flow Pkts/s']= df3['Flow Pkts/s'].fillna(0)  # removing NAN and INF values\n",
    "df3['Flow Byts/s']= df3['Flow Byts/s'].fillna(0)\n",
    "df3['Flow Pkts/s']= df3['Flow Pkts/s'].replace(np.Infinity,1)\n",
    "df3['Flow Byts/s']= df3['Flow Byts/s'].replace(np.Infinity,1)"
   ]
  },
  {
   "cell_type": "code",
   "execution_count": 97,
   "id": "4e765a5c",
   "metadata": {},
   "outputs": [
    {
     "data": {
      "text/plain": [
       "(1174778, 79)"
      ]
     },
     "execution_count": 97,
     "metadata": {},
     "output_type": "execute_result"
    }
   ],
   "source": [
    "df3.shape"
   ]
  },
  {
   "cell_type": "code",
   "execution_count": 98,
   "id": "67b55887",
   "metadata": {},
   "outputs": [
    {
     "data": {
      "text/plain": [
       "(1174778, 77)"
      ]
     },
     "execution_count": 98,
     "metadata": {},
     "output_type": "execute_result"
    }
   ],
   "source": [
    "df3.drop('Protocol',axis=1,inplace=True)\n",
    "df3.drop('Dst Port',axis=1,inplace=True)\n",
    "df3.shape"
   ]
  },
  {
   "cell_type": "code",
   "execution_count": 99,
   "id": "cc5a3558",
   "metadata": {},
   "outputs": [
    {
     "data": {
      "text/plain": [
       "(1174778,)"
      ]
     },
     "execution_count": 99,
     "metadata": {},
     "output_type": "execute_result"
    }
   ],
   "source": [
    "labelt = df3.Label.copy()\n",
    "labelt.shape"
   ]
  },
  {
   "cell_type": "code",
   "execution_count": 100,
   "id": "5e35db4c",
   "metadata": {},
   "outputs": [
    {
     "name": "stdout",
     "output_type": "stream",
     "text": [
      "Benign                      900405\n",
      "DDOS attack-HOIC            100090\n",
      "DoS attacks-Hulk             66484\n",
      "Bot                          41887\n",
      "Infilteration                24996\n",
      "SSH-Bruteforce               20085\n",
      "FTP-BruteForce                8483\n",
      "DoS attacks-GoldenEye         6099\n",
      "DoS attacks-SlowHTTPTest      4311\n",
      "DoS attacks-Slowloris         1547\n",
      "DDOS attack-LOIC-UDP           254\n",
      "Brute Force -Web                90\n",
      "Brute Force -XSS                34\n",
      "SQL Injection                   13\n",
      "Name: Label, dtype: int64\n",
      "['Benign' 'Benign' 'Benign' ... 'Infilteration' 'Infilteration'\n",
      " 'Infilteration']\n",
      "[[1. 0. 0. ... 0. 0. 0.]\n",
      " [1. 0. 0. ... 0. 0. 0.]\n",
      " [1. 0. 0. ... 0. 0. 0.]\n",
      " ...\n",
      " [0. 0. 0. ... 1. 0. 0.]\n",
      " [0. 0. 0. ... 1. 0. 0.]\n",
      " [0. 0. 0. ... 1. 0. 0.]]\n"
     ]
    }
   ],
   "source": [
    "print ( labelt.value_counts())\n",
    "arrs=labelt.values\n",
    "d1=np.array(arrs)\n",
    "values = array(d1)\n",
    "print(values)\n",
    "# integer encode\n",
    "label_encoder = LabelEncoder()\n",
    "integer_encoded = label_encoder.fit_transform(values)\n",
    "data3 = pd.DataFrame(integer_encoded) # header:原第一行的索引，index:原第一列的索引\n",
    "#data3.to_csv(r\"E:\\学习心得\\data\\cic-ids2018\\28-02\\28pl1.csv\",header=None,index=0)\n",
    "# # binary encode\n",
    "onehot_encoder = OneHotEncoder(sparse=False)\n",
    "integer_encoded = integer_encoded.reshape(len(integer_encoded), 1)\n",
    "onehot_encoded = onehot_encoder.fit_transform(integer_encoded)\n",
    "print(onehot_encoded)\n",
    "data4 = pd.DataFrame(onehot_encoded) # header:原第一行的索引，index:原第一列的索引\n",
    "data4.to_csv(r\"E:\\学习心得\\data\\cic-ids2018\\02-03\\ptrain1\\train_label.csv\",header=None,index=0)"
   ]
  },
  {
   "cell_type": "code",
   "execution_count": 104,
   "id": "ed0b587e",
   "metadata": {},
   "outputs": [
    {
     "name": "stdout",
     "output_type": "stream",
     "text": [
      "(1174778, 76)\n",
      "(1174778, 76)\n"
     ]
    }
   ],
   "source": [
    "print ( df3.shape)\n",
    "#df3.drop('Label',axis=1,inplace=True)\n",
    "print ( df3.shape)\n",
    "#print ( df4.shape )"
   ]
  },
  {
   "cell_type": "code",
   "execution_count": 102,
   "id": "315d6086",
   "metadata": {},
   "outputs": [],
   "source": [
    "df3.to_csv(r\"E:\\学习心得\\data\\cic-ids2018\\02-03\\ptrain1\\ptrain_1.csv\",header=None,index=0)"
   ]
  },
  {
   "cell_type": "code",
   "execution_count": 105,
   "id": "3751f022",
   "metadata": {},
   "outputs": [
    {
     "name": "stderr",
     "output_type": "stream",
     "text": [
      "D:\\ana\\envs\\tensorflowb\\lib\\site-packages\\IPython\\core\\interactiveshell.py:3444: DtypeWarning: Columns (0,1,3,4,5,6,7,8,9,10,11,12,13,14,15,16,17,18,19,20,21,22,23,24,25,26,27,28,29,30,31,32,33,34,35,36,37,38,39,40,41,42,43,44,45,46,47,48,49,50,51,52,53,54,55,56,57,58,59,60,61,62,63,64,65,66,67,68,69,70,71,72,73,74,75,76,77,78) have mixed types.Specify dtype option on import or set low_memory=False.\n",
      "  exec(code_obj, self.user_global_ns, self.user_ns)\n"
     ]
    },
    {
     "name": "stdout",
     "output_type": "stream",
     "text": [
      "(523996, 80)\n",
      "(523996, 77)\n",
      "(384777, 77)\n",
      "Label\n",
      "Benign                      322329\n",
      "DDOS attack-HOIC             18648\n",
      "DoS attacks-Hulk             16566\n",
      "Bot                           9241\n",
      "Infilteration                 8608\n",
      "SSH-Bruteforce                5944\n",
      "DoS attacks-GoldenEye         2615\n",
      "DoS attacks-Slowloris          649\n",
      "DDOS attack-LOIC-UDP           109\n",
      "Brute Force -Web                39\n",
      "Brute Force -XSS                14\n",
      "FTP-BruteForce                   6\n",
      "SQL Injection                    5\n",
      "DoS attacks-SlowHTTPTest         4\n",
      "dtype: int64\n"
     ]
    }
   ],
   "source": [
    "df=pd.read_csv(r\"E:\\学习心得\\data\\cic-ids2018\\02-03\\ptest1.csv\")\n",
    "print ( df.shape)        \n",
    "df.drop('Protocol',axis=1,inplace=True)\n",
    "df.drop('Dst Port',axis=1,inplace=True)\n",
    "df.drop('Timestamp',axis=1,inplace=True)\n",
    "df['Flow Pkts/s']= df['Flow Pkts/s'].fillna(0)  # removing NAN and INF values\n",
    "df['Flow Byts/s']= df['Flow Byts/s'].fillna(0)\n",
    "df['Flow Pkts/s']= df['Flow Pkts/s'].replace(np.Infinity,1)\n",
    "df['Flow Byts/s']= df['Flow Byts/s'].replace(np.Infinity,1)\n",
    "print ( df.shape )\n",
    "df3= df.drop_duplicates( keep=False)\n",
    "print ( df3.shape )\n",
    "print ( df3.value_counts(\"Label\"))"
   ]
  },
  {
   "cell_type": "code",
   "execution_count": 106,
   "id": "17c59ea9",
   "metadata": {},
   "outputs": [
    {
     "data": {
      "text/plain": [
       "(384777,)"
      ]
     },
     "execution_count": 106,
     "metadata": {},
     "output_type": "execute_result"
    }
   ],
   "source": [
    "labelt = df3.Label.copy()\n",
    "labelt.shape"
   ]
  },
  {
   "cell_type": "code",
   "execution_count": 107,
   "id": "1f08e8a5",
   "metadata": {},
   "outputs": [
    {
     "name": "stdout",
     "output_type": "stream",
     "text": [
      "Benign                      322329\n",
      "DDOS attack-HOIC             18648\n",
      "DoS attacks-Hulk             16566\n",
      "Bot                           9241\n",
      "Infilteration                 8608\n",
      "SSH-Bruteforce                5944\n",
      "DoS attacks-GoldenEye         2615\n",
      "DoS attacks-Slowloris          649\n",
      "DDOS attack-LOIC-UDP           109\n",
      "Brute Force -Web                39\n",
      "Brute Force -XSS                14\n",
      "FTP-BruteForce                   6\n",
      "SQL Injection                    5\n",
      "DoS attacks-SlowHTTPTest         4\n",
      "Name: Label, dtype: int64\n",
      "['Benign' 'Benign' 'Benign' ... 'Infilteration' 'Infilteration'\n",
      " 'Infilteration']\n",
      "[[1. 0. 0. ... 0. 0. 0.]\n",
      " [1. 0. 0. ... 0. 0. 0.]\n",
      " [1. 0. 0. ... 0. 0. 0.]\n",
      " ...\n",
      " [0. 0. 0. ... 1. 0. 0.]\n",
      " [0. 0. 0. ... 1. 0. 0.]\n",
      " [0. 0. 0. ... 1. 0. 0.]]\n"
     ]
    }
   ],
   "source": [
    "print ( labelt.value_counts())\n",
    "arrs=labelt.values\n",
    "d1=np.array(arrs)\n",
    "values = array(d1)\n",
    "print(values)\n",
    "# integer encode\n",
    "label_encoder = LabelEncoder()\n",
    "integer_encoded = label_encoder.fit_transform(values)\n",
    "data3 = pd.DataFrame(integer_encoded) # header:原第一行的索引，index:原第一列的索引\n",
    "data3.to_csv(r\"E:\\学习心得\\data\\cic-ids2018\\02-03\\ptest1\\test_label1.csv\",header=None,index=0)\n",
    "# # binary encode\n",
    "onehot_encoder = OneHotEncoder(sparse=False)\n",
    "integer_encoded = integer_encoded.reshape(len(integer_encoded), 1)\n",
    "onehot_encoded = onehot_encoder.fit_transform(integer_encoded)\n",
    "print(onehot_encoded)\n",
    "data4 = pd.DataFrame(onehot_encoded) # header:原第一行的索引，index:原第一列的索引\n",
    "data4.to_csv(r\"E:\\学习心得\\data\\cic-ids2018\\02-03\\ptest1\\tset_label.csv\",header=None,index=0)"
   ]
  },
  {
   "cell_type": "code",
   "execution_count": 108,
   "id": "3faece11",
   "metadata": {},
   "outputs": [],
   "source": [
    "df3.to_csv(r\"E:\\学习心得\\data\\cic-ids2018\\02-03\\ptest1\\ptest_1.csv\",header=None,index=0)"
   ]
  },
  {
   "cell_type": "code",
   "execution_count": 109,
   "id": "7a4a1695",
   "metadata": {},
   "outputs": [
    {
     "name": "stderr",
     "output_type": "stream",
     "text": [
      "D:\\ana\\envs\\tensorflowb\\lib\\site-packages\\IPython\\core\\interactiveshell.py:3444: DtypeWarning: Columns (0,1,3,4,5,6,7,8,9,10,11,12,13,14,15,16,17,18,19,20,21,22,23,24,25,26,27,28,29,30,31,32,33,34,35,36,37,38,39,40,41,42,43,44,45,46,47,48,49,50,51,52,53,54,55,56,57,58,59,60,61,62,63,64,65,66,67,68,69,70,71,72,73,74,75,76,77,78) have mixed types.Specify dtype option on import or set low_memory=False.\n",
      "  exec(code_obj, self.user_global_ns, self.user_ns)\n"
     ]
    },
    {
     "name": "stdout",
     "output_type": "stream",
     "text": [
      "(748562, 80)\n",
      "(748562, 77)\n",
      "(534416, 77)\n",
      "Label\n",
      "Benign                      451401\n",
      "DDOS attack-HOIC             23358\n",
      "DoS attacks-Hulk             20996\n",
      "Bot                          13021\n",
      "Infilteration                12228\n",
      "SSH-Bruteforce                8514\n",
      "DoS attacks-GoldenEye         3732\n",
      "DoS attacks-Slowloris          916\n",
      "DDOS attack-LOIC-UDP           156\n",
      "Brute Force -Web                55\n",
      "Brute Force -XSS                19\n",
      "DoS attacks-SlowHTTPTest         8\n",
      "SQL Injection                    8\n",
      "FTP-BruteForce                   4\n",
      "dtype: int64\n"
     ]
    }
   ],
   "source": [
    "df=pd.read_csv(r\"E:\\学习心得\\data\\cic-ids2018\\02-03\\pva1.csv\")\n",
    "print ( df.shape)        \n",
    "df.drop('Protocol',axis=1,inplace=True)\n",
    "df.drop('Dst Port',axis=1,inplace=True)\n",
    "df.drop('Timestamp',axis=1,inplace=True)\n",
    "df['Flow Pkts/s']= df['Flow Pkts/s'].fillna(0)  # removing NAN and INF values\n",
    "df['Flow Byts/s']= df['Flow Byts/s'].fillna(0)\n",
    "df['Flow Pkts/s']= df['Flow Pkts/s'].replace(np.Infinity,1)\n",
    "df['Flow Byts/s']= df['Flow Byts/s'].replace(np.Infinity,1)\n",
    "print ( df.shape )\n",
    "df3= df.drop_duplicates( keep=False)\n",
    "print ( df3.shape )\n",
    "print ( df3.value_counts(\"Label\"))"
   ]
  },
  {
   "cell_type": "code",
   "execution_count": 110,
   "id": "984eca2b",
   "metadata": {},
   "outputs": [
    {
     "data": {
      "text/plain": [
       "(534416,)"
      ]
     },
     "execution_count": 110,
     "metadata": {},
     "output_type": "execute_result"
    }
   ],
   "source": [
    "labelt = df3.Label.copy()\n",
    "labelt.shape"
   ]
  },
  {
   "cell_type": "code",
   "execution_count": 111,
   "id": "3d723966",
   "metadata": {},
   "outputs": [
    {
     "name": "stdout",
     "output_type": "stream",
     "text": [
      "Benign                      451401\n",
      "DDOS attack-HOIC             23358\n",
      "DoS attacks-Hulk             20996\n",
      "Bot                          13021\n",
      "Infilteration                12228\n",
      "SSH-Bruteforce                8514\n",
      "DoS attacks-GoldenEye         3732\n",
      "DoS attacks-Slowloris          916\n",
      "DDOS attack-LOIC-UDP           156\n",
      "Brute Force -Web                55\n",
      "Brute Force -XSS                19\n",
      "DoS attacks-SlowHTTPTest         8\n",
      "SQL Injection                    8\n",
      "FTP-BruteForce                   4\n",
      "Name: Label, dtype: int64\n",
      "['Benign' 'Benign' 'Benign' ... 'Infilteration' 'Infilteration'\n",
      " 'Infilteration']\n",
      "[[1. 0. 0. ... 0. 0. 0.]\n",
      " [1. 0. 0. ... 0. 0. 0.]\n",
      " [1. 0. 0. ... 0. 0. 0.]\n",
      " ...\n",
      " [0. 0. 0. ... 1. 0. 0.]\n",
      " [0. 0. 0. ... 1. 0. 0.]\n",
      " [0. 0. 0. ... 1. 0. 0.]]\n"
     ]
    }
   ],
   "source": [
    "print ( labelt.value_counts())\n",
    "arrs=labelt.values\n",
    "d1=np.array(arrs)\n",
    "values = array(d1)\n",
    "print(values)\n",
    "# integer encode\n",
    "label_encoder = LabelEncoder()\n",
    "integer_encoded = label_encoder.fit_transform(values)\n",
    "data3 = pd.DataFrame(integer_encoded) # header:原第一行的索引，index:原第一列的索引\n",
    "data3.to_csv(r\"E:\\学习心得\\data\\cic-ids2018\\02-03\\pva1\\pva_label1.csv\",header=None,index=0)\n",
    "# # binary encode\n",
    "onehot_encoder = OneHotEncoder(sparse=False)\n",
    "integer_encoded = integer_encoded.reshape(len(integer_encoded), 1)\n",
    "onehot_encoded = onehot_encoder.fit_transform(integer_encoded)\n",
    "print(onehot_encoded)\n",
    "data4 = pd.DataFrame(onehot_encoded) # header:原第一行的索引，index:原第一列的索引\n",
    "data4.to_csv(r\"E:\\学习心得\\data\\cic-ids2018\\02-03\\pva1\\pva_label.csv\",header=None,index=0)"
   ]
  },
  {
   "cell_type": "code",
   "execution_count": 112,
   "id": "fe51e625",
   "metadata": {},
   "outputs": [],
   "source": [
    "df3.to_csv(r\"E:\\学习心得\\data\\cic-ids2018\\02-03\\pva1\\pva_1.csv\",header=None,index=0)"
   ]
  },
  {
   "cell_type": "code",
   "execution_count": null,
   "id": "fe2bd56a",
   "metadata": {},
   "outputs": [],
   "source": []
  }
 ],
 "metadata": {
  "kernelspec": {
   "display_name": "Python 3",
   "language": "python",
   "name": "python3"
  },
  "language_info": {
   "codemirror_mode": {
    "name": "ipython",
    "version": 3
   },
   "file_extension": ".py",
   "mimetype": "text/x-python",
   "name": "python",
   "nbconvert_exporter": "python",
   "pygments_lexer": "ipython3",
   "version": "3.6.13"
  }
 },
 "nbformat": 4,
 "nbformat_minor": 5
}
