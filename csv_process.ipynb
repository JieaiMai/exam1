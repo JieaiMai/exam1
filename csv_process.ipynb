{
 "cells": [
  {
   "cell_type": "code",
   "execution_count": 1,
   "id": "22891c30",
   "metadata": {},
   "outputs": [
    {
     "name": "stderr",
     "output_type": "stream",
     "text": [
      "C:\\d\\anaconda\\lib\\site-packages\\IPython\\core\\interactiveshell.py:3444: DtypeWarning: Columns (0,1,3,4,5,6,7,8,9,10,11,12,13,14,15,16,17,18,19,20,21,22,23,24,25,26,27,28,29,30,31,32,33,34,35,36,37,38,39,40,41,42,43,44,45,46,47,48,49,50,51,52,53,54,55,56,57,58,59,60,61,62,63,64,65,66,67,68,69,70,71,72,73,74,75,76,77,78) have mixed types.Specify dtype option on import or set low_memory=False.\n",
      "  exec(code_obj, self.user_global_ns, self.user_ns)\n"
     ]
    },
    {
     "name": "stdout",
     "output_type": "stream",
     "text": [
      "(1222654, 80)\n",
      "(1222654, 80)\n"
     ]
    }
   ],
   "source": [
    "import numpy as np\n",
    "import pandas as pd\n",
    "from sklearn.model_selection import train_test_split\n",
    "from sklearn.preprocessing import MinMaxScaler, StandardScaler\n",
    "from sklearn.metrics import classification_report\n",
    "from sklearn.svm import OneClassSVM\n",
    "from numpy import array\n",
    "from numpy import argmax\n",
    "from sklearn.preprocessing import LabelEncoder\n",
    "from sklearn.preprocessing import OneHotEncoder\n",
    "df=pd.read_csv(r\"C:\\e\\学习资料\\02-03\\ptrain1.csv\")\n",
    "df.drop_duplicates( keep=False)\n",
    "print ( df.shape)\n",
    "print ( df.shape)"
   ]
  },
  {
   "cell_type": "code",
   "execution_count": 2,
   "id": "8a9d4d2c",
   "metadata": {},
   "outputs": [],
   "source": [
    "df.drop_duplicates( keep=False,inplace=True)"
   ]
  },
  {
   "cell_type": "code",
   "execution_count": 3,
   "id": "875f7ce6",
   "metadata": {},
   "outputs": [
    {
     "name": "stdout",
     "output_type": "stream",
     "text": [
      "(1174778, 80)\n"
     ]
    }
   ],
   "source": [
    "print ( df.shape)"
   ]
  },
  {
   "cell_type": "code",
   "execution_count": 4,
   "id": "1b8d74c3",
   "metadata": {},
   "outputs": [],
   "source": [
    "df.drop('Protocol',axis=1,inplace=True)\n",
    "df.drop('Dst Port',axis=1,inplace=True)\n",
    "df.drop('Timestamp',axis=1,inplace=True)"
   ]
  },
  {
   "cell_type": "code",
   "execution_count": 5,
   "id": "90f63f43",
   "metadata": {},
   "outputs": [
    {
     "name": "stdout",
     "output_type": "stream",
     "text": [
      "(1174778, 77)\n"
     ]
    }
   ],
   "source": [
    "print ( df.shape)"
   ]
  },
  {
   "cell_type": "code",
   "execution_count": 6,
   "id": "4cbb0f84",
   "metadata": {},
   "outputs": [
    {
     "data": {
      "text/plain": [
       "Label\n",
       "Benign                      900405\n",
       "DDOS attack-HOIC            100090\n",
       "DoS attacks-Hulk             66484\n",
       "Bot                          41887\n",
       "Infilteration                24996\n",
       "SSH-Bruteforce               20085\n",
       "FTP-BruteForce                8483\n",
       "DoS attacks-GoldenEye         6099\n",
       "DoS attacks-SlowHTTPTest      4311\n",
       "DoS attacks-Slowloris         1547\n",
       "DDOS attack-LOIC-UDP           254\n",
       "Brute Force -Web                90\n",
       "Brute Force -XSS                34\n",
       "SQL Injection                   13\n",
       "dtype: int64"
      ]
     },
     "execution_count": 6,
     "metadata": {},
     "output_type": "execute_result"
    }
   ],
   "source": [
    "df.value_counts('Label')"
   ]
  },
  {
   "cell_type": "code",
   "execution_count": 7,
   "id": "9ee1e41b",
   "metadata": {},
   "outputs": [
    {
     "name": "stdout",
     "output_type": "stream",
     "text": [
      "(1174778, 77)\n",
      "(1174778, 77)\n"
     ]
    }
   ],
   "source": [
    "print ( df.shape )\n",
    "\n",
    "for index in df.columns:\n",
    "    df[index]=df[index].fillna(0)\n",
    "    df[index]=df[index].replace(np.Infinity,1)\n",
    "\n",
    "#X.drop ( columus=[77],axis=1,inplace=True)\n",
    "#X.to_csv(r\"E:\\学习心得\\data\\cic-ids2018\\02-03\\pva1\\pva_1.csv\", header=None,index=0)\n",
    "print (df.shape)"
   ]
  },
  {
   "cell_type": "code",
   "execution_count": 16,
   "id": "e4333607",
   "metadata": {},
   "outputs": [
    {
     "name": "stdout",
     "output_type": "stream",
     "text": [
      "(587390, 77)\n",
      "(587388, 77)\n"
     ]
    }
   ],
   "source": [
    "pt1=df.groupby('Label').apply(pd.DataFrame.sample, frac=0.5).reset_index(level='Label', drop=True)\n",
    "ptf=df.drop(pt1.index)\n",
    "pt1.value_counts(\"Label\")\n",
    "print ( pt1.shape)\n",
    "print ( ptf.shape)"
   ]
  },
  {
   "cell_type": "code",
   "execution_count": 17,
   "id": "037497d4",
   "metadata": {},
   "outputs": [
    {
     "name": "stdout",
     "output_type": "stream",
     "text": [
      "(586421, 77)\n",
      "(586419, 77)\n"
     ]
    }
   ],
   "source": [
    "pt2=pt1.drop (pt1[(pt1.Label=='SQL Injection')|(pt1.Label=='Brute Force -XSS')|(pt1.Label=='Brute Force -Web')|(pt1.Label=='DDOS attack-LOIC-UDP')|(pt1.Label=='DoS attacks-Slowloris' )].index)\n",
    "ptf2=ptf.drop (ptf[(ptf.Label=='SQL Injection')|(ptf.Label=='Brute Force -XSS')|(ptf.Label=='Brute Force -Web')|(ptf.Label=='DDOS attack-LOIC-UDP')|(ptf.Label=='DoS attacks-Slowloris' )].index)\n",
    "print ( pt2.shape)\n",
    "print ( ptf2.shape )\n",
    "#df = df.drop(df[(df.ts_code >= \"500000\") & (df.ts_code < \"600000\")].index)"
   ]
  },
  {
   "cell_type": "code",
   "execution_count": 18,
   "id": "951dbce9",
   "metadata": {},
   "outputs": [
    {
     "data": {
      "text/plain": [
       "Label\n",
       "Benign                      450202\n",
       "DDOS attack-HOIC             50045\n",
       "DoS attacks-Hulk             33242\n",
       "Bot                          20944\n",
       "Infilteration                12498\n",
       "SSH-Bruteforce               10042\n",
       "FTP-BruteForce                4242\n",
       "DoS attacks-GoldenEye         3050\n",
       "DoS attacks-SlowHTTPTest      2156\n",
       "dtype: int64"
      ]
     },
     "execution_count": 18,
     "metadata": {},
     "output_type": "execute_result"
    }
   ],
   "source": [
    "pt2.value_counts(\"Label\")"
   ]
  },
  {
   "cell_type": "code",
   "execution_count": 19,
   "id": "5717b4ff",
   "metadata": {},
   "outputs": [
    {
     "name": "stdout",
     "output_type": "stream",
     "text": [
      "(293210, 77)\n",
      "(293211, 77)\n",
      "(293210, 77)\n"
     ]
    }
   ],
   "source": [
    "t1=pt2.groupby('Label').apply(pd.DataFrame.sample, frac=0.5).reset_index(level='Label', drop=True)\n",
    "f1=ptf2.groupby('Label').apply(pd.DataFrame.sample, frac=0.5).reset_index(level='Label', drop=True)\n",
    "t2=pt2.drop(t1.index)\n",
    "print ( t1.shape )\n",
    "print ( t2.shape )\n",
    "print ( f1.shape )"
   ]
  },
  {
   "cell_type": "code",
   "execution_count": 20,
   "id": "013ff176",
   "metadata": {},
   "outputs": [
    {
     "data": {
      "text/plain": [
       "Label\n",
       "Benign                      225101\n",
       "DDOS attack-HOIC             25023\n",
       "DoS attacks-Hulk             16621\n",
       "Bot                          10472\n",
       "Infilteration                 6249\n",
       "SSH-Bruteforce                5021\n",
       "FTP-BruteForce                2121\n",
       "DoS attacks-GoldenEye         1525\n",
       "DoS attacks-SlowHTTPTest      1078\n",
       "dtype: int64"
      ]
     },
     "execution_count": 20,
     "metadata": {},
     "output_type": "execute_result"
    }
   ],
   "source": [
    "t2.value_counts(\"Label\")"
   ]
  },
  {
   "cell_type": "code",
   "execution_count": 16,
   "id": "10014119",
   "metadata": {},
   "outputs": [
    {
     "name": "stdout",
     "output_type": "stream",
     "text": [
      "!\n"
     ]
    }
   ],
   "source": [
    "t1.to_csv (r\"E:\\学习心得\\data\\cic-ids2018\\02-03\\ptrain1\\tr1\\sptrain1_1.csv\", header=None,index=0 )\n",
    "t2.to_csv (r\"E:\\学习心得\\data\\cic-ids2018\\02-03\\ptrain1\\tr1\\sptrain1_t1.csv\", header=None,index=0 )\n",
    "\n",
    "print ( \"!\")"
   ]
  },
  {
   "cell_type": "code",
   "execution_count": 25,
   "id": "ecd1aa4c",
   "metadata": {},
   "outputs": [
    {
     "name": "stdout",
     "output_type": "stream",
     "text": [
      "(43981, 77)\n",
      "(43981, 77)\n",
      "(21988, 77)\n",
      "(21993, 77)\n"
     ]
    }
   ],
   "source": [
    "t1_1=t1.groupby('Label').apply(pd.DataFrame.sample, frac=0.15).reset_index(level='Label', drop=True)\n",
    "t2_1=t2.groupby('Label').apply(pd.DataFrame.sample, frac=0.15).reset_index(level='Label', drop=True)\n",
    "f1_1=f1.groupby('Label').apply(pd.DataFrame.sample, frac=0.15).reset_index(level='Label', drop=True)\n",
    "f1_11=f1_1.groupby('Label').apply(pd.DataFrame.sample, frac=0.5).reset_index(level='Label', drop=True)\n",
    "f1_12=f1_1.drop(f1_11.index)\n",
    "print ( t1_1.shape )\n",
    "print ( t2_1.shape )\n",
    "print ( f1_11.shape)\n",
    "print ( f1_12.shape)"
   ]
  },
  {
   "cell_type": "code",
   "execution_count": 19,
   "id": "078cf20e",
   "metadata": {},
   "outputs": [
    {
     "data": {
      "text/plain": [
       "Label\n",
       "Benign                      67530\n",
       "DDOS attack-HOIC             7507\n",
       "DoS attacks-Hulk             4986\n",
       "Bot                          3142\n",
       "Infilteration                1875\n",
       "SSH-Bruteforce               1506\n",
       "FTP-BruteForce                636\n",
       "DoS attacks-GoldenEye         458\n",
       "DoS attacks-SlowHTTPTest      323\n",
       "dtype: int64"
      ]
     },
     "execution_count": 19,
     "metadata": {},
     "output_type": "execute_result"
    }
   ],
   "source": [
    "t1_1.value_counts('Label')"
   ]
  },
  {
   "cell_type": "code",
   "execution_count": 20,
   "id": "5dcb4439",
   "metadata": {},
   "outputs": [
    {
     "data": {
      "text/plain": [
       "Label\n",
       "Benign                      67530\n",
       "DDOS attack-HOIC             7507\n",
       "DoS attacks-Hulk             4986\n",
       "Bot                          3142\n",
       "Infilteration                1875\n",
       "SSH-Bruteforce               1506\n",
       "FTP-BruteForce                636\n",
       "DoS attacks-GoldenEye         458\n",
       "DoS attacks-SlowHTTPTest      323\n",
       "dtype: int64"
      ]
     },
     "execution_count": 20,
     "metadata": {},
     "output_type": "execute_result"
    }
   ],
   "source": [
    "t2_1.value_counts('Label')"
   ]
  },
  {
   "cell_type": "code",
   "execution_count": 21,
   "id": "64d7ed1d",
   "metadata": {},
   "outputs": [
    {
     "name": "stdout",
     "output_type": "stream",
     "text": [
      "!\n"
     ]
    }
   ],
   "source": [
    "t1_1.to_csv (r\"E:\\学习心得\\data\\cic-ids2018\\02-03\\ptrain1\\tr1\\sptrain1_t1_1.csv\", header=None,index=0 )\n",
    "t2_1.to_csv (r\"E:\\学习心得\\data\\cic-ids2018\\02-03\\ptrain1\\tr1\\sptrain1_t2-1.csv\", header=None,index=0 )\n",
    "print ( \"!\")"
   ]
  },
  {
   "cell_type": "code",
   "execution_count": 3,
   "id": "080ea5ac",
   "metadata": {},
   "outputs": [
    {
     "ename": "NameError",
     "evalue": "name 't1_1' is not defined",
     "output_type": "error",
     "traceback": [
      "\u001b[1;31m---------------------------------------------------------------------------\u001b[0m",
      "\u001b[1;31mNameError\u001b[0m                                 Traceback (most recent call last)",
      "\u001b[1;32m~\\AppData\\Local\\Temp/ipykernel_3624/873310677.py\u001b[0m in \u001b[0;36m<module>\u001b[1;34m\u001b[0m\n\u001b[1;32m----> 1\u001b[1;33m \u001b[0mt1_2\u001b[0m\u001b[1;33m=\u001b[0m\u001b[0mt1_1\u001b[0m\u001b[1;33m.\u001b[0m\u001b[0mgroupby\u001b[0m\u001b[1;33m(\u001b[0m\u001b[1;34m'Label'\u001b[0m\u001b[1;33m)\u001b[0m\u001b[1;33m.\u001b[0m\u001b[0mapply\u001b[0m\u001b[1;33m(\u001b[0m\u001b[0mpd\u001b[0m\u001b[1;33m.\u001b[0m\u001b[0mDataFrame\u001b[0m\u001b[1;33m.\u001b[0m\u001b[0msample\u001b[0m\u001b[1;33m,\u001b[0m \u001b[0mfrac\u001b[0m\u001b[1;33m=\u001b[0m\u001b[1;36m0.5\u001b[0m\u001b[1;33m)\u001b[0m\u001b[1;33m.\u001b[0m\u001b[0mreset_index\u001b[0m\u001b[1;33m(\u001b[0m\u001b[0mlevel\u001b[0m\u001b[1;33m=\u001b[0m\u001b[1;34m'Label'\u001b[0m\u001b[1;33m,\u001b[0m \u001b[0mdrop\u001b[0m\u001b[1;33m=\u001b[0m\u001b[1;32mTrue\u001b[0m\u001b[1;33m)\u001b[0m\u001b[1;33m\u001b[0m\u001b[1;33m\u001b[0m\u001b[0m\n\u001b[0m\u001b[0;32m      2\u001b[0m \u001b[0mt2_2\u001b[0m\u001b[1;33m=\u001b[0m\u001b[0mt2_1\u001b[0m\u001b[1;33m.\u001b[0m\u001b[0mgroupby\u001b[0m\u001b[1;33m(\u001b[0m\u001b[1;34m'Label'\u001b[0m\u001b[1;33m)\u001b[0m\u001b[1;33m.\u001b[0m\u001b[0mapply\u001b[0m\u001b[1;33m(\u001b[0m\u001b[0mpd\u001b[0m\u001b[1;33m.\u001b[0m\u001b[0mDataFrame\u001b[0m\u001b[1;33m.\u001b[0m\u001b[0msample\u001b[0m\u001b[1;33m,\u001b[0m \u001b[0mfrac\u001b[0m\u001b[1;33m=\u001b[0m\u001b[1;36m0.5\u001b[0m\u001b[1;33m)\u001b[0m\u001b[1;33m.\u001b[0m\u001b[0mreset_index\u001b[0m\u001b[1;33m(\u001b[0m\u001b[0mlevel\u001b[0m\u001b[1;33m=\u001b[0m\u001b[1;34m'Label'\u001b[0m\u001b[1;33m,\u001b[0m \u001b[0mdrop\u001b[0m\u001b[1;33m=\u001b[0m\u001b[1;32mTrue\u001b[0m\u001b[1;33m)\u001b[0m\u001b[1;33m\u001b[0m\u001b[1;33m\u001b[0m\u001b[0m\n\u001b[0;32m      3\u001b[0m \u001b[0mprint\u001b[0m \u001b[1;33m(\u001b[0m \u001b[0mt1_2\u001b[0m\u001b[1;33m.\u001b[0m\u001b[0mshape\u001b[0m \u001b[1;33m)\u001b[0m\u001b[1;33m\u001b[0m\u001b[1;33m\u001b[0m\u001b[0m\n\u001b[0;32m      4\u001b[0m \u001b[0mprint\u001b[0m \u001b[1;33m(\u001b[0m \u001b[0mt2_2\u001b[0m\u001b[1;33m.\u001b[0m\u001b[0mshape\u001b[0m \u001b[1;33m)\u001b[0m\u001b[1;33m\u001b[0m\u001b[1;33m\u001b[0m\u001b[0m\n\u001b[0;32m      5\u001b[0m \u001b[0mt1_2\u001b[0m\u001b[1;33m.\u001b[0m\u001b[0mvalue_counts\u001b[0m\u001b[1;33m(\u001b[0m\u001b[1;34m'Label'\u001b[0m\u001b[1;33m)\u001b[0m\u001b[1;33m\u001b[0m\u001b[1;33m\u001b[0m\u001b[0m\n",
      "\u001b[1;31mNameError\u001b[0m: name 't1_1' is not defined"
     ]
    }
   ],
   "source": [
    "t1_2=t1_1.groupby('Label').apply(pd.DataFrame.sample, frac=0.5).reset_index(level='Label', drop=True)\n",
    "t2_2=t2_1.groupby('Label').apply(pd.DataFrame.sample, frac=0.5).reset_index(level='Label', drop=True)\n",
    "print ( t1_2.shape )\n",
    "print ( t2_2.shape )\n",
    "t1_2.value_counts('Label')\n",
    "t2_2.value_counts('Label')"
   ]
  },
  {
   "cell_type": "code",
   "execution_count": 23,
   "id": "ff5895a8",
   "metadata": {},
   "outputs": [
    {
     "data": {
      "text/plain": [
       "Label\n",
       "Benign                      33765\n",
       "DDOS attack-HOIC             3754\n",
       "DoS attacks-Hulk             2493\n",
       "Bot                          1571\n",
       "Infilteration                 938\n",
       "SSH-Bruteforce                753\n",
       "FTP-BruteForce                318\n",
       "DoS attacks-GoldenEye         229\n",
       "DoS attacks-SlowHTTPTest      162\n",
       "dtype: int64"
      ]
     },
     "execution_count": 23,
     "metadata": {},
     "output_type": "execute_result"
    }
   ],
   "source": [
    "t2_2.value_counts('Label')\n"
   ]
  },
  {
   "cell_type": "code",
   "execution_count": 26,
   "id": "0a719220",
   "metadata": {},
   "outputs": [
    {
     "name": "stdout",
     "output_type": "stream",
     "text": [
      "(43981, 77)\n",
      "(43981, 77)\n",
      "(21988, 77)\n",
      "(21993, 77)\n",
      "!\n"
     ]
    }
   ],
   "source": [
    "print ( t1_1.shape )\n",
    "print ( t2_1.shape )\n",
    "print ( f1_11.shape)\n",
    "print ( f1_12.shape)\n",
    "t1_1.to_csv (r\"E:\\学习心得\\data\\cic-ids2018\\02-03\\ptrain1\\tr1\\t\\sptrain1_t1.csv\", header=None,index=0 )\n",
    "t2_1.to_csv (r\"E:\\学习心得\\data\\cic-ids2018\\02-03\\ptrain1\\tr1\\t\\sptrain1_t2.csv\", header=None,index=0 )\n",
    "f1_11.to_csv (r\"E:\\学习心得\\data\\cic-ids2018\\02-03\\ptrain1\\tr1\\t\\sptrain1_f1.csv\", header=None,index=0 )\n",
    "f1_12.to_csv (r\"E:\\学习心得\\data\\cic-ids2018\\02-03\\ptrain1\\tr1\\t\\sptrain1_f2.csv\", header=None,index=0 )\n",
    "\n",
    "print ( \"!\")"
   ]
  },
  {
   "cell_type": "code",
   "execution_count": 3,
   "id": "5fe8f785",
   "metadata": {},
   "outputs": [
    {
     "name": "stdout",
     "output_type": "stream",
     "text": [
      "(43982, 768)\n"
     ]
    }
   ],
   "source": [
    "import pandas as pd\n",
    "bt1=pd.read_csv(r\"E:\\学习心得\\data\\cic-ids2018\\02-03\\ptrain1\\tr1\\sptrain1_1_bert.csv\")\n",
    "bt2=pd.read_csv(r\"E:\\学习心得\\data\\cic-ids2018\\02-03\\ptrain1\\tr1\\sptrain1_1_bert.csv\")\n",
    "print ( bt1.shape )\n"
   ]
  },
  {
   "cell_type": "code",
   "execution_count": 4,
   "id": "582ed851",
   "metadata": {},
   "outputs": [
    {
     "name": "stdout",
     "output_type": "stream",
     "text": [
      "(43982, 768)\n"
     ]
    }
   ],
   "source": [
    "print ( bt2.shape )"
   ]
  },
  {
   "cell_type": "code",
   "execution_count": 27,
   "id": "1fb5a7ea",
   "metadata": {},
   "outputs": [
    {
     "name": "stdout",
     "output_type": "stream",
     "text": [
      "Benign                      33765\n",
      "DDOS attack-HOIC             3753\n",
      "DoS attacks-Hulk             2493\n",
      "Bot                          1571\n",
      "Infilteration                 937\n",
      "SSH-Bruteforce                753\n",
      "FTP-BruteForce                318\n",
      "DoS attacks-GoldenEye         229\n",
      "DoS attacks-SlowHTTPTest      162\n",
      "Name: Label, dtype: int64\n",
      "['Benign' 'Benign' 'Benign' ... 'SSH-Bruteforce' 'SSH-Bruteforce'\n",
      " 'SSH-Bruteforce']\n",
      "[[1. 0. 0. ... 0. 0. 0.]\n",
      " [1. 0. 0. ... 0. 0. 0.]\n",
      " [1. 0. 0. ... 0. 0. 0.]\n",
      " ...\n",
      " [0. 0. 0. ... 0. 0. 1.]\n",
      " [0. 0. 0. ... 0. 0. 1.]\n",
      " [0. 0. 0. ... 0. 0. 1.]]\n"
     ]
    }
   ],
   "source": [
    "labelt=t1_1.Label.copy()\n",
    "print ( labelt.value_counts())\n",
    "arrs=labelt.values\n",
    "d1=np.array(arrs)\n",
    "values = array(d1)\n",
    "print(values)\n",
    "# integer encode\n",
    "label_encoder = LabelEncoder()\n",
    "integer_encoded = label_encoder.fit_transform(values)\n",
    "data3 = pd.DataFrame(integer_encoded) # header:原第一行的索引，index:原第一列的索引\n",
    "#data3.to_csv(r\"E:\\学习心得\\data\\cic-ids2018\\02-03\\ptrain1\\ptrain2_sli2_labeln.csv\",header=None,index=0)\n",
    "# # binary encode\n",
    "onehot_encoder = OneHotEncoder(sparse=False)\n",
    "integer_encoded = integer_encoded.reshape(len(integer_encoded), 1)\n",
    "onehot_encoded = onehot_encoder.fit_transform(integer_encoded)\n",
    "print(onehot_encoded)\n",
    "data4 = pd.DataFrame(onehot_encoded) # header:原第一行的索引，index:原第一列的索引\n",
    "data4.to_csv(r\"E:\\学习心得\\data\\cic-ids2018\\02-03\\ptrain1\\tr1\\t\\t1_label.csv\",header=None,index=0)"
   ]
  },
  {
   "cell_type": "code",
   "execution_count": 28,
   "id": "30ee65eb",
   "metadata": {},
   "outputs": [
    {
     "name": "stdout",
     "output_type": "stream",
     "text": [
      "Benign                      33765\n",
      "DDOS attack-HOIC             3753\n",
      "DoS attacks-Hulk             2493\n",
      "Bot                          1571\n",
      "Infilteration                 937\n",
      "SSH-Bruteforce                753\n",
      "FTP-BruteForce                318\n",
      "DoS attacks-GoldenEye         229\n",
      "DoS attacks-SlowHTTPTest      162\n",
      "Name: Label, dtype: int64\n",
      "['Benign' 'Benign' 'Benign' ... 'SSH-Bruteforce' 'SSH-Bruteforce'\n",
      " 'SSH-Bruteforce']\n",
      "[[1. 0. 0. ... 0. 0. 0.]\n",
      " [1. 0. 0. ... 0. 0. 0.]\n",
      " [1. 0. 0. ... 0. 0. 0.]\n",
      " ...\n",
      " [0. 0. 0. ... 0. 0. 1.]\n",
      " [0. 0. 0. ... 0. 0. 1.]\n",
      " [0. 0. 0. ... 0. 0. 1.]]\n"
     ]
    }
   ],
   "source": [
    "labelt=t2_1.Label.copy()\n",
    "print ( labelt.value_counts())\n",
    "arrs=labelt.values\n",
    "d1=np.array(arrs)\n",
    "values = array(d1)\n",
    "print(values)\n",
    "# integer encode\n",
    "label_encoder = LabelEncoder()\n",
    "integer_encoded = label_encoder.fit_transform(values)\n",
    "data3 = pd.DataFrame(integer_encoded) # header:原第一行的索引，index:原第一列的索引\n",
    "#data3.to_csv(r\"E:\\学习心得\\data\\cic-ids2018\\02-03\\ptrain1\\ptrain2_sli2_labeln.csv\",header=None,index=0)\n",
    "# # binary encode\n",
    "onehot_encoder = OneHotEncoder(sparse=False)\n",
    "integer_encoded = integer_encoded.reshape(len(integer_encoded), 1)\n",
    "onehot_encoded = onehot_encoder.fit_transform(integer_encoded)\n",
    "print(onehot_encoded)\n",
    "data4 = pd.DataFrame(onehot_encoded) # header:原第一行的索引，index:原第一列的索引\n",
    "data4.to_csv(r\"E:\\学习心得\\data\\cic-ids2018\\02-03\\ptrain1\\tr1\\t\\t2_label.csv\",header=None,index=0)"
   ]
  },
  {
   "cell_type": "code",
   "execution_count": 29,
   "id": "2f3386b3",
   "metadata": {},
   "outputs": [
    {
     "name": "stdout",
     "output_type": "stream",
     "text": [
      "Benign                      16882\n",
      "DDOS attack-HOIC             1876\n",
      "DoS attacks-Hulk             1246\n",
      "Bot                           786\n",
      "Infilteration                 468\n",
      "SSH-Bruteforce                376\n",
      "FTP-BruteForce                159\n",
      "DoS attacks-GoldenEye         114\n",
      "DoS attacks-SlowHTTPTest       81\n",
      "Name: Label, dtype: int64\n",
      "['Benign' 'Benign' 'Benign' ... 'SSH-Bruteforce' 'SSH-Bruteforce'\n",
      " 'SSH-Bruteforce']\n",
      "[[1. 0. 0. ... 0. 0. 0.]\n",
      " [1. 0. 0. ... 0. 0. 0.]\n",
      " [1. 0. 0. ... 0. 0. 0.]\n",
      " ...\n",
      " [0. 0. 0. ... 0. 0. 1.]\n",
      " [0. 0. 0. ... 0. 0. 1.]\n",
      " [0. 0. 0. ... 0. 0. 1.]]\n"
     ]
    }
   ],
   "source": [
    "labelt=f1_11.Label.copy()\n",
    "print ( labelt.value_counts())\n",
    "arrs=labelt.values\n",
    "d1=np.array(arrs)\n",
    "values = array(d1)\n",
    "print(values)\n",
    "# integer encode\n",
    "label_encoder = LabelEncoder()\n",
    "integer_encoded = label_encoder.fit_transform(values)\n",
    "data3 = pd.DataFrame(integer_encoded) # header:原第一行的索引，index:原第一列的索引\n",
    "#data3.to_csv(r\"E:\\学习心得\\data\\cic-ids2018\\02-03\\ptrain1\\ptrain2_sli2_labeln.csv\",header=None,index=0)\n",
    "# # binary encode\n",
    "onehot_encoder = OneHotEncoder(sparse=False)\n",
    "integer_encoded = integer_encoded.reshape(len(integer_encoded), 1)\n",
    "onehot_encoded = onehot_encoder.fit_transform(integer_encoded)\n",
    "print(onehot_encoded)\n",
    "data4 = pd.DataFrame(onehot_encoded) # header:原第一行的索引，index:原第一列的索引\n",
    "data4.to_csv(r\"E:\\学习心得\\data\\cic-ids2018\\02-03\\ptrain1\\tr1\\t\\f1_label.csv\",header=None,index=0)"
   ]
  },
  {
   "cell_type": "code",
   "execution_count": 30,
   "id": "ddb3bbd3",
   "metadata": {},
   "outputs": [
    {
     "name": "stdout",
     "output_type": "stream",
     "text": [
      "Benign                      16883\n",
      "DDOS attack-HOIC             1877\n",
      "DoS attacks-Hulk             1247\n",
      "Bot                           785\n",
      "Infilteration                 469\n",
      "SSH-Bruteforce                377\n",
      "FTP-BruteForce                159\n",
      "DoS attacks-GoldenEye         115\n",
      "DoS attacks-SlowHTTPTest       81\n",
      "Name: Label, dtype: int64\n",
      "['Benign' 'Benign' 'Benign' ... 'SSH-Bruteforce' 'SSH-Bruteforce'\n",
      " 'SSH-Bruteforce']\n",
      "[[1. 0. 0. ... 0. 0. 0.]\n",
      " [1. 0. 0. ... 0. 0. 0.]\n",
      " [1. 0. 0. ... 0. 0. 0.]\n",
      " ...\n",
      " [0. 0. 0. ... 0. 0. 1.]\n",
      " [0. 0. 0. ... 0. 0. 1.]\n",
      " [0. 0. 0. ... 0. 0. 1.]]\n"
     ]
    }
   ],
   "source": [
    "labelt=f1_12.Label.copy()\n",
    "print ( labelt.value_counts())\n",
    "arrs=labelt.values\n",
    "d1=np.array(arrs)\n",
    "values = array(d1)\n",
    "print(values)\n",
    "# integer encode\n",
    "label_encoder = LabelEncoder()\n",
    "integer_encoded = label_encoder.fit_transform(values)\n",
    "data3 = pd.DataFrame(integer_encoded) # header:原第一行的索引，index:原第一列的索引\n",
    "#data3.to_csv(r\"E:\\学习心得\\data\\cic-ids2018\\02-03\\ptrain1\\ptrain2_sli2_labeln.csv\",header=None,index=0)\n",
    "# # binary encode\n",
    "onehot_encoder = OneHotEncoder(sparse=False)\n",
    "integer_encoded = integer_encoded.reshape(len(integer_encoded), 1)\n",
    "onehot_encoded = onehot_encoder.fit_transform(integer_encoded)\n",
    "print(onehot_encoded)\n",
    "data4 = pd.DataFrame(onehot_encoded) # header:原第一行的索引，index:原第一列的索引\n",
    "data4.to_csv(r\"E:\\学习心得\\data\\cic-ids2018\\02-03\\ptrain1\\tr1\\t\\f2_label.csv\",header=None,index=0)"
   ]
  },
  {
   "cell_type": "code",
   "execution_count": 2,
   "id": "a06252ca",
   "metadata": {},
   "outputs": [
    {
     "ename": "NameError",
     "evalue": "name 't1_2' is not defined",
     "output_type": "error",
     "traceback": [
      "\u001b[1;31m---------------------------------------------------------------------------\u001b[0m",
      "\u001b[1;31mNameError\u001b[0m                                 Traceback (most recent call last)",
      "\u001b[1;32m~\\AppData\\Local\\Temp/ipykernel_3624/3977004341.py\u001b[0m in \u001b[0;36m<module>\u001b[1;34m\u001b[0m\n\u001b[1;32m----> 1\u001b[1;33m \u001b[0mt1_2\u001b[0m\u001b[1;33m.\u001b[0m\u001b[0mto_csv\u001b[0m \u001b[1;33m(\u001b[0m\u001b[1;34mr\"E:\\学习心得\\data\\cic-ids2018\\02-03\\ptrain1\\tr1\\sptrain1_t1_1.csv\"\u001b[0m\u001b[1;33m,\u001b[0m \u001b[0mheader\u001b[0m\u001b[1;33m=\u001b[0m\u001b[1;32mNone\u001b[0m\u001b[1;33m,\u001b[0m\u001b[0mindex\u001b[0m\u001b[1;33m=\u001b[0m\u001b[1;36m0\u001b[0m \u001b[1;33m)\u001b[0m\u001b[1;33m\u001b[0m\u001b[1;33m\u001b[0m\u001b[0m\n\u001b[0m\u001b[0;32m      2\u001b[0m \u001b[0mt2_2\u001b[0m\u001b[1;33m.\u001b[0m\u001b[0mto_csv\u001b[0m \u001b[1;33m(\u001b[0m\u001b[1;34mr\"E:\\学习心得\\data\\cic-ids2018\\02-03\\ptrain1\\tr1\\sptrain1_t2-1.csv\"\u001b[0m\u001b[1;33m,\u001b[0m \u001b[0mheader\u001b[0m\u001b[1;33m=\u001b[0m\u001b[1;32mNone\u001b[0m\u001b[1;33m,\u001b[0m\u001b[0mindex\u001b[0m\u001b[1;33m=\u001b[0m\u001b[1;36m0\u001b[0m \u001b[1;33m)\u001b[0m\u001b[1;33m\u001b[0m\u001b[1;33m\u001b[0m\u001b[0m\n\u001b[0;32m      3\u001b[0m \u001b[0mprint\u001b[0m \u001b[1;33m(\u001b[0m \u001b[1;34m\"!\"\u001b[0m\u001b[1;33m)\u001b[0m\u001b[1;33m\u001b[0m\u001b[1;33m\u001b[0m\u001b[0m\n",
      "\u001b[1;31mNameError\u001b[0m: name 't1_2' is not defined"
     ]
    }
   ],
   "source": [
    "t1_2.to_csv (r\"E:\\学习心得\\data\\cic-ids2018\\02-03\\ptrain1\\tr1\\sptrain1_t1_1.csv\", header=None,index=0 )\n",
    "t2_2.to_csv (r\"E:\\学习心得\\data\\cic-ids2018\\02-03\\ptrain1\\tr1\\sptrain1_t2-1.csv\", header=None,index=0 )\n",
    "print ( \"!\")"
   ]
  },
  {
   "cell_type": "code",
   "execution_count": 1,
   "id": "bab88c63",
   "metadata": {},
   "outputs": [
    {
     "ename": "NameError",
     "evalue": "name 't1_2' is not defined",
     "output_type": "error",
     "traceback": [
      "\u001b[1;31m---------------------------------------------------------------------------\u001b[0m",
      "\u001b[1;31mNameError\u001b[0m                                 Traceback (most recent call last)",
      "\u001b[1;32m~\\AppData\\Local\\Temp/ipykernel_3624/101916327.py\u001b[0m in \u001b[0;36m<module>\u001b[1;34m\u001b[0m\n\u001b[1;32m----> 1\u001b[1;33m \u001b[0mt1_2\u001b[0m\u001b[1;33m.\u001b[0m\u001b[0mvalue_counts\u001b[0m\u001b[1;33m(\u001b[0m\u001b[1;34m'Label'\u001b[0m\u001b[1;33m)\u001b[0m\u001b[1;33m\u001b[0m\u001b[1;33m\u001b[0m\u001b[0m\n\u001b[0m",
      "\u001b[1;31mNameError\u001b[0m: name 't1_2' is not defined"
     ]
    }
   ],
   "source": [
    "t1_2.value_counts('Label')"
   ]
  },
  {
   "cell_type": "code",
   "execution_count": 5,
   "id": "8d4fb3e3",
   "metadata": {},
   "outputs": [],
   "source": [
    "import pandas as pd\n",
    "import numpy as np\n",
    "from tensorflow.keras import Model\n",
    "import tensorflow as tf\n",
    "np.random.seed(1337)  # for reproducibility\n",
    "from keras.preprocessing import sequence\n",
    "from keras.utils.np_utils import to_categorical\n",
    "from sklearn.metrics import (precision_score, recall_score,\n",
    "                             f1_score, accuracy_score,mean_squared_error,mean_absolute_error)\n",
    "from sklearn import metrics\n",
    "from sklearn.preprocessing import Normalizer\n",
    "\n",
    "X = pd.read_csv(r\"E:\\学习心得\\data\\cic-ids2018\\02-03\\ptrain1\\tr1\\sptrain1_t1_1.csv\", header=None)\n",
    "#Y = pd.read_csv(r\"E:\\学习心得\\data\\cic-ids2018\\02-03\\ptrain1\\tr1\\t1_2_label.csv\", header=None)\n",
    "\n",
    "T = pd.read_csv(r\"E:\\学习心得\\data\\cic-ids2018\\02-03\\ptrain1\\tr1\\sptrain1_t2-1.csv\", header=None)\n",
    "#C = pd.read_csv(r\"E:\\学习心得\\data\\cic-ids2018\\02-03\\ptrain1\\tr1\\t2_2_label.csv\", header=None)"
   ]
  },
  {
   "cell_type": "code",
   "execution_count": 8,
   "id": "809d1dd2",
   "metadata": {},
   "outputs": [
    {
     "name": "stdout",
     "output_type": "stream",
     "text": [
      "0     False\n",
      "1     False\n",
      "2     False\n",
      "3     False\n",
      "4     False\n",
      "      ...  \n",
      "72    False\n",
      "73    False\n",
      "74    False\n",
      "75    False\n",
      "76    False\n",
      "Length: 77, dtype: bool\n"
     ]
    }
   ],
   "source": [
    "print (X.isnull().any())"
   ]
  },
  {
   "cell_type": "code",
   "execution_count": 8,
   "id": "95e4d3a2",
   "metadata": {},
   "outputs": [
    {
     "name": "stdout",
     "output_type": "stream",
     "text": [
      "(1172840, 77)\n",
      "(1938, 77)\n"
     ]
    }
   ],
   "source": [
    "df1=df.drop (df[(df.Label=='SQL Injection')|(df.Label=='Brute Force -XSS')|(df.Label=='Brute Force -Web')|(df.Label=='DDOS attack-LOIC-UDP')|(df.Label=='DoS attacks-Slowloris' )].index)\n",
    "df2=df.drop (df1.index)\n",
    "print ( df1.shape)\n",
    "print ( df2.shape )"
   ]
  },
  {
   "cell_type": "code",
   "execution_count": 9,
   "id": "e6d2b70f",
   "metadata": {},
   "outputs": [
    {
     "data": {
      "text/plain": [
       "Label\n",
       "Benign                      900405\n",
       "DDOS attack-HOIC            100090\n",
       "DoS attacks-Hulk             66484\n",
       "Bot                          41887\n",
       "Infilteration                24996\n",
       "SSH-Bruteforce               20085\n",
       "FTP-BruteForce                8483\n",
       "DoS attacks-GoldenEye         6099\n",
       "DoS attacks-SlowHTTPTest      4311\n",
       "dtype: int64"
      ]
     },
     "execution_count": 9,
     "metadata": {},
     "output_type": "execute_result"
    }
   ],
   "source": [
    "df1.value_counts('Label')"
   ]
  },
  {
   "cell_type": "code",
   "execution_count": 10,
   "id": "672cb916",
   "metadata": {},
   "outputs": [
    {
     "data": {
      "text/plain": [
       "Label\n",
       "DoS attacks-Slowloris    1547\n",
       "DDOS attack-LOIC-UDP      254\n",
       "Brute Force -Web           90\n",
       "Brute Force -XSS           34\n",
       "SQL Injection              13\n",
       "dtype: int64"
      ]
     },
     "execution_count": 10,
     "metadata": {},
     "output_type": "execute_result"
    }
   ],
   "source": [
    "df2.value_counts('Label')"
   ]
  },
  {
   "cell_type": "code",
   "execution_count": 11,
   "id": "21d76b0a",
   "metadata": {},
   "outputs": [
    {
     "name": "stdout",
     "output_type": "stream",
     "text": [
      "(272435, 77)\n",
      "(900405, 77)\n"
     ]
    }
   ],
   "source": [
    "df1_1=df1.drop (df1[(df1.Label=='Benign')].index)\n",
    "df1_2=df1.drop (df1_1.index)\n",
    "print ( df1_1.shape)\n",
    "print ( df1_2.shape )"
   ]
  },
  {
   "cell_type": "code",
   "execution_count": 13,
   "id": "a652d926",
   "metadata": {},
   "outputs": [
    {
     "data": {
      "text/plain": [
       "Label\n",
       "DDOS attack-HOIC            100090\n",
       "DoS attacks-Hulk             66484\n",
       "Bot                          41887\n",
       "Infilteration                24996\n",
       "SSH-Bruteforce               20085\n",
       "FTP-BruteForce                8483\n",
       "DoS attacks-GoldenEye         6099\n",
       "DoS attacks-SlowHTTPTest      4311\n",
       "dtype: int64"
      ]
     },
     "execution_count": 13,
     "metadata": {},
     "output_type": "execute_result"
    }
   ],
   "source": [
    "df1_1.value_counts('Label')\n",
    "#df1_2.value_counts('Label')"
   ]
  },
  {
   "cell_type": "code",
   "execution_count": 14,
   "id": "1be91f0d",
   "metadata": {},
   "outputs": [
    {
     "data": {
      "text/plain": [
       "Label\n",
       "Benign    162073\n",
       "dtype: int64"
      ]
     },
     "execution_count": 14,
     "metadata": {},
     "output_type": "execute_result"
    }
   ],
   "source": [
    "df1_2_1 = df1_2.groupby('Label').apply(pd.DataFrame.sample, frac=0.18).reset_index(level='Label', drop=True)\n",
    "df1_2_1.value_counts('Label')"
   ]
  },
  {
   "cell_type": "code",
   "execution_count": 17,
   "id": "cc944dc7",
   "metadata": {},
   "outputs": [
    {
     "name": "stdout",
     "output_type": "stream",
     "text": [
      "(434508, 77)\n"
     ]
    }
   ],
   "source": [
    "pn1 = pd.concat ( [df1_1,df1_2_1],axis=0)\n",
    "print ( pn1.shape)\n"
   ]
  },
  {
   "cell_type": "code",
   "execution_count": 18,
   "id": "2b2abb76",
   "metadata": {},
   "outputs": [
    {
     "data": {
      "text/plain": [
       "Label\n",
       "Benign                      162073\n",
       "DDOS attack-HOIC            100090\n",
       "DoS attacks-Hulk             66484\n",
       "Bot                          41887\n",
       "Infilteration                24996\n",
       "SSH-Bruteforce               20085\n",
       "FTP-BruteForce                8483\n",
       "DoS attacks-GoldenEye         6099\n",
       "DoS attacks-SlowHTTPTest      4311\n",
       "dtype: int64"
      ]
     },
     "execution_count": 18,
     "metadata": {},
     "output_type": "execute_result"
    }
   ],
   "source": [
    "pn1.value_counts('Label')"
   ]
  },
  {
   "cell_type": "code",
   "execution_count": 19,
   "id": "de294532",
   "metadata": {},
   "outputs": [],
   "source": [
    "pn1.to_csv(r\"C:\\e\\学习资料\\02-03\\ptrain_1\\ptr1.csv\",header=True,index=0)"
   ]
  },
  {
   "cell_type": "code",
   "execution_count": 20,
   "id": "df12a366",
   "metadata": {},
   "outputs": [
    {
     "data": {
      "text/plain": [
       "Label\n",
       "DoS attacks-Slowloris    1547\n",
       "DDOS attack-LOIC-UDP      254\n",
       "Brute Force -Web           90\n",
       "Brute Force -XSS           34\n",
       "SQL Injection              13\n",
       "dtype: int64"
      ]
     },
     "execution_count": 20,
     "metadata": {},
     "output_type": "execute_result"
    }
   ],
   "source": [
    "df2.value_counts('Label')"
   ]
  },
  {
   "cell_type": "code",
   "execution_count": 21,
   "id": "62b5af93",
   "metadata": {},
   "outputs": [],
   "source": [
    "df2.to_csv(r\"C:\\e\\学习资料\\02-03\\ptrain_1\\ptrf.csv\",header=True,index=0)"
   ]
  },
  {
   "cell_type": "code",
   "execution_count": 22,
   "id": "1032988a",
   "metadata": {},
   "outputs": [],
   "source": [
    "pn1_t = pn1.groupby('Label').apply(pd.DataFrame.sample, frac=0.1).reset_index(level='Label', drop=True)"
   ]
  },
  {
   "cell_type": "code",
   "execution_count": 23,
   "id": "23830638",
   "metadata": {},
   "outputs": [
    {
     "data": {
      "text/plain": [
       "Label\n",
       "Benign                      16207\n",
       "DDOS attack-HOIC            10009\n",
       "DoS attacks-Hulk             6648\n",
       "Bot                          4189\n",
       "Infilteration                2500\n",
       "SSH-Bruteforce               2008\n",
       "FTP-BruteForce                848\n",
       "DoS attacks-GoldenEye         610\n",
       "DoS attacks-SlowHTTPTest      431\n",
       "dtype: int64"
      ]
     },
     "execution_count": 23,
     "metadata": {},
     "output_type": "execute_result"
    }
   ],
   "source": [
    "pn1_t.value_counts('Label')"
   ]
  },
  {
   "cell_type": "code",
   "execution_count": 24,
   "id": "b6e7cbbc",
   "metadata": {},
   "outputs": [
    {
     "data": {
      "text/plain": [
       "Label\n",
       "Benign                      145866\n",
       "DDOS attack-HOIC             90081\n",
       "DoS attacks-Hulk             59836\n",
       "Bot                          37698\n",
       "Infilteration                22496\n",
       "SSH-Bruteforce               18077\n",
       "FTP-BruteForce                7635\n",
       "DoS attacks-GoldenEye         5489\n",
       "DoS attacks-SlowHTTPTest      3880\n",
       "dtype: int64"
      ]
     },
     "execution_count": 24,
     "metadata": {},
     "output_type": "execute_result"
    }
   ],
   "source": [
    "pn1_t2=pn1.drop ( pn1_t.index)\n",
    "pn1_t2.value_counts('Label')"
   ]
  },
  {
   "cell_type": "code",
   "execution_count": 25,
   "id": "544d515c",
   "metadata": {},
   "outputs": [],
   "source": [
    "pn1_t2.to_csv(r\"C:\\e\\学习资料\\02-03\\ptrain_1\\ptr_2.csv\",header=True,index=0)\n",
    "pn1_t.to_csv(r\"C:\\e\\学习资料\\02-03\\ptrain_1\\ptr_1.csv\",header=True,index=0)\n"
   ]
  },
  {
   "cell_type": "code",
   "execution_count": 30,
   "id": "184988a7",
   "metadata": {},
   "outputs": [
    {
     "name": "stdout",
     "output_type": "stream",
     "text": [
      "(391058, 77)\n"
     ]
    }
   ],
   "source": [
    "print ( pn1_t2.shape)"
   ]
  },
  {
   "cell_type": "code",
   "execution_count": 29,
   "id": "298c19c5",
   "metadata": {},
   "outputs": [
    {
     "name": "stdout",
     "output_type": "stream",
     "text": [
      "['Benign' 'Benign' 'Benign' ... 'SSH-Bruteforce' 'SSH-Bruteforce'\n",
      " 'SSH-Bruteforce']\n",
      "[[1. 0. 0. ... 0. 0. 0.]\n",
      " [1. 0. 0. ... 0. 0. 0.]\n",
      " [1. 0. 0. ... 0. 0. 0.]\n",
      " ...\n",
      " [0. 0. 0. ... 0. 0. 1.]\n",
      " [0. 0. 0. ... 0. 0. 1.]\n",
      " [0. 0. 0. ... 0. 0. 1.]]\n"
     ]
    }
   ],
   "source": [
    "arrs=pn1_t.Label.copy()\n",
    "d1=np.array(arrs)\n",
    "values = array(d1)\n",
    "print(values)\n",
    "# integer encode\n",
    "label_encoder = LabelEncoder()\n",
    "integer_encoded = label_encoder.fit_transform(values)\n",
    "data3 = pd.DataFrame(integer_encoded) # header:原第一行的索引，index:原第一列的索引\n",
    "#data3.to_csv(r\"E:\\学习心得\\data\\cic-ids2018\\02-03\\ptrain1\\ptrain2_sli2_labeln.csv\",header=None,index=0)\n",
    "# # binary encode\n",
    "onehot_encoder = OneHotEncoder(sparse=False)\n",
    "integer_encoded = integer_encoded.reshape(len(integer_encoded), 1)\n",
    "onehot_encoded = onehot_encoder.fit_transform(integer_encoded)\n",
    "print(onehot_encoded)\n",
    "data4 = pd.DataFrame(onehot_encoded) # header:原第一行的索引，index:原第一列的索引\n",
    "data4.to_csv(r\"C:\\e\\学习资料\\02-03\\ptrain_1\\ptr_1_by.csv\",header=None,index=0)"
   ]
  },
  {
   "cell_type": "code",
   "execution_count": 31,
   "id": "5d5757a5",
   "metadata": {},
   "outputs": [
    {
     "name": "stdout",
     "output_type": "stream",
     "text": [
      "(129049, 77)\n",
      "(305459, 77)\n"
     ]
    }
   ],
   "source": [
    "pn1_t21 = pn1_t2.groupby('Label').apply(pd.DataFrame.sample, frac=0.33).reset_index(level='Label', drop=True)\n",
    "pn1_t22 = pn1.drop (pn1_t21.index)\n",
    "print ( pn1_t21.shape)\n",
    "print ( pn1_t22.shape)"
   ]
  },
  {
   "cell_type": "code",
   "execution_count": 32,
   "id": "97d1ff4c",
   "metadata": {},
   "outputs": [],
   "source": [
    "pn1_t21.to_csv(r\"C:\\e\\学习资料\\02-03\\ptrain_1\\ptr_21.csv\",header=True,index=0)\n",
    "pn1_t22.to_csv(r\"C:\\e\\学习资料\\02-03\\ptrain_1\\ptr_22.csv\",header=True,index=0)"
   ]
  },
  {
   "cell_type": "code",
   "execution_count": 33,
   "id": "33815b7b",
   "metadata": {},
   "outputs": [
    {
     "name": "stdout",
     "output_type": "stream",
     "text": [
      "['Benign' 'Benign' 'Benign' ... 'SSH-Bruteforce' 'SSH-Bruteforce'\n",
      " 'SSH-Bruteforce']\n",
      "[[1. 0. 0. ... 0. 0. 0.]\n",
      " [1. 0. 0. ... 0. 0. 0.]\n",
      " [1. 0. 0. ... 0. 0. 0.]\n",
      " ...\n",
      " [0. 0. 0. ... 0. 0. 1.]\n",
      " [0. 0. 0. ... 0. 0. 1.]\n",
      " [0. 0. 0. ... 0. 0. 1.]]\n"
     ]
    }
   ],
   "source": [
    "arrs=pn1_t21.Label.copy()\n",
    "d1=np.array(arrs)\n",
    "values = array(d1)\n",
    "print(values)\n",
    "# integer encode\n",
    "label_encoder = LabelEncoder()\n",
    "integer_encoded = label_encoder.fit_transform(values)\n",
    "data3 = pd.DataFrame(integer_encoded) # header:原第一行的索引，index:原第一列的索引\n",
    "#data3.to_csv(r\"E:\\学习心得\\data\\cic-ids2018\\02-03\\ptrain1\\ptrain2_sli2_labeln.csv\",header=None,index=0)\n",
    "# # binary encode\n",
    "onehot_encoder = OneHotEncoder(sparse=False)\n",
    "integer_encoded = integer_encoded.reshape(len(integer_encoded), 1)\n",
    "onehot_encoded = onehot_encoder.fit_transform(integer_encoded)\n",
    "print(onehot_encoded)\n",
    "data4 = pd.DataFrame(onehot_encoded) # header:原第一行的索引，index:原第一列的索引\n",
    "data4.to_csv(r\"C:\\e\\学习资料\\02-03\\ptrain_1\\ptr_21_by.csv\",header=None,index=0)"
   ]
  },
  {
   "cell_type": "code",
   "execution_count": null,
   "id": "cdf0483d",
   "metadata": {},
   "outputs": [],
   "source": []
  }
 ],
 "metadata": {
  "kernelspec": {
   "display_name": "Python 3 (ipykernel)",
   "language": "python",
   "name": "python3"
  },
  "language_info": {
   "codemirror_mode": {
    "name": "ipython",
    "version": 3
   },
   "file_extension": ".py",
   "mimetype": "text/x-python",
   "name": "python",
   "nbconvert_exporter": "python",
   "pygments_lexer": "ipython3",
   "version": "3.9.7"
  }
 },
 "nbformat": 4,
 "nbformat_minor": 5
}
