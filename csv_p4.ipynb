{
 "cells": [
  {
   "cell_type": "code",
   "execution_count": 1,
   "id": "c0759d4d",
   "metadata": {},
   "outputs": [
    {
     "name": "stderr",
     "output_type": "stream",
     "text": [
      "C:\\d\\anaconda\\lib\\site-packages\\IPython\\core\\interactiveshell.py:3444: DtypeWarning: Columns (0,1,3,4,5,6,7,8,9,10,11,12,13,14,15,16,17,18,19,20,21,22,23,24,25,26,27,28,29,30,31,32,33,34,35,36,37,38,39,40,41,42,43,44,45,46,47,48,49,50,51,52,53,54,55,56,57,58,59,60,61,62,63,64,65,66,67,68,69,70,71,72,73,74,75,76,77,78) have mixed types.Specify dtype option on import or set low_memory=False.\n",
      "  exec(code_obj, self.user_global_ns, self.user_ns)\n"
     ]
    },
    {
     "name": "stdout",
     "output_type": "stream",
     "text": [
      "(1222654, 80)\n",
      "(1222654, 80)\n"
     ]
    }
   ],
   "source": [
    "import numpy as np\n",
    "import pandas as pd\n",
    "from sklearn.model_selection import train_test_split\n",
    "from sklearn.preprocessing import MinMaxScaler, StandardScaler\n",
    "from sklearn.metrics import classification_report\n",
    "from sklearn.svm import OneClassSVM\n",
    "from numpy import array\n",
    "from numpy import argmax\n",
    "from sklearn.preprocessing import LabelEncoder\n",
    "from sklearn.preprocessing import OneHotEncoder\n",
    "df=pd.read_csv(r\"C:\\e\\学习资料\\02-03\\ptrain1.csv\")\n",
    "df.drop_duplicates( keep=False)\n",
    "print ( df.shape)\n",
    "print ( df.shape)"
   ]
  },
  {
   "cell_type": "code",
   "execution_count": 2,
   "id": "650666f5",
   "metadata": {},
   "outputs": [],
   "source": [
    "df.drop_duplicates( keep=False,inplace=True)"
   ]
  },
  {
   "cell_type": "code",
   "execution_count": 8,
   "id": "4749cc15",
   "metadata": {},
   "outputs": [
    {
     "name": "stdout",
     "output_type": "stream",
     "text": [
      "(1174778, 78)\n"
     ]
    }
   ],
   "source": [
    "df.drop('Protocol',axis=1,inplace=True)\n",
    "df.drop('Dst Port',axis=1,inplace=True)\n",
    "print ( df.shape)"
   ]
  },
  {
   "cell_type": "code",
   "execution_count": 9,
   "id": "3a6d643e",
   "metadata": {},
   "outputs": [
    {
     "name": "stdout",
     "output_type": "stream",
     "text": [
      "(1174778, 78)\n",
      "(1174778, 78)\n"
     ]
    }
   ],
   "source": [
    "print ( df.shape )\n",
    "\n",
    "for index in df.columns:\n",
    "    df[index]=df[index].fillna(0)\n",
    "    df[index]=df[index].replace(np.Infinity,1)\n",
    "\n",
    "#X.drop ( columus=[77],axis=1,inplace=True)\n",
    "#X.to_csv(r\"E:\\学习心得\\data\\cic-ids2018\\02-03\\pva1\\pva_1.csv\", header=None,index=0)\n",
    "print (df.shape)\n",
    "\n",
    "df1=df.drop (df[(df.Label=='Benign')].index)\n",
    "df2 = df.drop ( df1.index)"
   ]
  },
  {
   "cell_type": "code",
   "execution_count": 10,
   "id": "4affbcc5",
   "metadata": {},
   "outputs": [
    {
     "name": "stdout",
     "output_type": "stream",
     "text": [
      "(900405, 78)\n"
     ]
    }
   ],
   "source": [
    "print ( df2.shape)"
   ]
  },
  {
   "cell_type": "code",
   "execution_count": 11,
   "id": "f04457de",
   "metadata": {},
   "outputs": [
    {
     "data": {
      "text/plain": [
       "Label\n",
       "Benign    900405\n",
       "dtype: int64"
      ]
     },
     "execution_count": 11,
     "metadata": {},
     "output_type": "execute_result"
    }
   ],
   "source": [
    "df2.value_counts('Label')"
   ]
  },
  {
   "cell_type": "code",
   "execution_count": 12,
   "id": "0dd4a80e",
   "metadata": {},
   "outputs": [
    {
     "name": "stdout",
     "output_type": "stream",
     "text": [
      "Label\n",
      "Benign    180081\n",
      "dtype: int64\n",
      "Label\n",
      "Benign    720324\n",
      "dtype: int64\n"
     ]
    }
   ],
   "source": [
    "benign1=df2.groupby('Label').apply(pd.DataFrame.sample, frac=0.2).reset_index(level='Label', drop=True)\n",
    "benign2= df2.drop ( benign1.index)\n",
    "print ( benign1.value_counts('Label'))\n",
    "print ( benign2.value_counts('Label'))"
   ]
  },
  {
   "cell_type": "code",
   "execution_count": 13,
   "id": "3efee592",
   "metadata": {},
   "outputs": [],
   "source": [
    "benign1.to_csv (r\"C:\\e\\学习资料\\02-03\\data\\data_process\\benign\\benign1.csv\", header=True,index=0 )\n",
    "benign2.to_csv (r\"C:\\e\\学习资料\\02-03\\data\\data_process\\benign\\benign2.csv\", header=True,index=0 )"
   ]
  },
  {
   "cell_type": "code",
   "execution_count": 1,
   "id": "d12f021c",
   "metadata": {},
   "outputs": [
    {
     "name": "stdout",
     "output_type": "stream",
     "text": [
      "Label\n",
      "DoS attacks-Hulk            40187\n",
      "DDOS attack-HOIC            30828\n",
      "DDoS attacks-LOIC-HTTP      21607\n",
      "SSH-Bruteforce              20159\n",
      "Infilteration               18109\n",
      "Bot                         17868\n",
      "FTP-BruteForce              14112\n",
      "DoS attacks-GoldenEye        8302\n",
      "DoS attacks-SlowHTTPTest     6731\n",
      "dtype: int64\n",
      "(177903, 78)\n",
      "(183683, 78)\n"
     ]
    }
   ],
   "source": [
    "import numpy as np\n",
    "import pandas as pd\n",
    "from sklearn.model_selection import train_test_split\n",
    "from sklearn.preprocessing import MinMaxScaler, StandardScaler\n",
    "from sklearn.metrics import classification_report\n",
    "from sklearn.svm import OneClassSVM\n",
    "from numpy import array\n",
    "from numpy import argmax\n",
    "from sklearn.preprocessing import LabelEncoder\n",
    "from sklearn.preprocessing import OneHotEncoder\n",
    "\n",
    "dataset = pd.read_csv(r\"C:\\e\\学习资料\\02-03\\data\\data_process\\3\\split3new_s3.csv\")\n",
    "benign = pd.read_csv(r\"C:\\e\\学习资料\\02-03\\data\\data_process\\benign\\benign3.csv\")\n",
    "print (dataset.value_counts('Label'))\n",
    "print ( dataset.shape )\n",
    "print ( benign.shape )"
   ]
  },
  {
   "cell_type": "code",
   "execution_count": 2,
   "id": "888cd16f",
   "metadata": {},
   "outputs": [
    {
     "name": "stdout",
     "output_type": "stream",
     "text": [
      "(361586, 78)\n"
     ]
    }
   ],
   "source": [
    "merge = dataset.append (benign)\n",
    "print ( merge.shape )"
   ]
  },
  {
   "cell_type": "code",
   "execution_count": 3,
   "id": "444a926a",
   "metadata": {},
   "outputs": [
    {
     "name": "stdout",
     "output_type": "stream",
     "text": [
      "Label\n",
      "Benign                      183683\n",
      "DoS attacks-Hulk             40187\n",
      "DDOS attack-HOIC             30828\n",
      "DDoS attacks-LOIC-HTTP       21607\n",
      "SSH-Bruteforce               20159\n",
      "Infilteration                18109\n",
      "Bot                          17868\n",
      "FTP-BruteForce               14112\n",
      "DoS attacks-GoldenEye         8302\n",
      "DoS attacks-SlowHTTPTest      6731\n",
      "dtype: int64\n"
     ]
    }
   ],
   "source": [
    "print ( merge.value_counts('Label'))"
   ]
  },
  {
   "cell_type": "code",
   "execution_count": 8,
   "id": "53174188",
   "metadata": {},
   "outputs": [
    {
     "name": "stdout",
     "output_type": "stream",
     "text": [
      "Benign                      183683\n",
      "DoS attacks-Hulk             40187\n",
      "DDOS attack-HOIC             30828\n",
      "DDoS attacks-LOIC-HTTP       21607\n",
      "SSH-Bruteforce               20159\n",
      "Infilteration                18109\n",
      "Bot                          17868\n",
      "FTP-BruteForce               14112\n",
      "DoS attacks-GoldenEye         8302\n",
      "DoS attacks-SlowHTTPTest      6731\n",
      "Name: Label, dtype: int64\n",
      "['Bot' 'Bot' 'Bot' ... 'Benign' 'Benign' 'Benign']\n",
      "[[0. 1. 0. ... 0. 0. 0.]\n",
      " [0. 1. 0. ... 0. 0. 0.]\n",
      " [0. 1. 0. ... 0. 0. 0.]\n",
      " ...\n",
      " [1. 0. 0. ... 0. 0. 0.]\n",
      " [1. 0. 0. ... 0. 0. 0.]\n",
      " [1. 0. 0. ... 0. 0. 0.]]\n"
     ]
    }
   ],
   "source": [
    "labelt=merge.Label.copy()\n",
    "print ( labelt.value_counts())\n",
    "arrs=labelt.values\n",
    "d1=np.array(arrs)\n",
    "values = array(d1)\n",
    "print(values)\n",
    "# integer encode\n",
    "label_encoder = LabelEncoder()\n",
    "integer_encoded = label_encoder.fit_transform(values)\n",
    "data3 = pd.DataFrame(integer_encoded) # header:原第一行的索引，index:原第一列的索引\n",
    "#data3.to_csv(r\"E:\\学习心得\\data\\cic-ids2018\\02-03\\ptrain1\\ptrain2_sli2_labeln.csv\",header=None,index=0)\n",
    "# # binary encode\n",
    "onehot_encoder = OneHotEncoder(sparse=False)\n",
    "integer_encoded = integer_encoded.reshape(len(integer_encoded), 1)\n",
    "onehot_encoded = onehot_encoder.fit_transform(integer_encoded)\n",
    "print(onehot_encoded)\n",
    "data4 = pd.DataFrame(onehot_encoded) # header:原第一行的索引，index:原第一列的索引\n",
    "data4.to_csv(r\"C:\\e\\学习资料\\02-03\\data\\data_process\\3\\split3news3_benign.csv\",header=None,index=0)"
   ]
  },
  {
   "cell_type": "code",
   "execution_count": 1,
   "id": "0aab6a29",
   "metadata": {},
   "outputs": [
    {
     "name": "stdout",
     "output_type": "stream",
     "text": [
      "(720324, 78)\n"
     ]
    },
    {
     "data": {
      "text/plain": [
       "Label\n",
       "Benign    720324\n",
       "dtype: int64"
      ]
     },
     "execution_count": 1,
     "metadata": {},
     "output_type": "execute_result"
    }
   ],
   "source": [
    "import numpy as np\n",
    "import pandas as pd\n",
    "from sklearn.model_selection import train_test_split\n",
    "from sklearn.preprocessing import MinMaxScaler, StandardScaler\n",
    "from sklearn.metrics import classification_report\n",
    "from sklearn.svm import OneClassSVM\n",
    "from numpy import array\n",
    "from numpy import argmax\n",
    "from sklearn.preprocessing import LabelEncoder\n",
    "from sklearn.preprocessing import OneHotEncoder\n",
    "df=pd.read_csv(r\"C:\\e\\学习资料\\02-03\\data\\data_process\\benign\\benign2.csv\")\n",
    "#df.drop_duplicates( keep=False)\n",
    "print ( df.shape )\n",
    "df.value_counts('Label')"
   ]
  },
  {
   "cell_type": "code",
   "execution_count": 3,
   "id": "0378c701",
   "metadata": {},
   "outputs": [
    {
     "name": "stdout",
     "output_type": "stream",
     "text": [
      "Label\n",
      "Benign    180081\n",
      "dtype: int64\n",
      "Label\n",
      "Benign    540243\n",
      "dtype: int64\n"
     ]
    }
   ],
   "source": [
    "benign1=df.groupby('Label').apply(pd.DataFrame.sample, frac=0.25).reset_index(level='Label', drop=True)\n",
    "benign2= df.drop ( benign1.index)\n",
    "print ( benign1.value_counts('Label'))\n",
    "print ( benign2.value_counts('Label'))"
   ]
  },
  {
   "cell_type": "code",
   "execution_count": 5,
   "id": "2787cc31",
   "metadata": {},
   "outputs": [
    {
     "name": "stdout",
     "output_type": "stream",
     "text": [
      "Label\n",
      "Benign    183683\n",
      "dtype: int64\n",
      "Label\n",
      "Benign    356560\n",
      "dtype: int64\n"
     ]
    }
   ],
   "source": [
    "benign3=benign2.groupby('Label').apply(pd.DataFrame.sample, frac=0.34).reset_index(level='Label', drop=True)\n",
    "benign4= benign2.drop ( benign3.index)\n",
    "print ( benign3.value_counts('Label'))\n",
    "print ( benign4.value_counts('Label'))"
   ]
  },
  {
   "cell_type": "code",
   "execution_count": 6,
   "id": "1171a95f",
   "metadata": {},
   "outputs": [
    {
     "name": "stdout",
     "output_type": "stream",
     "text": [
      "(180081, 78)\n",
      "(183683, 78)\n"
     ]
    }
   ],
   "source": [
    "print ( benign1.shape )\n",
    "print ( benign3.shape )"
   ]
  },
  {
   "cell_type": "code",
   "execution_count": 7,
   "id": "4ec17eaf",
   "metadata": {},
   "outputs": [],
   "source": [
    "benign1.to_csv (r\"C:\\e\\学习资料\\02-03\\data\\data_process\\benign\\benign2.csv\", header=True,index=0 )\n",
    "benign3.to_csv (r\"C:\\e\\学习资料\\02-03\\data\\data_process\\benign\\benign3.csv\", header=True,index=0 )"
   ]
  },
  {
   "cell_type": "code",
   "execution_count": 8,
   "id": "e03869d1",
   "metadata": {},
   "outputs": [
    {
     "name": "stdout",
     "output_type": "stream",
     "text": [
      "(356560, 78)\n"
     ]
    }
   ],
   "source": [
    "print ( benign4.shape )\n",
    "benign4.to_csv (r\"C:\\e\\学习资料\\02-03\\data\\data_process\\benign\\benign4.csv\", header=True,index=0 )"
   ]
  },
  {
   "cell_type": "code",
   "execution_count": 8,
   "id": "46d66586",
   "metadata": {},
   "outputs": [
    {
     "name": "stdout",
     "output_type": "stream",
     "text": [
      "(14461,)\n",
      "Benign                      7347\n",
      "DoS attacks-Hulk            1607\n",
      "DDOS attack-HOIC            1233\n",
      "DDoS attacks-LOIC-HTTP       864\n",
      "SSH-Bruteforce               806\n",
      "Infilteration                724\n",
      "Bot                          715\n",
      "FTP-BruteForce               564\n",
      "DoS attacks-GoldenEye        332\n",
      "DoS attacks-SlowHTTPTest     269\n",
      "Name: Label, dtype: int64\n"
     ]
    }
   ],
   "source": [
    "labelt=merge.groupby('Label').apply(pd.DataFrame.sample, frac=0.04).reset_index(level='Label', drop=True)\n",
    "lt1=labelt.Label.copy()\n",
    "print ( lt1.shape )\n",
    "print ( lt1.value_counts())"
   ]
  },
  {
   "cell_type": "code",
   "execution_count": 9,
   "id": "a9e5b79d",
   "metadata": {},
   "outputs": [],
   "source": [
    "lt1.to_csv(r\"C:\\e\\学习资料\\02-03\\data\\data_process\\3\\sample.csv\",header=True,index=0)"
   ]
  },
  {
   "cell_type": "code",
   "execution_count": 10,
   "id": "9ce3261d",
   "metadata": {},
   "outputs": [
    {
     "name": "stdout",
     "output_type": "stream",
     "text": [
      "(14461, 1)\n",
      "Label                   \n",
      "Benign                      7347\n",
      "DoS attacks-Hulk            1607\n",
      "DDOS attack-HOIC            1233\n",
      "DDoS attacks-LOIC-HTTP       864\n",
      "SSH-Bruteforce               806\n",
      "Infilteration                724\n",
      "Bot                          715\n",
      "FTP-BruteForce               564\n",
      "DoS attacks-GoldenEye        332\n",
      "DoS attacks-SlowHTTPTest     269\n",
      "dtype: int64\n"
     ]
    }
   ],
   "source": [
    "lt2 = pd.read_csv(r\"C:\\e\\学习资料\\02-03\\data\\data_process\\3\\sample.csv\")\n",
    "print ( lt2.shape )\n",
    "print ( lt2.value_counts())"
   ]
  },
  {
   "cell_type": "code",
   "execution_count": 12,
   "id": "9419797e",
   "metadata": {},
   "outputs": [
    {
     "name": "stdout",
     "output_type": "stream",
     "text": [
      "['Benign' 'Benign' 'Benign' ... 'SSH-Bruteforce' 'SSH-Bruteforce'\n",
      " 'SSH-Bruteforce']\n",
      "[[1. 0. 0. ... 0. 0. 0.]\n",
      " [1. 0. 0. ... 0. 0. 0.]\n",
      " [1. 0. 0. ... 0. 0. 0.]\n",
      " ...\n",
      " [0. 0. 0. ... 0. 0. 1.]\n",
      " [0. 0. 0. ... 0. 0. 1.]\n",
      " [0. 0. 0. ... 0. 0. 1.]]\n"
     ]
    }
   ],
   "source": [
    "arrs=lt1.values\n",
    "d1=np.array(arrs)\n",
    "values = array(d1)\n",
    "print(values)\n",
    "# integer encode\n",
    "label_encoder = LabelEncoder()\n",
    "integer_encoded = label_encoder.fit_transform(values)\n",
    "data3 = pd.DataFrame(integer_encoded) # header:原第一行的索引，index:原第一列的索引\n",
    "#data3.to_csv(r\"E:\\学习心得\\data\\cic-ids2018\\02-03\\ptrain1\\ptrain2_sli2_labeln.csv\",header=None,index=0)\n",
    "# # binary encode\n",
    "onehot_encoder = OneHotEncoder(sparse=False)\n",
    "integer_encoded = integer_encoded.reshape(len(integer_encoded), 1)\n",
    "onehot_encoded = onehot_encoder.fit_transform(integer_encoded)\n",
    "print(onehot_encoded)\n",
    "data4 = pd.DataFrame(onehot_encoded) # header:原第一行的索引，index:原第一列的索引\n",
    "data4.to_csv(r\"C:\\e\\学习资料\\02-03\\data\\data_process\\3\\sample2.csv\",header=None,index=0)"
   ]
  },
  {
   "cell_type": "code",
   "execution_count": null,
   "id": "53f91d1f",
   "metadata": {},
   "outputs": [],
   "source": []
  }
 ],
 "metadata": {
  "kernelspec": {
   "display_name": "Python 3 (ipykernel)",
   "language": "python",
   "name": "python3"
  },
  "language_info": {
   "codemirror_mode": {
    "name": "ipython",
    "version": 3
   },
   "file_extension": ".py",
   "mimetype": "text/x-python",
   "name": "python",
   "nbconvert_exporter": "python",
   "pygments_lexer": "ipython3",
   "version": "3.9.7"
  }
 },
 "nbformat": 4,
 "nbformat_minor": 5
}
